{
 "cells": [
  {
   "cell_type": "markdown",
   "metadata": {
    "slideshow": {
     "slide_type": "slide"
    }
   },
   "source": [
    "# Exercises for Lecture 11 (Introduction to TensorFlow)"
   ]
  },
  {
   "cell_type": "code",
   "execution_count": 1,
   "metadata": {
    "execution": {
     "iopub.execute_input": "2024-01-10T00:20:53.385626Z",
     "iopub.status.busy": "2024-01-10T00:20:53.385246Z",
     "iopub.status.idle": "2024-01-10T00:20:53.392840Z",
     "shell.execute_reply": "2024-01-10T00:20:53.392325Z"
    }
   },
   "outputs": [
    {
     "name": "stdout",
     "output_type": "stream",
     "text": [
      "Last executed: 2024-01-10 00:20:53\n"
     ]
    }
   ],
   "source": [
    "import datetime\n",
    "now = datetime.datetime.now()\n",
    "print(\"Last executed: \" + now.strftime(\"%Y-%m-%d %H:%M:%S\"))"
   ]
  },
  {
   "cell_type": "code",
   "execution_count": 2,
   "metadata": {
    "execution": {
     "iopub.execute_input": "2024-01-10T00:20:53.433364Z",
     "iopub.status.busy": "2024-01-10T00:20:53.432857Z",
     "iopub.status.idle": "2024-01-10T00:20:55.698016Z",
     "shell.execute_reply": "2024-01-10T00:20:55.697315Z"
    }
   },
   "outputs": [
    {
     "name": "stderr",
     "output_type": "stream",
     "text": [
      "2024-01-10 00:20:53.656693: I tensorflow/tsl/cuda/cudart_stub.cc:28] Could not find cuda drivers on your machine, GPU will not be used.\n",
      "2024-01-10 00:20:53.708089: I tensorflow/tsl/cuda/cudart_stub.cc:28] Could not find cuda drivers on your machine, GPU will not be used.\n",
      "2024-01-10 00:20:53.709796: I tensorflow/core/platform/cpu_feature_guard.cc:182] This TensorFlow binary is optimized to use available CPU instructions in performance-critical operations.\n",
      "To enable the following instructions: AVX2 AVX512F FMA, in other operations, rebuild TensorFlow with the appropriate compiler flags.\n"
     ]
    },
    {
     "name": "stderr",
     "output_type": "stream",
     "text": [
      "2024-01-10 00:20:54.552787: W tensorflow/compiler/tf2tensorrt/utils/py_utils.cc:38] TF-TRT Warning: Could not find TensorRT\n"
     ]
    }
   ],
   "source": [
    "import numpy as np\n",
    "import tensorflow as tf"
   ]
  },
  {
   "cell_type": "markdown",
   "metadata": {},
   "source": [
    "## Exercise 1: Linear regression"
   ]
  },
  {
   "cell_type": "markdown",
   "metadata": {},
   "source": [
    "### Load housing data"
   ]
  },
  {
   "cell_type": "markdown",
   "metadata": {},
   "source": [
    "Load the California housing regression dataset."
   ]
  },
  {
   "cell_type": "code",
   "execution_count": 3,
   "metadata": {
    "execution": {
     "iopub.execute_input": "2024-01-10T00:20:55.701858Z",
     "iopub.status.busy": "2024-01-10T00:20:55.701131Z",
     "iopub.status.idle": "2024-01-10T00:20:57.982503Z",
     "shell.execute_reply": "2024-01-10T00:20:57.981819Z"
    }
   },
   "outputs": [
    {
     "data": {
      "text/plain": [
       "(20640, 8)"
      ]
     },
     "execution_count": 3,
     "metadata": {},
     "output_type": "execute_result"
    }
   ],
   "source": [
    "from sklearn.datasets import fetch_california_housing\n",
    "\n",
    "housing = fetch_california_housing()\n",
    "m, n = housing.data.shape\n",
    "(m, n)"
   ]
  },
  {
   "cell_type": "code",
   "execution_count": 4,
   "metadata": {
    "execution": {
     "iopub.execute_input": "2024-01-10T00:20:57.987102Z",
     "iopub.status.busy": "2024-01-10T00:20:57.985534Z",
     "iopub.status.idle": "2024-01-10T00:20:57.992725Z",
     "shell.execute_reply": "2024-01-10T00:20:57.992126Z"
    }
   },
   "outputs": [
    {
     "data": {
      "text/plain": [
       "(20640,)"
      ]
     },
     "execution_count": 4,
     "metadata": {},
     "output_type": "execute_result"
    }
   ],
   "source": [
    "housing.target.shape"
   ]
  },
  {
   "cell_type": "code",
   "execution_count": 5,
   "metadata": {
    "execution": {
     "iopub.execute_input": "2024-01-10T00:20:57.995694Z",
     "iopub.status.busy": "2024-01-10T00:20:57.995157Z",
     "iopub.status.idle": "2024-01-10T00:20:58.000247Z",
     "shell.execute_reply": "2024-01-10T00:20:57.999587Z"
    }
   },
   "outputs": [
    {
     "data": {
      "text/plain": [
       "['MedInc',\n",
       " 'HouseAge',\n",
       " 'AveRooms',\n",
       " 'AveBedrms',\n",
       " 'Population',\n",
       " 'AveOccup',\n",
       " 'Latitude',\n",
       " 'Longitude']"
      ]
     },
     "execution_count": 5,
     "metadata": {},
     "output_type": "execute_result"
    }
   ],
   "source": [
    "housing.feature_names"
   ]
  },
  {
   "cell_type": "markdown",
   "metadata": {},
   "source": [
    "The dataset contains 8 features (displayed above) contained in `housing.data` that can be used to predict house prices (in units of $100,000), which are contained in `housing.targets`."
   ]
  },
  {
   "cell_type": "markdown",
   "metadata": {},
   "source": [
    "### Set up data (add bias and reshape data)"
   ]
  },
  {
   "cell_type": "code",
   "execution_count": 6,
   "metadata": {
    "execution": {
     "iopub.execute_input": "2024-01-10T00:20:58.003322Z",
     "iopub.status.busy": "2024-01-10T00:20:58.002899Z",
     "iopub.status.idle": "2024-01-10T00:20:58.006913Z",
     "shell.execute_reply": "2024-01-10T00:20:58.006000Z"
    }
   },
   "outputs": [],
   "source": [
    "housing_data_plus_bias = np.c_[np.ones((m, 1)), housing.data]\n",
    "housing_data_target = housing.target.reshape(-1, 1)"
   ]
  },
  {
   "cell_type": "code",
   "execution_count": 7,
   "metadata": {
    "execution": {
     "iopub.execute_input": "2024-01-10T00:20:58.009914Z",
     "iopub.status.busy": "2024-01-10T00:20:58.009470Z",
     "iopub.status.idle": "2024-01-10T00:20:58.015880Z",
     "shell.execute_reply": "2024-01-10T00:20:58.015300Z"
    }
   },
   "outputs": [
    {
     "data": {
      "text/plain": [
       "((20640, 1), (20640, 9))"
      ]
     },
     "execution_count": 7,
     "metadata": {},
     "output_type": "execute_result"
    }
   ],
   "source": [
    "housing_data_target.shape, housing_data_plus_bias.shape"
   ]
  },
  {
   "cell_type": "markdown",
   "metadata": {},
   "source": [
    "Fit a linear regression model to the data, using a Scikit Learn LinearRegression model and then by computing the analytic solution using numpy and TensorFlow.  \n",
    "\n",
    "Compare the fitted model between the different computations to ensure you get similar model parameters."
   ]
  },
  {
   "cell_type": "markdown",
   "metadata": {
    "slideshow": {
     "slide_type": "subslide"
    }
   },
   "source": [
    "### Exercise 1a: Fit a linear regression model using Scikit Learn"
   ]
  },
  {
   "cell_type": "markdown",
   "metadata": {},
   "source": [
    "Use the Scikit Learn LinearRegression model."
   ]
  },
  {
   "cell_type": "code",
   "execution_count": 8,
   "metadata": {
    "execution": {
     "iopub.execute_input": "2024-01-10T00:20:58.018912Z",
     "iopub.status.busy": "2024-01-10T00:20:58.018482Z",
     "iopub.status.idle": "2024-01-10T00:20:58.076978Z",
     "shell.execute_reply": "2024-01-10T00:20:58.076383Z"
    },
    "tags": [
     "solution"
    ]
   },
   "outputs": [
    {
     "name": "stdout",
     "output_type": "stream",
     "text": [
      "[[-3.69419202e+01]\n",
      " [ 4.36693293e-01]\n",
      " [ 9.43577803e-03]\n",
      " [-1.07322041e-01]\n",
      " [ 6.45065694e-01]\n",
      " [-3.97638942e-06]\n",
      " [-3.78654265e-03]\n",
      " [-4.21314378e-01]\n",
      " [-4.34513755e-01]]\n"
     ]
    }
   ],
   "source": [
    "from sklearn.linear_model import LinearRegression\n",
    "lin_reg = LinearRegression()\n",
    "lin_reg.fit(housing.data, housing_data_target)\n",
    "print(np.r_[lin_reg.intercept_.reshape(-1, 1), lin_reg.coef_.T])"
   ]
  },
  {
   "cell_type": "markdown",
   "metadata": {
    "slideshow": {
     "slide_type": "subslide"
    }
   },
   "source": [
    "### Exercise 1b: Fit a linear regression model using numpy"
   ]
  },
  {
   "cell_type": "markdown",
   "metadata": {},
   "source": [
    "Solve the normal equations analytically."
   ]
  },
  {
   "cell_type": "code",
   "execution_count": 9,
   "metadata": {
    "execution": {
     "iopub.execute_input": "2024-01-10T00:20:58.080546Z",
     "iopub.status.busy": "2024-01-10T00:20:58.080159Z",
     "iopub.status.idle": "2024-01-10T00:20:58.088123Z",
     "shell.execute_reply": "2024-01-10T00:20:58.087504Z"
    },
    "tags": [
     "solution"
    ]
   },
   "outputs": [
    {
     "name": "stdout",
     "output_type": "stream",
     "text": [
      "[[-3.69419202e+01]\n",
      " [ 4.36693293e-01]\n",
      " [ 9.43577803e-03]\n",
      " [-1.07322041e-01]\n",
      " [ 6.45065694e-01]\n",
      " [-3.97638942e-06]\n",
      " [-3.78654265e-03]\n",
      " [-4.21314378e-01]\n",
      " [-4.34513755e-01]]\n"
     ]
    }
   ],
   "source": [
    "X = housing_data_plus_bias\n",
    "y = housing_data_target\n",
    "theta_numpy = np.linalg.inv(X.T.dot(X)).dot(X.T).dot(y)\n",
    "print(theta_numpy)"
   ]
  },
  {
   "cell_type": "markdown",
   "metadata": {},
   "source": [
    "### Exercise 1c: Fit a linear regression model using TensorFlow"
   ]
  },
  {
   "cell_type": "markdown",
   "metadata": {},
   "source": [
    "Solve the normal equations analytically."
   ]
  },
  {
   "cell_type": "code",
   "execution_count": 10,
   "metadata": {
    "execution": {
     "iopub.execute_input": "2024-01-10T00:20:58.091557Z",
     "iopub.status.busy": "2024-01-10T00:20:58.091186Z",
     "iopub.status.idle": "2024-01-10T00:20:58.123987Z",
     "shell.execute_reply": "2024-01-10T00:20:58.123410Z"
    },
    "tags": [
     "solution"
    ]
   },
   "outputs": [
    {
     "name": "stdout",
     "output_type": "stream",
     "text": [
      "tf.Tensor(\n",
      "[[-3.69419202e+01]\n",
      " [ 4.36693293e-01]\n",
      " [ 9.43577803e-03]\n",
      " [-1.07322041e-01]\n",
      " [ 6.45065694e-01]\n",
      " [-3.97638942e-06]\n",
      " [-3.78654265e-03]\n",
      " [-4.21314378e-01]\n",
      " [-4.34513755e-01]], shape=(9, 1), dtype=float64)\n"
     ]
    }
   ],
   "source": [
    "X = tf.constant(housing_data_plus_bias, dtype=tf.float64, name=\"X\")\n",
    "y = tf.constant(housing_data_target, dtype=tf.float64, name=\"y\")\n",
    "XT = tf.transpose(X)\n",
    "theta_tf = tf.matmul(tf.matmul(tf.linalg.inv(tf.matmul(XT, X)), XT), y)\n",
    "print(theta_tf)"
   ]
  },
  {
   "cell_type": "markdown",
   "metadata": {
    "slideshow": {
     "slide_type": "subslide"
    }
   },
   "source": [
    "## Exercise 2: Compute gradients\n",
    "\n",
    "Compute the partial derivatives of the following function (`my_func`) at `(a,b) = (0.2,0.3)` by:\n",
    "1. numerical integration \n",
    "2. Autodiff in TensorFlow \n",
    "\n",
    "Check you get the same answer in both cases."
   ]
  },
  {
   "cell_type": "code",
   "execution_count": 11,
   "metadata": {
    "execution": {
     "iopub.execute_input": "2024-01-10T00:20:58.128380Z",
     "iopub.status.busy": "2024-01-10T00:20:58.127249Z",
     "iopub.status.idle": "2024-01-10T00:20:58.132229Z",
     "shell.execute_reply": "2024-01-10T00:20:58.131693Z"
    }
   },
   "outputs": [],
   "source": [
    "def my_func(a, b):\n",
    "    z = 0.0\n",
    "    for i in range(100):\n",
    "        z = a * np.cos(z + i) + z * np.sin(b - i)\n",
    "    return z"
   ]
  },
  {
   "cell_type": "markdown",
   "metadata": {},
   "source": [
    "### Compute by numerical integration"
   ]
  },
  {
   "cell_type": "code",
   "execution_count": 12,
   "metadata": {
    "execution": {
     "iopub.execute_input": "2024-01-10T00:20:58.136415Z",
     "iopub.status.busy": "2024-01-10T00:20:58.135321Z",
     "iopub.status.idle": "2024-01-10T00:20:58.144220Z",
     "shell.execute_reply": "2024-01-10T00:20:58.143617Z"
    },
    "tags": [
     "solution"
    ]
   },
   "outputs": [
    {
     "data": {
      "text/plain": [
       "(-1.138390186170457, 0.19675140591134677)"
      ]
     },
     "execution_count": 12,
     "metadata": {},
     "output_type": "execute_result"
    }
   ],
   "source": [
    "delta = 0.01\n",
    "f = my_func\n",
    "df_da = (f(0.2+delta,0.3) - f(0.2-delta,0.3))/(2*delta)\n",
    "df_db = (f(0.2,0.3+delta) - f(0.2,0.3-delta))/(2*delta)\n",
    "df_da, df_db"
   ]
  },
  {
   "cell_type": "markdown",
   "metadata": {},
   "source": [
    "### Compute using Autodiff in TensorFlow"
   ]
  },
  {
   "cell_type": "code",
   "execution_count": 13,
   "metadata": {
    "execution": {
     "iopub.execute_input": "2024-01-10T00:20:58.148368Z",
     "iopub.status.busy": "2024-01-10T00:20:58.147263Z",
     "iopub.status.idle": "2024-01-10T00:20:58.155231Z",
     "shell.execute_reply": "2024-01-10T00:20:58.154684Z"
    },
    "tags": [
     "solution"
    ]
   },
   "outputs": [],
   "source": [
    "a = tf.Variable(0.2, name=\"a\")\n",
    "b = tf.Variable(0.3, name=\"b\")"
   ]
  },
  {
   "cell_type": "code",
   "execution_count": 14,
   "metadata": {
    "execution": {
     "iopub.execute_input": "2024-01-10T00:20:58.159299Z",
     "iopub.status.busy": "2024-01-10T00:20:58.158182Z",
     "iopub.status.idle": "2024-01-10T00:20:58.242389Z",
     "shell.execute_reply": "2024-01-10T00:20:58.241818Z"
    },
    "tags": [
     "solution"
    ]
   },
   "outputs": [
    {
     "name": "stdout",
     "output_type": "stream",
     "text": [
      "[<tf.Tensor: shape=(), dtype=float32, numpy=-1.1388494>, <tf.Tensor: shape=(), dtype=float32, numpy=0.19671395>]\n"
     ]
    }
   ],
   "source": [
    "with tf.GradientTape() as t:\n",
    "    z = 0.0\n",
    "    for i in range(100):\n",
    "        z = a * tf.cos(z + i) + z * tf.sin(b - i)\n",
    "    \n",
    "gradients = t.gradient(z, [a, b])\n",
    "print(gradients)"
   ]
  }
 ],
 "metadata": {
  "celltoolbar": "Tags",
  "kernelspec": {
   "display_name": "Python 3 (ipykernel)",
   "language": "python",
   "name": "python3"
  },
  "language_info": {
   "codemirror_mode": {
    "name": "ipython",
    "version": 3
   },
   "file_extension": ".py",
   "mimetype": "text/x-python",
   "name": "python",
   "nbconvert_exporter": "python",
   "pygments_lexer": "ipython3",
   "version": "3.8.18"
  }
 },
 "nbformat": 4,
 "nbformat_minor": 4
}
