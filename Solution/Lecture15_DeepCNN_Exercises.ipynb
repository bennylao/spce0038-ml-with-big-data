{
 "cells": [
  {
   "cell_type": "markdown",
   "id": "c1c2c049-4d1c-4a46-b035-b3f477aace8d",
   "metadata": {},
   "source": [
    "# Exercises for Lecture 15 (Deep CNN architectures)"
   ]
  },
  {
   "cell_type": "code",
   "execution_count": 1,
   "id": "ea8f9065-2320-422b-8a8c-a55d7fd726a3",
   "metadata": {
    "execution": {
     "iopub.execute_input": "2024-01-10T00:30:31.009318Z",
     "iopub.status.busy": "2024-01-10T00:30:31.009104Z",
     "iopub.status.idle": "2024-01-10T00:30:33.288051Z",
     "shell.execute_reply": "2024-01-10T00:30:33.287321Z"
    }
   },
   "outputs": [
    {
     "name": "stderr",
     "output_type": "stream",
     "text": [
      "2024-01-10 00:30:31.233273: I tensorflow/tsl/cuda/cudart_stub.cc:28] Could not find cuda drivers on your machine, GPU will not be used.\n",
      "2024-01-10 00:30:31.284336: I tensorflow/tsl/cuda/cudart_stub.cc:28] Could not find cuda drivers on your machine, GPU will not be used.\n",
      "2024-01-10 00:30:31.285454: I tensorflow/core/platform/cpu_feature_guard.cc:182] This TensorFlow binary is optimized to use available CPU instructions in performance-critical operations.\n",
      "To enable the following instructions: AVX2 AVX512F FMA, in other operations, rebuild TensorFlow with the appropriate compiler flags.\n"
     ]
    },
    {
     "name": "stderr",
     "output_type": "stream",
     "text": [
      "2024-01-10 00:30:32.130193: W tensorflow/compiler/tf2tensorrt/utils/py_utils.cc:38] TF-TRT Warning: Could not find TensorRT\n"
     ]
    }
   ],
   "source": [
    "import numpy as np\n",
    "import tensorflow as tf\n",
    "from tensorflow import keras\n",
    "from functools import partial\n",
    "\n",
    "# To make this notebook's output stable across runs\n",
    "def reset_state(seed=42):\n",
    "    tf.keras.backend.clear_session()\n",
    "    tf.random.set_seed(seed)\n",
    "    np.random.seed(seed)"
   ]
  },
  {
   "cell_type": "markdown",
   "id": "c5dc69f6-efea-4b71-9746-25ca8d347132",
   "metadata": {
    "slideshow": {
     "slide_type": "subslide"
    }
   },
   "source": [
    "## Exercise 1: Build a ResNet CNN architecture for fashion MNIST."
   ]
  },
  {
   "cell_type": "markdown",
   "id": "9fa998f5-7e8e-4cd6-a335-13a146c49de3",
   "metadata": {},
   "source": [
    "Load and set up data."
   ]
  },
  {
   "cell_type": "code",
   "execution_count": 2,
   "id": "b7fd0854-0e6f-4d4a-838b-506c4a26268c",
   "metadata": {
    "execution": {
     "iopub.execute_input": "2024-01-10T00:30:33.292135Z",
     "iopub.status.busy": "2024-01-10T00:30:33.291382Z",
     "iopub.status.idle": "2024-01-10T00:30:34.139676Z",
     "shell.execute_reply": "2024-01-10T00:30:34.138966Z"
    }
   },
   "outputs": [],
   "source": [
    "# Load fashion MNIST data\n",
    "(X_train_full, y_train_full), (X_test, y_test) = keras.datasets.fashion_mnist.load_data()\n",
    "X_train, X_valid = X_train_full[:-30000], X_train_full[-30000:]\n",
    "y_train, y_valid = y_train_full[:-30000], y_train_full[-30000:]\n",
    "\n",
    "# Standardize\n",
    "X_mean = X_train.mean(axis=0, keepdims=True)\n",
    "X_std = X_train.std(axis=0, keepdims=True) + 1e-7\n",
    "X_train = (X_train - X_mean) / X_std\n",
    "X_valid = (X_valid - X_mean) / X_std\n",
    "X_test = (X_test - X_mean) / X_std\n",
    "\n",
    "# Add final channel axis (one channel)\n",
    "X_train = X_train[..., np.newaxis]\n",
    "X_valid = X_valid[..., np.newaxis]\n",
    "X_test = X_test[..., np.newaxis]"
   ]
  },
  {
   "cell_type": "markdown",
   "id": "4362c522-3172-4fc9-9265-761cccad73cc",
   "metadata": {},
   "source": [
    "Use the subclassing API to define a `ResidualUnit` layer."
   ]
  },
  {
   "cell_type": "code",
   "execution_count": 3,
   "id": "e1843a79-8e3f-4f59-a1b1-ad3e62001c29",
   "metadata": {
    "execution": {
     "iopub.execute_input": "2024-01-10T00:30:34.143432Z",
     "iopub.status.busy": "2024-01-10T00:30:34.142949Z",
     "iopub.status.idle": "2024-01-10T00:30:34.150732Z",
     "shell.execute_reply": "2024-01-10T00:30:34.150113Z"
    },
    "tags": [
     "solution"
    ]
   },
   "outputs": [],
   "source": [
    "DefaultConv2D = partial(keras.layers.Conv2D, kernel_size=3, strides=1,\n",
    "                        padding=\"SAME\", use_bias=False)\n",
    "\n",
    "class ResidualUnit(keras.layers.Layer):\n",
    "    def __init__(self, filters, strides=1, activation=\"relu\", **kwargs):\n",
    "        super().__init__(**kwargs)\n",
    "        self.activation = keras.activations.get(activation)\n",
    "        self.main_layers = [\n",
    "            DefaultConv2D(filters, strides=strides),\n",
    "            keras.layers.BatchNormalization(),\n",
    "            self.activation,\n",
    "            DefaultConv2D(filters),\n",
    "            keras.layers.BatchNormalization()]\n",
    "        self.skip_layers = []\n",
    "        if strides > 1:\n",
    "            self.skip_layers = [\n",
    "                DefaultConv2D(filters, kernel_size=1, strides=strides),\n",
    "                keras.layers.BatchNormalization()]\n",
    "\n",
    "    def call(self, inputs):\n",
    "        Z = inputs\n",
    "        for layer in self.main_layers:\n",
    "            Z = layer(Z)\n",
    "        skip_Z = inputs\n",
    "        for layer in self.skip_layers:\n",
    "            skip_Z = layer(skip_Z)\n",
    "        return self.activation(Z + skip_Z)"
   ]
  },
  {
   "cell_type": "markdown",
   "id": "dd33a8d1-af2f-49cc-ad73-8b447c07955f",
   "metadata": {},
   "source": [
    "Buid a ResNet model using the layer you defined above."
   ]
  },
  {
   "cell_type": "code",
   "execution_count": 4,
   "id": "aec54c81-bec8-4456-9a17-29473978c4b7",
   "metadata": {
    "execution": {
     "iopub.execute_input": "2024-01-10T00:30:34.153968Z",
     "iopub.status.busy": "2024-01-10T00:30:34.153510Z",
     "iopub.status.idle": "2024-01-10T00:30:34.436878Z",
     "shell.execute_reply": "2024-01-10T00:30:34.436191Z"
    },
    "tags": [
     "solution"
    ]
   },
   "outputs": [],
   "source": [
    "model = keras.models.Sequential()\n",
    "model.add(DefaultConv2D(64, kernel_size=7, strides=2,\n",
    "                        input_shape=[28, 28, 1]))\n",
    "model.add(keras.layers.BatchNormalization())\n",
    "model.add(keras.layers.Activation(\"relu\"))\n",
    "model.add(keras.layers.MaxPool2D(pool_size=2, strides=2, padding=\"SAME\"))\n",
    "prev_filters = 64\n",
    "for filters in [64] * 2 + [128] * 2:\n",
    "    strides = 1 if filters == prev_filters else 2\n",
    "    model.add(ResidualUnit(filters, strides=strides))\n",
    "    prev_filters = filters\n",
    "model.add(keras.layers.GlobalAvgPool2D())\n",
    "model.add(keras.layers.Flatten())\n",
    "model.add(keras.layers.Dense(10, activation=\"softmax\"))"
   ]
  },
  {
   "cell_type": "code",
   "execution_count": 5,
   "id": "d4cc36a8-958e-47a9-9902-777bc4879e30",
   "metadata": {
    "execution": {
     "iopub.execute_input": "2024-01-10T00:30:34.441059Z",
     "iopub.status.busy": "2024-01-10T00:30:34.439724Z",
     "iopub.status.idle": "2024-01-10T00:30:34.464285Z",
     "shell.execute_reply": "2024-01-10T00:30:34.463815Z"
    },
    "tags": [
     "solution"
    ]
   },
   "outputs": [
    {
     "name": "stdout",
     "output_type": "stream",
     "text": [
      "Model: \"sequential\"\n"
     ]
    },
    {
     "name": "stdout",
     "output_type": "stream",
     "text": [
      "_________________________________________________________________\n"
     ]
    },
    {
     "name": "stdout",
     "output_type": "stream",
     "text": [
      " Layer (type)                Output Shape              Param #   \n"
     ]
    },
    {
     "name": "stdout",
     "output_type": "stream",
     "text": [
      "=================================================================\n"
     ]
    },
    {
     "name": "stdout",
     "output_type": "stream",
     "text": [
      " conv2d (Conv2D)             (None, 14, 14, 64)        3136      \n"
     ]
    },
    {
     "name": "stdout",
     "output_type": "stream",
     "text": [
      "                                                                 \n"
     ]
    },
    {
     "name": "stdout",
     "output_type": "stream",
     "text": [
      " batch_normalization (Batch  (None, 14, 14, 64)        256       \n"
     ]
    },
    {
     "name": "stdout",
     "output_type": "stream",
     "text": [
      " Normalization)                                                  \n"
     ]
    },
    {
     "name": "stdout",
     "output_type": "stream",
     "text": [
      "                                                                 \n"
     ]
    },
    {
     "name": "stdout",
     "output_type": "stream",
     "text": [
      " activation (Activation)     (None, 14, 14, 64)        0         \n"
     ]
    },
    {
     "name": "stdout",
     "output_type": "stream",
     "text": [
      "                                                                 \n"
     ]
    },
    {
     "name": "stdout",
     "output_type": "stream",
     "text": [
      " max_pooling2d (MaxPooling2  (None, 7, 7, 64)          0         \n"
     ]
    },
    {
     "name": "stdout",
     "output_type": "stream",
     "text": [
      " D)                                                              \n"
     ]
    },
    {
     "name": "stdout",
     "output_type": "stream",
     "text": [
      "                                                                 \n"
     ]
    },
    {
     "name": "stdout",
     "output_type": "stream",
     "text": [
      " residual_unit (ResidualUni  (None, 7, 7, 64)          74240     \n"
     ]
    },
    {
     "name": "stdout",
     "output_type": "stream",
     "text": [
      " t)                                                              \n"
     ]
    },
    {
     "name": "stdout",
     "output_type": "stream",
     "text": [
      "                                                                 \n"
     ]
    },
    {
     "name": "stdout",
     "output_type": "stream",
     "text": [
      " residual_unit_1 (ResidualU  (None, 7, 7, 64)          74240     \n"
     ]
    },
    {
     "name": "stdout",
     "output_type": "stream",
     "text": [
      " nit)                                                            \n"
     ]
    },
    {
     "name": "stdout",
     "output_type": "stream",
     "text": [
      "                                                                 \n"
     ]
    },
    {
     "name": "stdout",
     "output_type": "stream",
     "text": [
      " residual_unit_2 (ResidualU  (None, 4, 4, 128)         230912    \n"
     ]
    },
    {
     "name": "stdout",
     "output_type": "stream",
     "text": [
      " nit)                                                            \n"
     ]
    },
    {
     "name": "stdout",
     "output_type": "stream",
     "text": [
      "                                                                 \n"
     ]
    },
    {
     "name": "stdout",
     "output_type": "stream",
     "text": [
      " residual_unit_3 (ResidualU  (None, 4, 4, 128)         295936    \n"
     ]
    },
    {
     "name": "stdout",
     "output_type": "stream",
     "text": [
      " nit)                                                            \n"
     ]
    },
    {
     "name": "stdout",
     "output_type": "stream",
     "text": [
      "                                                                 \n"
     ]
    },
    {
     "name": "stdout",
     "output_type": "stream",
     "text": [
      " global_average_pooling2d (  (None, 128)               0         \n"
     ]
    },
    {
     "name": "stdout",
     "output_type": "stream",
     "text": [
      " GlobalAveragePooling2D)                                         \n"
     ]
    },
    {
     "name": "stdout",
     "output_type": "stream",
     "text": [
      "                                                                 \n"
     ]
    },
    {
     "name": "stdout",
     "output_type": "stream",
     "text": [
      " flatten (Flatten)           (None, 128)               0         \n"
     ]
    },
    {
     "name": "stdout",
     "output_type": "stream",
     "text": [
      "                                                                 \n"
     ]
    },
    {
     "name": "stdout",
     "output_type": "stream",
     "text": [
      " dense (Dense)               (None, 10)                1290      \n"
     ]
    },
    {
     "name": "stdout",
     "output_type": "stream",
     "text": [
      "                                                                 \n"
     ]
    },
    {
     "name": "stdout",
     "output_type": "stream",
     "text": [
      "=================================================================\n"
     ]
    },
    {
     "name": "stdout",
     "output_type": "stream",
     "text": [
      "Total params: 680010 (2.59 MB)\n"
     ]
    },
    {
     "name": "stdout",
     "output_type": "stream",
     "text": [
      "Trainable params: 678090 (2.59 MB)\n"
     ]
    },
    {
     "name": "stdout",
     "output_type": "stream",
     "text": [
      "Non-trainable params: 1920 (7.50 KB)\n"
     ]
    },
    {
     "name": "stdout",
     "output_type": "stream",
     "text": [
      "_________________________________________________________________\n"
     ]
    }
   ],
   "source": [
    "model.summary()"
   ]
  },
  {
   "cell_type": "markdown",
   "id": "561c8d32-b8e4-426b-8092-7ec79432dde0",
   "metadata": {},
   "source": [
    "Compile your model and train it."
   ]
  },
  {
   "cell_type": "code",
   "execution_count": 6,
   "id": "9073ecc9-3d50-49d8-a7b7-d8724c4b3bee",
   "metadata": {
    "execution": {
     "iopub.execute_input": "2024-01-10T00:30:34.477103Z",
     "iopub.status.busy": "2024-01-10T00:30:34.476864Z",
     "iopub.status.idle": "2024-01-10T00:30:34.490407Z",
     "shell.execute_reply": "2024-01-10T00:30:34.489756Z"
    },
    "tags": [
     "solution"
    ]
   },
   "outputs": [],
   "source": [
    "model.compile(loss=\"sparse_categorical_crossentropy\", optimizer=\"nadam\", metrics=[\"accuracy\"])"
   ]
  },
  {
   "cell_type": "code",
   "execution_count": null,
   "id": "4a8d77d8-c1bc-4232-9013-82df752e21e1",
   "metadata": {
    "execution": {
     "iopub.execute_input": "2024-01-10T00:30:34.493540Z",
     "iopub.status.busy": "2024-01-10T00:30:34.492907Z",
     "iopub.status.idle": "2024-01-10T00:33:30.813746Z",
     "shell.execute_reply": "2024-01-10T00:33:30.813070Z"
    },
    "tags": [
     "solution"
    ]
   },
   "outputs": [],
   "source": [
    "history = model.fit(X_train, y_train, epochs=3, validation_data=(X_valid, y_valid))"
   ]
  },
  {
   "cell_type": "markdown",
   "id": "1159fce2-0749-4170-ab4d-f4b8e0ed6014",
   "metadata": {},
   "source": [
    "Evaluate the model performance on the test set."
   ]
  },
  {
   "cell_type": "code",
   "execution_count": null,
   "id": "fb7322d3-ceee-473d-bdd4-8796b0e7effd",
   "metadata": {
    "execution": {
     "iopub.execute_input": "2024-01-10T00:33:30.817298Z",
     "iopub.status.busy": "2024-01-10T00:33:30.816800Z",
     "iopub.status.idle": "2024-01-10T00:33:33.740705Z",
     "shell.execute_reply": "2024-01-10T00:33:33.740126Z"
    },
    "tags": [
     "solution"
    ]
   },
   "outputs": [],
   "source": [
    "model.evaluate(X_test, y_test)"
   ]
  }
 ],
 "metadata": {
  "kernelspec": {
   "display_name": "Python 3 (ipykernel)",
   "language": "python",
   "name": "python3"
  },
  "language_info": {
   "codemirror_mode": {
    "name": "ipython",
    "version": 3
   },
   "file_extension": ".py",
   "mimetype": "text/x-python",
   "name": "python",
   "nbconvert_exporter": "python",
   "pygments_lexer": "ipython3",
   "version": "3.8.18"
  }
 },
 "nbformat": 4,
 "nbformat_minor": 5
}
