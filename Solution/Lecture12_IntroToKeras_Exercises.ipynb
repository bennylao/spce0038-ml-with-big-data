{
 "cells": [
  {
   "cell_type": "markdown",
   "metadata": {},
   "source": [
    "# Exercises for Lecture 12 (Introduction to Keras)"
   ]
  },
  {
   "cell_type": "code",
   "execution_count": 24,
   "metadata": {
    "execution": {
     "iopub.execute_input": "2024-01-10T00:22:37.883470Z",
     "iopub.status.busy": "2024-01-10T00:22:37.883074Z",
     "iopub.status.idle": "2024-01-10T00:22:37.891836Z",
     "shell.execute_reply": "2024-01-10T00:22:37.891297Z"
    }
   },
   "outputs": [
    {
     "name": "stdout",
     "output_type": "stream",
     "text": [
      "Last executed: 2024-02-28 17:18:07\n"
     ]
    }
   ],
   "source": [
    "import datetime\n",
    "now = datetime.datetime.now()\n",
    "print(\"Last executed: \" + now.strftime(\"%Y-%m-%d %H:%M:%S\"))"
   ]
  },
  {
   "cell_type": "code",
   "execution_count": 25,
   "metadata": {
    "execution": {
     "iopub.execute_input": "2024-01-10T00:22:37.931733Z",
     "iopub.status.busy": "2024-01-10T00:22:37.931229Z",
     "iopub.status.idle": "2024-01-10T00:22:40.474968Z",
     "shell.execute_reply": "2024-01-10T00:22:40.470442Z"
    }
   },
   "outputs": [],
   "source": [
    "import numpy as np\n",
    "import tensorflow as tf\n",
    "from tensorflow import keras\n",
    "np.random.seed(42)\n",
    "tf.random.set_seed(42)\n",
    "%matplotlib inline\n",
    "import matplotlib\n",
    "import matplotlib.pyplot as plt\n",
    "import pandas as pd"
   ]
  },
  {
   "cell_type": "markdown",
   "metadata": {},
   "source": [
    "Consider the California housing regression dataset again."
   ]
  },
  {
   "cell_type": "code",
   "execution_count": 26,
   "metadata": {
    "execution": {
     "iopub.execute_input": "2024-01-10T00:22:40.478908Z",
     "iopub.status.busy": "2024-01-10T00:22:40.478123Z",
     "iopub.status.idle": "2024-01-10T00:22:40.773537Z",
     "shell.execute_reply": "2024-01-10T00:22:40.772838Z"
    }
   },
   "outputs": [],
   "source": [
    "from sklearn.datasets import fetch_california_housing\n",
    "from sklearn.model_selection import train_test_split\n",
    "from sklearn.preprocessing import StandardScaler\n",
    "\n",
    "housing = fetch_california_housing()"
   ]
  },
  {
   "cell_type": "markdown",
   "metadata": {},
   "source": [
    "Split the data into training, validation and test sets."
   ]
  },
  {
   "cell_type": "code",
   "execution_count": 27,
   "metadata": {
    "execution": {
     "iopub.execute_input": "2024-01-10T00:22:40.778150Z",
     "iopub.status.busy": "2024-01-10T00:22:40.776499Z",
     "iopub.status.idle": "2024-01-10T00:22:40.785293Z",
     "shell.execute_reply": "2024-01-10T00:22:40.784678Z"
    }
   },
   "outputs": [],
   "source": [
    "X_train_full, X_test, y_train_full, y_test = train_test_split(housing.data, housing.target, random_state=42)\n",
    "X_train, X_valid, y_train, y_valid = train_test_split(X_train_full, y_train_full, random_state=42)"
   ]
  },
  {
   "cell_type": "markdown",
   "metadata": {},
   "source": [
    "Scale features to standardise."
   ]
  },
  {
   "cell_type": "code",
   "execution_count": 28,
   "metadata": {
    "execution": {
     "iopub.execute_input": "2024-01-10T00:22:40.788483Z",
     "iopub.status.busy": "2024-01-10T00:22:40.787928Z",
     "iopub.status.idle": "2024-01-10T00:22:40.796696Z",
     "shell.execute_reply": "2024-01-10T00:22:40.796081Z"
    }
   },
   "outputs": [],
   "source": [
    "scaler = StandardScaler()\n",
    "X_train = scaler.fit_transform(X_train)\n",
    "X_valid = scaler.transform(X_valid)\n",
    "X_test = scaler.transform(X_test)"
   ]
  },
  {
   "cell_type": "markdown",
   "metadata": {},
   "source": [
    "## Exercise 1: Build a regression model using the Sequential API"
   ]
  },
  {
   "cell_type": "markdown",
   "metadata": {},
   "source": [
    "Build a sequential model to estimate house prices with one hidden layer with 30 neurons and a ReLU activation function."
   ]
  },
  {
   "cell_type": "code",
   "execution_count": 29,
   "metadata": {
    "execution": {
     "iopub.execute_input": "2024-01-10T00:22:40.800567Z",
     "iopub.status.busy": "2024-01-10T00:22:40.799289Z",
     "iopub.status.idle": "2024-01-10T00:22:40.871062Z",
     "shell.execute_reply": "2024-01-10T00:22:40.870348Z"
    },
    "tags": [
     "solution"
    ]
   },
   "outputs": [
    {
     "name": "stdout",
     "output_type": "stream",
     "text": [
      "Model: \"sequential_7\"\n",
      "_________________________________________________________________\n",
      " Layer (type)                Output Shape              Param #   \n",
      "=================================================================\n",
      " dense_14 (Dense)            (None, 30)                270       \n",
      "                                                                 \n",
      " dense_15 (Dense)            (None, 1)                 31        \n",
      "                                                                 \n",
      "=================================================================\n",
      "Total params: 301 (1.18 KB)\n",
      "Trainable params: 301 (1.18 KB)\n",
      "Non-trainable params: 0 (0.00 Byte)\n",
      "_________________________________________________________________\n",
      "None\n",
      "(8,)\n"
     ]
    }
   ],
   "source": [
    "model = keras.models.Sequential([\n",
    "    keras.layers.Dense(30, activation=\"relu\", input_shape=X_train.shape[1:]),\n",
    "    keras.layers.Dense(1)\n",
    "])\n",
    "print(model.summary())\n",
    "print(X_train.shape[1:])"
   ]
  },
  {
   "cell_type": "markdown",
   "metadata": {},
   "source": [
    "Compile the model with a mean squared error loss fucntion and a SGD optimiser with a learning rate of 1e-3."
   ]
  },
  {
   "cell_type": "code",
   "execution_count": 30,
   "metadata": {
    "execution": {
     "iopub.execute_input": "2024-01-10T00:22:40.875970Z",
     "iopub.status.busy": "2024-01-10T00:22:40.874265Z",
     "iopub.status.idle": "2024-01-10T00:22:40.887280Z",
     "shell.execute_reply": "2024-01-10T00:22:40.886659Z"
    },
    "tags": [
     "solution"
    ]
   },
   "outputs": [],
   "source": [
    "model.compile(loss=\"mean_squared_error\", optimizer=keras.optimizers.legacy.SGD(learning_rate=1e-4))"
   ]
  },
  {
   "cell_type": "markdown",
   "metadata": {},
   "source": [
    "Fit the model over 20 epochs, evaluting it on the validation data during training."
   ]
  },
  {
   "cell_type": "code",
   "execution_count": 31,
   "metadata": {
    "execution": {
     "iopub.execute_input": "2024-01-10T00:22:40.890562Z",
     "iopub.status.busy": "2024-01-10T00:22:40.890100Z",
     "iopub.status.idle": "2024-01-10T00:22:51.546246Z",
     "shell.execute_reply": "2024-01-10T00:22:51.545531Z"
    },
    "tags": [
     "solution"
    ]
   },
   "outputs": [
    {
     "name": "stdout",
     "output_type": "stream",
     "text": [
      "Epoch 1/20\n"
     ]
    },
    {
     "name": "stdout",
     "output_type": "stream",
     "text": [
      "363/363 [==============================] - 1s 1ms/step - loss: 4.7472 - val_loss: 5.1879\n",
      "Epoch 2/20\n",
      "363/363 [==============================] - 0s 897us/step - loss: 3.5941 - val_loss: 5.0837\n",
      "Epoch 3/20\n",
      "363/363 [==============================] - 0s 885us/step - loss: 2.8502 - val_loss: 4.9631\n",
      "Epoch 4/20\n",
      "363/363 [==============================] - 0s 858us/step - loss: 2.3424 - val_loss: 4.6981\n",
      "Epoch 5/20\n",
      "363/363 [==============================] - 0s 855us/step - loss: 1.9774 - val_loss: 4.3258\n",
      "Epoch 6/20\n",
      "363/363 [==============================] - 0s 880us/step - loss: 1.7052 - val_loss: 3.9154\n",
      "Epoch 7/20\n",
      "363/363 [==============================] - 0s 856us/step - loss: 1.4975 - val_loss: 3.4768\n",
      "Epoch 8/20\n",
      "363/363 [==============================] - 0s 895us/step - loss: 1.3361 - val_loss: 3.0458\n",
      "Epoch 9/20\n",
      "363/363 [==============================] - 0s 849us/step - loss: 1.2086 - val_loss: 2.6510\n",
      "Epoch 10/20\n",
      "363/363 [==============================] - 0s 942us/step - loss: 1.1072 - val_loss: 2.2979\n",
      "Epoch 11/20\n",
      "363/363 [==============================] - 0s 866us/step - loss: 1.0262 - val_loss: 1.9786\n",
      "Epoch 12/20\n",
      "363/363 [==============================] - 0s 869us/step - loss: 0.9615 - val_loss: 1.7121\n",
      "Epoch 13/20\n",
      "363/363 [==============================] - 0s 853us/step - loss: 0.9097 - val_loss: 1.4833\n",
      "Epoch 14/20\n",
      "363/363 [==============================] - 0s 861us/step - loss: 0.8681 - val_loss: 1.2968\n",
      "Epoch 15/20\n",
      "363/363 [==============================] - 0s 866us/step - loss: 0.8346 - val_loss: 1.1459\n",
      "Epoch 16/20\n",
      "363/363 [==============================] - 0s 864us/step - loss: 0.8076 - val_loss: 1.0244\n",
      "Epoch 17/20\n",
      "363/363 [==============================] - 0s 924us/step - loss: 0.7856 - val_loss: 0.9297\n",
      "Epoch 18/20\n",
      "363/363 [==============================] - 0s 884us/step - loss: 0.7675 - val_loss: 0.8592\n",
      "Epoch 19/20\n",
      "363/363 [==============================] - 0s 876us/step - loss: 0.7525 - val_loss: 0.8064\n",
      "Epoch 20/20\n",
      "363/363 [==============================] - 0s 855us/step - loss: 0.7399 - val_loss: 0.7685\n"
     ]
    }
   ],
   "source": [
    "history = model.fit(X_train, y_train, epochs=20, validation_data=(X_valid, y_valid))"
   ]
  },
  {
   "cell_type": "markdown",
   "metadata": {},
   "source": [
    "Evaluate the model on the test data."
   ]
  },
  {
   "cell_type": "code",
   "execution_count": 32,
   "metadata": {
    "execution": {
     "iopub.execute_input": "2024-01-10T00:22:51.549707Z",
     "iopub.status.busy": "2024-01-10T00:22:51.549295Z",
     "iopub.status.idle": "2024-01-10T00:22:51.724894Z",
     "shell.execute_reply": "2024-01-10T00:22:51.724251Z"
    },
    "tags": [
     "solution"
    ]
   },
   "outputs": [
    {
     "name": "stdout",
     "output_type": "stream",
     "text": [
      "162/162 [==============================] - 0s 619us/step - loss: 0.7267\n"
     ]
    }
   ],
   "source": [
    "mse_test = model.evaluate(X_test, y_test)"
   ]
  },
  {
   "cell_type": "markdown",
   "metadata": {},
   "source": [
    "Make direct predictions on the first three instances in the test set."
   ]
  },
  {
   "cell_type": "code",
   "execution_count": 33,
   "metadata": {
    "execution": {
     "iopub.execute_input": "2024-01-10T00:22:51.728215Z",
     "iopub.status.busy": "2024-01-10T00:22:51.727638Z",
     "iopub.status.idle": "2024-01-10T00:22:51.831631Z",
     "shell.execute_reply": "2024-01-10T00:22:51.831066Z"
    },
    "tags": [
     "solution"
    ]
   },
   "outputs": [
    {
     "name": "stdout",
     "output_type": "stream",
     "text": [
      "1/1 [==============================] - 0s 38ms/step\n"
     ]
    },
    {
     "data": {
      "text/plain": [
       "array([[0.7252618],\n",
       "       [1.0801247],\n",
       "       [1.868783 ]], dtype=float32)"
      ]
     },
     "execution_count": 33,
     "metadata": {},
     "output_type": "execute_result"
    }
   ],
   "source": [
    "X_new = X_test[:3]\n",
    "y_pred = model.predict(X_new)\n",
    "y_pred"
   ]
  },
  {
   "cell_type": "markdown",
   "metadata": {},
   "source": [
    "Plot the model history."
   ]
  },
  {
   "cell_type": "code",
   "execution_count": 34,
   "metadata": {
    "execution": {
     "iopub.execute_input": "2024-01-10T00:22:51.834978Z",
     "iopub.status.busy": "2024-01-10T00:22:51.834499Z",
     "iopub.status.idle": "2024-01-10T00:22:52.018638Z",
     "shell.execute_reply": "2024-01-10T00:22:52.017922Z"
    },
    "tags": [
     "solution"
    ]
   },
   "outputs": [
    {
     "data": {
      "image/png": "[encoded data removed]",
      "text/plain": [
       "<Figure size 800x500 with 1 Axes>"
      ]
     },
     "metadata": {},
     "output_type": "display_data"
    }
   ],
   "source": [
    "pd.DataFrame(history.history).plot(figsize=(8, 5))\n",
    "plt.grid(True)\n",
    "#plt.gca().set_ylim(0, 2)\n",
    "plt.xlabel(\"Epochs\")\n",
    "plt.show()"
   ]
  }
 ],
 "metadata": {
  "celltoolbar": "Tags",
  "kernelspec": {
   "display_name": "Python 3 (ipykernel)",
   "language": "python",
   "name": "python3"
  },
  "language_info": {
   "codemirror_mode": {
    "name": "ipython",
    "version": 3
   },
   "file_extension": ".py",
   "mimetype": "text/x-python",
   "name": "python",
   "nbconvert_exporter": "python",
   "pygments_lexer": "ipython3",
   "version": "3.11.7"
  }
 },
 "nbformat": 4,
 "nbformat_minor": 4
}
