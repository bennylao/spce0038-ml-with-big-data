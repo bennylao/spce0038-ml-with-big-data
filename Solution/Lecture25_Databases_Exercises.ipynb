{
 "cells": [
  {
   "cell_type": "markdown",
   "id": "05de90a7",
   "metadata": {},
   "source": [
    "# SQL Exercises\n",
    "\n",
    "This exercise is about using SQL to retrieve information from a database.\n",
    "\n",
    "We will work with a pandas dataframe and use pandas' built-in support for interacting with SQL databases via the `sqlite3` standard library module."
   ]
  },
  {
   "cell_type": "markdown",
   "id": "6e6379bc",
   "metadata": {},
   "source": [
    "## Examples"
   ]
  },
  {
   "cell_type": "markdown",
   "id": "2a949a55",
   "metadata": {},
   "source": [
    "We first define a couple of helper functions to open a database connection to a temporary file and to convert the output of a `sqlite3` query to a pandas dataframe to allow us to exploit the rich display of dataframes as HTML tables in Jupyter."
   ]
  },
  {
   "cell_type": "code",
   "execution_count": 1,
   "id": "d89b14d8",
   "metadata": {
    "execution": {
     "iopub.execute_input": "2024-01-10T00:49:00.753180Z",
     "iopub.status.busy": "2024-01-10T00:49:00.752962Z",
     "iopub.status.idle": "2024-01-10T00:49:01.069727Z",
     "shell.execute_reply": "2024-01-10T00:49:01.069035Z"
    }
   },
   "outputs": [],
   "source": [
    "import sqlite3\n",
    "import pandas as pd\n",
    "import tempfile\n",
    "\n",
    "def create_temporary_database_connection() -> sqlite3.Connection:\n",
    "    temporary_file = tempfile.NamedTemporaryFile()\n",
    "    return sqlite3.connect(temporary_file.name), temporary_file\n",
    "\n",
    "def sqlite3_cursor_to_dataframe(cursor: sqlite3.Cursor) -> pd.DataFrame:\n",
    "    dataframe = pd.DataFrame(\n",
    "        data=cursor.fetchall(),\n",
    "        columns=[c[0] for c in cursor.description],\n",
    "    )\n",
    "    if \"index\" in dataframe.columns:\n",
    "        dataframe.set_index(\"index\", inplace=True)\n",
    "        dataframe.index.name = \"\"\n",
    "    return dataframe\n"
   ]
  },
  {
   "cell_type": "markdown",
   "id": "b25d3829",
   "metadata": {},
   "source": [
    "As an initial quick demonstration, we will create a simple dataframe with `pandas`, and then use the `DataFrame.to_sql` method to write the dataframe to a temporary database connection as a table `example_table`."
   ]
  },
  {
   "cell_type": "code",
   "execution_count": 2,
   "id": "76adbbb1",
   "metadata": {
    "execution": {
     "iopub.execute_input": "2024-01-10T00:49:01.074642Z",
     "iopub.status.busy": "2024-01-10T00:49:01.073221Z",
     "iopub.status.idle": "2024-01-10T00:49:01.091942Z",
     "shell.execute_reply": "2024-01-10T00:49:01.091223Z"
    }
   },
   "outputs": [
    {
     "data": {
      "text/plain": [
       "3"
      ]
     },
     "execution_count": 2,
     "metadata": {},
     "output_type": "execute_result"
    }
   ],
   "source": [
    "dataframe = pd.DataFrame({\"numeric\": [0, 1, 2], \"text\": [\"A\", \"B\", \"C\"]})\n",
    "\n",
    "connection, temporary_file = create_temporary_database_connection()\n",
    "\n",
    "dataframe.to_sql(\"example_table\", con=connection)"
   ]
  },
  {
   "cell_type": "markdown",
   "id": "0a1ce918",
   "metadata": {},
   "source": [
    "As a first example of running an SQL query on the resulting database table, let's retrieve all values."
   ]
  },
  {
   "cell_type": "code",
   "execution_count": 3,
   "id": "834c86c6",
   "metadata": {
    "execution": {
     "iopub.execute_input": "2024-01-10T00:49:01.095354Z",
     "iopub.status.busy": "2024-01-10T00:49:01.094754Z",
     "iopub.status.idle": "2024-01-10T00:49:01.105918Z",
     "shell.execute_reply": "2024-01-10T00:49:01.105311Z"
    }
   },
   "outputs": [
    {
     "data": {
      "text/html": [
       "<div>\n",
       "<style scoped>\n",
       "    .dataframe tbody tr th:only-of-type {\n",
       "        vertical-align: middle;\n",
       "    }\n",
       "\n",
       "    .dataframe tbody tr th {\n",
       "        vertical-align: top;\n",
       "    }\n",
       "\n",
       "    .dataframe thead th {\n",
       "        text-align: right;\n",
       "    }\n",
       "</style>\n",
       "<table border=\"1\" class=\"dataframe\">\n",
       "  <thead>\n",
       "    <tr style=\"text-align: right;\">\n",
       "      <th></th>\n",
       "      <th>numeric</th>\n",
       "      <th>text</th>\n",
       "    </tr>\n",
       "    <tr>\n",
       "      <th></th>\n",
       "      <th></th>\n",
       "      <th></th>\n",
       "    </tr>\n",
       "  </thead>\n",
       "  <tbody>\n",
       "    <tr>\n",
       "      <th>0</th>\n",
       "      <td>0</td>\n",
       "      <td>A</td>\n",
       "    </tr>\n",
       "    <tr>\n",
       "      <th>1</th>\n",
       "      <td>1</td>\n",
       "      <td>B</td>\n",
       "    </tr>\n",
       "    <tr>\n",
       "      <th>2</th>\n",
       "      <td>2</td>\n",
       "      <td>C</td>\n",
       "    </tr>\n",
       "  </tbody>\n",
       "</table>\n",
       "</div>"
      ],
      "text/plain": [
       "   numeric text\n",
       "               \n",
       "0        0    A\n",
       "1        1    B\n",
       "2        2    C"
      ]
     },
     "execution_count": 3,
     "metadata": {},
     "output_type": "execute_result"
    }
   ],
   "source": [
    "results = connection.execute(\"\"\"\n",
    "    SELECT *\n",
    "    FROM example_table\n",
    "\"\"\")\n",
    "\n",
    "sqlite3_cursor_to_dataframe(results)"
   ]
  },
  {
   "cell_type": "markdown",
   "id": "193e12de",
   "metadata": {},
   "source": [
    "We can also retrieve particular rows that match a condition:"
   ]
  },
  {
   "cell_type": "code",
   "execution_count": 4,
   "id": "5caf0ce0",
   "metadata": {
    "execution": {
     "iopub.execute_input": "2024-01-10T00:49:01.109127Z",
     "iopub.status.busy": "2024-01-10T00:49:01.108660Z",
     "iopub.status.idle": "2024-01-10T00:49:01.117675Z",
     "shell.execute_reply": "2024-01-10T00:49:01.117072Z"
    }
   },
   "outputs": [
    {
     "data": {
      "text/html": [
       "<div>\n",
       "<style scoped>\n",
       "    .dataframe tbody tr th:only-of-type {\n",
       "        vertical-align: middle;\n",
       "    }\n",
       "\n",
       "    .dataframe tbody tr th {\n",
       "        vertical-align: top;\n",
       "    }\n",
       "\n",
       "    .dataframe thead th {\n",
       "        text-align: right;\n",
       "    }\n",
       "</style>\n",
       "<table border=\"1\" class=\"dataframe\">\n",
       "  <thead>\n",
       "    <tr style=\"text-align: right;\">\n",
       "      <th></th>\n",
       "      <th>numeric</th>\n",
       "      <th>text</th>\n",
       "    </tr>\n",
       "    <tr>\n",
       "      <th></th>\n",
       "      <th></th>\n",
       "      <th></th>\n",
       "    </tr>\n",
       "  </thead>\n",
       "  <tbody>\n",
       "    <tr>\n",
       "      <th>0</th>\n",
       "      <td>0</td>\n",
       "      <td>A</td>\n",
       "    </tr>\n",
       "  </tbody>\n",
       "</table>\n",
       "</div>"
      ],
      "text/plain": [
       "   numeric text\n",
       "               \n",
       "0        0    A"
      ]
     },
     "execution_count": 4,
     "metadata": {},
     "output_type": "execute_result"
    }
   ],
   "source": [
    "sqlite3_cursor_to_dataframe(\n",
    "    connection.execute(\n",
    "        \"\"\"\n",
    "        SELECT *\n",
    "        FROM example_table\n",
    "        WHERE numeric=0\n",
    "        \"\"\"\n",
    "    )\n",
    ")"
   ]
  },
  {
   "cell_type": "markdown",
   "id": "f6804753",
   "metadata": {},
   "source": [
    "and columns:"
   ]
  },
  {
   "cell_type": "code",
   "execution_count": 5,
   "id": "5dfef897",
   "metadata": {
    "execution": {
     "iopub.execute_input": "2024-01-10T00:49:01.120898Z",
     "iopub.status.busy": "2024-01-10T00:49:01.120325Z",
     "iopub.status.idle": "2024-01-10T00:49:01.127865Z",
     "shell.execute_reply": "2024-01-10T00:49:01.127204Z"
    }
   },
   "outputs": [
    {
     "data": {
      "text/html": [
       "<div>\n",
       "<style scoped>\n",
       "    .dataframe tbody tr th:only-of-type {\n",
       "        vertical-align: middle;\n",
       "    }\n",
       "\n",
       "    .dataframe tbody tr th {\n",
       "        vertical-align: top;\n",
       "    }\n",
       "\n",
       "    .dataframe thead th {\n",
       "        text-align: right;\n",
       "    }\n",
       "</style>\n",
       "<table border=\"1\" class=\"dataframe\">\n",
       "  <thead>\n",
       "    <tr style=\"text-align: right;\">\n",
       "      <th></th>\n",
       "      <th>numeric</th>\n",
       "    </tr>\n",
       "  </thead>\n",
       "  <tbody>\n",
       "    <tr>\n",
       "      <th>0</th>\n",
       "      <td>0</td>\n",
       "    </tr>\n",
       "    <tr>\n",
       "      <th>1</th>\n",
       "      <td>1</td>\n",
       "    </tr>\n",
       "    <tr>\n",
       "      <th>2</th>\n",
       "      <td>2</td>\n",
       "    </tr>\n",
       "  </tbody>\n",
       "</table>\n",
       "</div>"
      ],
      "text/plain": [
       "   numeric\n",
       "0        0\n",
       "1        1\n",
       "2        2"
      ]
     },
     "execution_count": 5,
     "metadata": {},
     "output_type": "execute_result"
    }
   ],
   "source": [
    "sqlite3_cursor_to_dataframe(\n",
    "    connection.execute(\n",
    "        \"\"\"\n",
    "        SELECT numeric\n",
    "        FROM example_table\n",
    "        \"\"\"\n",
    "    )\n",
    ")"
   ]
  },
  {
   "cell_type": "markdown",
   "id": "d8bbf167",
   "metadata": {},
   "source": [
    "We clean-up the database connection and associated temporary file."
   ]
  },
  {
   "cell_type": "code",
   "execution_count": 6,
   "id": "fd4fe02d",
   "metadata": {
    "execution": {
     "iopub.execute_input": "2024-01-10T00:49:01.131071Z",
     "iopub.status.busy": "2024-01-10T00:49:01.130507Z",
     "iopub.status.idle": "2024-01-10T00:49:01.134977Z",
     "shell.execute_reply": "2024-01-10T00:49:01.134453Z"
    }
   },
   "outputs": [],
   "source": [
    "connection.close()\n",
    "temporary_file.close()"
   ]
  },
  {
   "cell_type": "markdown",
   "id": "2b552199",
   "metadata": {},
   "source": [
    "Now let's get started with the exercises. First, let's download a dataset from `scikit-learn`."
   ]
  },
  {
   "cell_type": "code",
   "execution_count": 7,
   "id": "98058baf",
   "metadata": {
    "execution": {
     "iopub.execute_input": "2024-01-10T00:49:01.137966Z",
     "iopub.status.busy": "2024-01-10T00:49:01.137527Z",
     "iopub.status.idle": "2024-01-10T00:49:01.515173Z",
     "shell.execute_reply": "2024-01-10T00:49:01.514468Z"
    }
   },
   "outputs": [],
   "source": [
    "from sklearn.datasets import fetch_california_housing\n",
    "data_california = fetch_california_housing()"
   ]
  },
  {
   "cell_type": "markdown",
   "id": "0a0698d1",
   "metadata": {},
   "source": [
    "Let's convert this to a dataframe so we can play with it:"
   ]
  },
  {
   "cell_type": "code",
   "execution_count": 8,
   "id": "36aa4f80",
   "metadata": {
    "execution": {
     "iopub.execute_input": "2024-01-10T00:49:01.519089Z",
     "iopub.status.busy": "2024-01-10T00:49:01.518333Z",
     "iopub.status.idle": "2024-01-10T00:49:01.531732Z",
     "shell.execute_reply": "2024-01-10T00:49:01.531181Z"
    }
   },
   "outputs": [
    {
     "data": {
      "text/html": [
       "<div>\n",
       "<style scoped>\n",
       "    .dataframe tbody tr th:only-of-type {\n",
       "        vertical-align: middle;\n",
       "    }\n",
       "\n",
       "    .dataframe tbody tr th {\n",
       "        vertical-align: top;\n",
       "    }\n",
       "\n",
       "    .dataframe thead th {\n",
       "        text-align: right;\n",
       "    }\n",
       "</style>\n",
       "<table border=\"1\" class=\"dataframe\">\n",
       "  <thead>\n",
       "    <tr style=\"text-align: right;\">\n",
       "      <th></th>\n",
       "      <th>MedInc</th>\n",
       "      <th>HouseAge</th>\n",
       "      <th>AveRooms</th>\n",
       "      <th>AveBedrms</th>\n",
       "      <th>Population</th>\n",
       "      <th>AveOccup</th>\n",
       "      <th>Latitude</th>\n",
       "      <th>Longitude</th>\n",
       "      <th>target</th>\n",
       "    </tr>\n",
       "  </thead>\n",
       "  <tbody>\n",
       "    <tr>\n",
       "      <th>0</th>\n",
       "      <td>8.3252</td>\n",
       "      <td>41.0</td>\n",
       "      <td>6.984127</td>\n",
       "      <td>1.023810</td>\n",
       "      <td>322.0</td>\n",
       "      <td>2.555556</td>\n",
       "      <td>37.88</td>\n",
       "      <td>-122.23</td>\n",
       "      <td>4.526</td>\n",
       "    </tr>\n",
       "    <tr>\n",
       "      <th>1</th>\n",
       "      <td>8.3014</td>\n",
       "      <td>21.0</td>\n",
       "      <td>6.238137</td>\n",
       "      <td>0.971880</td>\n",
       "      <td>2401.0</td>\n",
       "      <td>2.109842</td>\n",
       "      <td>37.86</td>\n",
       "      <td>-122.22</td>\n",
       "      <td>3.585</td>\n",
       "    </tr>\n",
       "    <tr>\n",
       "      <th>2</th>\n",
       "      <td>7.2574</td>\n",
       "      <td>52.0</td>\n",
       "      <td>8.288136</td>\n",
       "      <td>1.073446</td>\n",
       "      <td>496.0</td>\n",
       "      <td>2.802260</td>\n",
       "      <td>37.85</td>\n",
       "      <td>-122.24</td>\n",
       "      <td>3.521</td>\n",
       "    </tr>\n",
       "    <tr>\n",
       "      <th>3</th>\n",
       "      <td>5.6431</td>\n",
       "      <td>52.0</td>\n",
       "      <td>5.817352</td>\n",
       "      <td>1.073059</td>\n",
       "      <td>558.0</td>\n",
       "      <td>2.547945</td>\n",
       "      <td>37.85</td>\n",
       "      <td>-122.25</td>\n",
       "      <td>3.413</td>\n",
       "    </tr>\n",
       "    <tr>\n",
       "      <th>4</th>\n",
       "      <td>3.8462</td>\n",
       "      <td>52.0</td>\n",
       "      <td>6.281853</td>\n",
       "      <td>1.081081</td>\n",
       "      <td>565.0</td>\n",
       "      <td>2.181467</td>\n",
       "      <td>37.85</td>\n",
       "      <td>-122.25</td>\n",
       "      <td>3.422</td>\n",
       "    </tr>\n",
       "  </tbody>\n",
       "</table>\n",
       "</div>"
      ],
      "text/plain": [
       "   MedInc  HouseAge  AveRooms  AveBedrms  Population  AveOccup  Latitude  \\\n",
       "0  8.3252      41.0  6.984127   1.023810       322.0  2.555556     37.88   \n",
       "1  8.3014      21.0  6.238137   0.971880      2401.0  2.109842     37.86   \n",
       "2  7.2574      52.0  8.288136   1.073446       496.0  2.802260     37.85   \n",
       "3  5.6431      52.0  5.817352   1.073059       558.0  2.547945     37.85   \n",
       "4  3.8462      52.0  6.281853   1.081081       565.0  2.181467     37.85   \n",
       "\n",
       "   Longitude  target  \n",
       "0    -122.23   4.526  \n",
       "1    -122.22   3.585  \n",
       "2    -122.24   3.521  \n",
       "3    -122.25   3.413  \n",
       "4    -122.25   3.422  "
      ]
     },
     "execution_count": 8,
     "metadata": {},
     "output_type": "execute_result"
    }
   ],
   "source": [
    "california = pd.DataFrame(data=data_california.data, columns=data_california.feature_names)\n",
    "california['target'] = data_california.target\n",
    "california.head()"
   ]
  },
  {
   "cell_type": "markdown",
   "id": "4882d51b",
   "metadata": {},
   "source": [
    "And as before we create a temporary file and database connection and write the dataframe to it as a new table"
   ]
  },
  {
   "cell_type": "code",
   "execution_count": 9,
   "id": "f7cc4d89",
   "metadata": {
    "execution": {
     "iopub.execute_input": "2024-01-10T00:49:01.534653Z",
     "iopub.status.busy": "2024-01-10T00:49:01.534189Z",
     "iopub.status.idle": "2024-01-10T00:49:01.614287Z",
     "shell.execute_reply": "2024-01-10T00:49:01.613591Z"
    }
   },
   "outputs": [],
   "source": [
    "connection, temporary_file = create_temporary_database_connection()\n",
    "\n",
    "_ = california.to_sql(\"california\", con=connection)"
   ]
  },
  {
   "cell_type": "markdown",
   "id": "dd1f8ad1",
   "metadata": {},
   "source": [
    "## Finding rows with high target variable\n",
    "\n",
    "We can query this to find the rows with `target` value greater than 4:"
   ]
  },
  {
   "cell_type": "code",
   "execution_count": 10,
   "id": "79bedfee",
   "metadata": {
    "execution": {
     "iopub.execute_input": "2024-01-10T00:49:01.617901Z",
     "iopub.status.busy": "2024-01-10T00:49:01.617312Z",
     "iopub.status.idle": "2024-01-10T00:49:01.641817Z",
     "shell.execute_reply": "2024-01-10T00:49:01.641147Z"
    },
    "tags": [
     "solution"
    ]
   },
   "outputs": [
    {
     "data": {
      "text/html": [
       "<div>\n",
       "<style scoped>\n",
       "    .dataframe tbody tr th:only-of-type {\n",
       "        vertical-align: middle;\n",
       "    }\n",
       "\n",
       "    .dataframe tbody tr th {\n",
       "        vertical-align: top;\n",
       "    }\n",
       "\n",
       "    .dataframe thead th {\n",
       "        text-align: right;\n",
       "    }\n",
       "</style>\n",
       "<table border=\"1\" class=\"dataframe\">\n",
       "  <thead>\n",
       "    <tr style=\"text-align: right;\">\n",
       "      <th></th>\n",
       "      <th>MedInc</th>\n",
       "      <th>HouseAge</th>\n",
       "      <th>AveRooms</th>\n",
       "      <th>AveBedrms</th>\n",
       "      <th>Population</th>\n",
       "      <th>AveOccup</th>\n",
       "      <th>Latitude</th>\n",
       "      <th>Longitude</th>\n",
       "      <th>target</th>\n",
       "    </tr>\n",
       "    <tr>\n",
       "      <th></th>\n",
       "      <th></th>\n",
       "      <th></th>\n",
       "      <th></th>\n",
       "      <th></th>\n",
       "      <th></th>\n",
       "      <th></th>\n",
       "      <th></th>\n",
       "      <th></th>\n",
       "      <th></th>\n",
       "    </tr>\n",
       "  </thead>\n",
       "  <tbody>\n",
       "    <tr>\n",
       "      <th>0</th>\n",
       "      <td>8.3252</td>\n",
       "      <td>41.0</td>\n",
       "      <td>6.984127</td>\n",
       "      <td>1.023810</td>\n",
       "      <td>322.0</td>\n",
       "      <td>2.555556</td>\n",
       "      <td>37.88</td>\n",
       "      <td>-122.23</td>\n",
       "      <td>4.52600</td>\n",
       "    </tr>\n",
       "    <tr>\n",
       "      <th>89</th>\n",
       "      <td>1.2434</td>\n",
       "      <td>52.0</td>\n",
       "      <td>2.929412</td>\n",
       "      <td>0.917647</td>\n",
       "      <td>396.0</td>\n",
       "      <td>4.658824</td>\n",
       "      <td>37.80</td>\n",
       "      <td>-122.27</td>\n",
       "      <td>5.00001</td>\n",
       "    </tr>\n",
       "    <tr>\n",
       "      <th>128</th>\n",
       "      <td>7.5544</td>\n",
       "      <td>40.0</td>\n",
       "      <td>7.631498</td>\n",
       "      <td>1.030581</td>\n",
       "      <td>1616.0</td>\n",
       "      <td>2.470948</td>\n",
       "      <td>37.83</td>\n",
       "      <td>-122.21</td>\n",
       "      <td>4.11500</td>\n",
       "    </tr>\n",
       "    <tr>\n",
       "      <th>140</th>\n",
       "      <td>6.3624</td>\n",
       "      <td>30.0</td>\n",
       "      <td>5.615385</td>\n",
       "      <td>0.730769</td>\n",
       "      <td>126.0</td>\n",
       "      <td>2.423077</td>\n",
       "      <td>37.81</td>\n",
       "      <td>-122.18</td>\n",
       "      <td>4.83300</td>\n",
       "    </tr>\n",
       "    <tr>\n",
       "      <th>155</th>\n",
       "      <td>8.8793</td>\n",
       "      <td>52.0</td>\n",
       "      <td>8.972868</td>\n",
       "      <td>1.131783</td>\n",
       "      <td>861.0</td>\n",
       "      <td>3.337209</td>\n",
       "      <td>37.81</td>\n",
       "      <td>-122.23</td>\n",
       "      <td>4.10300</td>\n",
       "    </tr>\n",
       "    <tr>\n",
       "      <th>...</th>\n",
       "      <td>...</td>\n",
       "      <td>...</td>\n",
       "      <td>...</td>\n",
       "      <td>...</td>\n",
       "      <td>...</td>\n",
       "      <td>...</td>\n",
       "      <td>...</td>\n",
       "      <td>...</td>\n",
       "      <td>...</td>\n",
       "    </tr>\n",
       "    <tr>\n",
       "      <th>20428</th>\n",
       "      <td>8.7288</td>\n",
       "      <td>6.0</td>\n",
       "      <td>8.715842</td>\n",
       "      <td>1.102970</td>\n",
       "      <td>3385.0</td>\n",
       "      <td>3.351485</td>\n",
       "      <td>34.23</td>\n",
       "      <td>-118.83</td>\n",
       "      <td>4.25800</td>\n",
       "    </tr>\n",
       "    <tr>\n",
       "      <th>20436</th>\n",
       "      <td>12.5420</td>\n",
       "      <td>10.0</td>\n",
       "      <td>9.873315</td>\n",
       "      <td>1.102426</td>\n",
       "      <td>1179.0</td>\n",
       "      <td>3.177898</td>\n",
       "      <td>34.21</td>\n",
       "      <td>-118.69</td>\n",
       "      <td>5.00001</td>\n",
       "    </tr>\n",
       "    <tr>\n",
       "      <th>20438</th>\n",
       "      <td>7.2137</td>\n",
       "      <td>17.0</td>\n",
       "      <td>8.240664</td>\n",
       "      <td>1.033195</td>\n",
       "      <td>761.0</td>\n",
       "      <td>3.157676</td>\n",
       "      <td>34.26</td>\n",
       "      <td>-118.79</td>\n",
       "      <td>4.01900</td>\n",
       "    </tr>\n",
       "    <tr>\n",
       "      <th>20442</th>\n",
       "      <td>7.7785</td>\n",
       "      <td>13.0</td>\n",
       "      <td>7.969697</td>\n",
       "      <td>1.025974</td>\n",
       "      <td>833.0</td>\n",
       "      <td>3.606061</td>\n",
       "      <td>34.25</td>\n",
       "      <td>-118.78</td>\n",
       "      <td>4.04700</td>\n",
       "    </tr>\n",
       "    <tr>\n",
       "      <th>20443</th>\n",
       "      <td>3.3438</td>\n",
       "      <td>50.0</td>\n",
       "      <td>5.342857</td>\n",
       "      <td>0.942857</td>\n",
       "      <td>130.0</td>\n",
       "      <td>3.714286</td>\n",
       "      <td>34.27</td>\n",
       "      <td>-118.85</td>\n",
       "      <td>5.00001</td>\n",
       "    </tr>\n",
       "  </tbody>\n",
       "</table>\n",
       "<p>1744 rows × 9 columns</p>\n",
       "</div>"
      ],
      "text/plain": [
       "        MedInc  HouseAge  AveRooms  AveBedrms  Population  AveOccup  Latitude  \\\n",
       "                                                                                \n",
       "0       8.3252      41.0  6.984127   1.023810       322.0  2.555556     37.88   \n",
       "89      1.2434      52.0  2.929412   0.917647       396.0  4.658824     37.80   \n",
       "128     7.5544      40.0  7.631498   1.030581      1616.0  2.470948     37.83   \n",
       "140     6.3624      30.0  5.615385   0.730769       126.0  2.423077     37.81   \n",
       "155     8.8793      52.0  8.972868   1.131783       861.0  3.337209     37.81   \n",
       "...        ...       ...       ...        ...         ...       ...       ...   \n",
       "20428   8.7288       6.0  8.715842   1.102970      3385.0  3.351485     34.23   \n",
       "20436  12.5420      10.0  9.873315   1.102426      1179.0  3.177898     34.21   \n",
       "20438   7.2137      17.0  8.240664   1.033195       761.0  3.157676     34.26   \n",
       "20442   7.7785      13.0  7.969697   1.025974       833.0  3.606061     34.25   \n",
       "20443   3.3438      50.0  5.342857   0.942857       130.0  3.714286     34.27   \n",
       "\n",
       "       Longitude   target  \n",
       "                           \n",
       "0        -122.23  4.52600  \n",
       "89       -122.27  5.00001  \n",
       "128      -122.21  4.11500  \n",
       "140      -122.18  4.83300  \n",
       "155      -122.23  4.10300  \n",
       "...          ...      ...  \n",
       "20428    -118.83  4.25800  \n",
       "20436    -118.69  5.00001  \n",
       "20438    -118.79  4.01900  \n",
       "20442    -118.78  4.04700  \n",
       "20443    -118.85  5.00001  \n",
       "\n",
       "[1744 rows x 9 columns]"
      ]
     },
     "execution_count": 10,
     "metadata": {},
     "output_type": "execute_result"
    }
   ],
   "source": [
    "sqlite3_cursor_to_dataframe(\n",
    "    connection.execute(\n",
    "        \"\"\"\n",
    "        SELECT *\n",
    "        FROM california\n",
    "        WHERE target > 4\n",
    "        \"\"\"\n",
    "    )\n",
    ")"
   ]
  },
  {
   "cell_type": "markdown",
   "id": "c2a025f5",
   "metadata": {},
   "source": [
    "We can also find how many such rows there are, using the `COUNT` function:"
   ]
  },
  {
   "cell_type": "code",
   "execution_count": 11,
   "id": "4799db05",
   "metadata": {
    "execution": {
     "iopub.execute_input": "2024-01-10T00:49:01.645015Z",
     "iopub.status.busy": "2024-01-10T00:49:01.644543Z",
     "iopub.status.idle": "2024-01-10T00:49:01.653767Z",
     "shell.execute_reply": "2024-01-10T00:49:01.652983Z"
    },
    "tags": [
     "solution"
    ]
   },
   "outputs": [
    {
     "data": {
      "text/html": [
       "<div>\n",
       "<style scoped>\n",
       "    .dataframe tbody tr th:only-of-type {\n",
       "        vertical-align: middle;\n",
       "    }\n",
       "\n",
       "    .dataframe tbody tr th {\n",
       "        vertical-align: top;\n",
       "    }\n",
       "\n",
       "    .dataframe thead th {\n",
       "        text-align: right;\n",
       "    }\n",
       "</style>\n",
       "<table border=\"1\" class=\"dataframe\">\n",
       "  <thead>\n",
       "    <tr style=\"text-align: right;\">\n",
       "      <th></th>\n",
       "      <th>TotalHighTarget</th>\n",
       "    </tr>\n",
       "  </thead>\n",
       "  <tbody>\n",
       "    <tr>\n",
       "      <th>0</th>\n",
       "      <td>1744</td>\n",
       "    </tr>\n",
       "  </tbody>\n",
       "</table>\n",
       "</div>"
      ],
      "text/plain": [
       "   TotalHighTarget\n",
       "0             1744"
      ]
     },
     "execution_count": 11,
     "metadata": {},
     "output_type": "execute_result"
    }
   ],
   "source": [
    "sqlite3_cursor_to_dataframe(\n",
    "    connection.execute(\n",
    "        \"\"\"\n",
    "        SELECT COUNT(*) AS TotalHighTarget\n",
    "        FROM california\n",
    "        WHERE target > 4\n",
    "        \"\"\"\n",
    "    )\n",
    ")"
   ]
  },
  {
   "cell_type": "markdown",
   "id": "d798af42",
   "metadata": {},
   "source": [
    "To get an idea of the distribution of values in the target column, we can use some aggregate SQL functions. Compute the average, minimum and maximum value of the target variable in the table:"
   ]
  },
  {
   "cell_type": "code",
   "execution_count": 12,
   "id": "2bf84935",
   "metadata": {
    "execution": {
     "iopub.execute_input": "2024-01-10T00:49:01.656876Z",
     "iopub.status.busy": "2024-01-10T00:49:01.656432Z",
     "iopub.status.idle": "2024-01-10T00:49:01.667388Z",
     "shell.execute_reply": "2024-01-10T00:49:01.666787Z"
    },
    "tags": [
     "solution"
    ]
   },
   "outputs": [
    {
     "data": {
      "text/html": [
       "<div>\n",
       "<style scoped>\n",
       "    .dataframe tbody tr th:only-of-type {\n",
       "        vertical-align: middle;\n",
       "    }\n",
       "\n",
       "    .dataframe tbody tr th {\n",
       "        vertical-align: top;\n",
       "    }\n",
       "\n",
       "    .dataframe thead th {\n",
       "        text-align: right;\n",
       "    }\n",
       "</style>\n",
       "<table border=\"1\" class=\"dataframe\">\n",
       "  <thead>\n",
       "    <tr style=\"text-align: right;\">\n",
       "      <th></th>\n",
       "      <th>AverageTarget</th>\n",
       "      <th>MinTarget</th>\n",
       "      <th>MaxTarget</th>\n",
       "    </tr>\n",
       "  </thead>\n",
       "  <tbody>\n",
       "    <tr>\n",
       "      <th>0</th>\n",
       "      <td>2.068558</td>\n",
       "      <td>0.14999</td>\n",
       "      <td>5.00001</td>\n",
       "    </tr>\n",
       "  </tbody>\n",
       "</table>\n",
       "</div>"
      ],
      "text/plain": [
       "   AverageTarget  MinTarget  MaxTarget\n",
       "0       2.068558    0.14999    5.00001"
      ]
     },
     "execution_count": 12,
     "metadata": {},
     "output_type": "execute_result"
    }
   ],
   "source": [
    "sqlite3_cursor_to_dataframe(\n",
    "    connection.execute(\n",
    "        \"\"\"\n",
    "        SELECT AVG(target) AS AverageTarget, MIN(target) AS MinTarget, MAX(target) AS MaxTarget\n",
    "        FROM california\n",
    "        \"\"\"\n",
    "    )\n",
    ")"
   ]
  },
  {
   "cell_type": "markdown",
   "id": "419b4899",
   "metadata": {},
   "source": [
    "The results should show that the target values range between approximately 0.15 and 5, so our choice of 4 as a \"high\" target may be reasonable."
   ]
  },
  {
   "cell_type": "markdown",
   "id": "ef3e144e",
   "metadata": {},
   "source": [
    "## Focus on older buildings\n",
    "\n",
    "Find the rows where `HouseAge` is greater than 50 and `Population` is more than 1000."
   ]
  },
  {
   "cell_type": "code",
   "execution_count": 13,
   "id": "18b55087",
   "metadata": {
    "execution": {
     "iopub.execute_input": "2024-01-10T00:49:01.670331Z",
     "iopub.status.busy": "2024-01-10T00:49:01.669962Z",
     "iopub.status.idle": "2024-01-10T00:49:01.690854Z",
     "shell.execute_reply": "2024-01-10T00:49:01.690198Z"
    },
    "tags": [
     "solution"
    ]
   },
   "outputs": [
    {
     "data": {
      "text/html": [
       "<div>\n",
       "<style scoped>\n",
       "    .dataframe tbody tr th:only-of-type {\n",
       "        vertical-align: middle;\n",
       "    }\n",
       "\n",
       "    .dataframe tbody tr th {\n",
       "        vertical-align: top;\n",
       "    }\n",
       "\n",
       "    .dataframe thead th {\n",
       "        text-align: right;\n",
       "    }\n",
       "</style>\n",
       "<table border=\"1\" class=\"dataframe\">\n",
       "  <thead>\n",
       "    <tr style=\"text-align: right;\">\n",
       "      <th></th>\n",
       "      <th>MedInc</th>\n",
       "      <th>HouseAge</th>\n",
       "      <th>AveRooms</th>\n",
       "      <th>AveBedrms</th>\n",
       "      <th>Population</th>\n",
       "      <th>AveOccup</th>\n",
       "      <th>Latitude</th>\n",
       "      <th>Longitude</th>\n",
       "      <th>target</th>\n",
       "    </tr>\n",
       "    <tr>\n",
       "      <th></th>\n",
       "      <th></th>\n",
       "      <th></th>\n",
       "      <th></th>\n",
       "      <th></th>\n",
       "      <th></th>\n",
       "      <th></th>\n",
       "      <th></th>\n",
       "      <th></th>\n",
       "      <th></th>\n",
       "    </tr>\n",
       "  </thead>\n",
       "  <tbody>\n",
       "    <tr>\n",
       "      <th>6</th>\n",
       "      <td>3.6591</td>\n",
       "      <td>52.0</td>\n",
       "      <td>4.931907</td>\n",
       "      <td>0.951362</td>\n",
       "      <td>1094.0</td>\n",
       "      <td>2.128405</td>\n",
       "      <td>37.84</td>\n",
       "      <td>-122.25</td>\n",
       "      <td>2.992</td>\n",
       "    </tr>\n",
       "    <tr>\n",
       "      <th>7</th>\n",
       "      <td>3.1200</td>\n",
       "      <td>52.0</td>\n",
       "      <td>4.797527</td>\n",
       "      <td>1.061824</td>\n",
       "      <td>1157.0</td>\n",
       "      <td>1.788253</td>\n",
       "      <td>37.84</td>\n",
       "      <td>-122.25</td>\n",
       "      <td>2.414</td>\n",
       "    </tr>\n",
       "    <tr>\n",
       "      <th>9</th>\n",
       "      <td>3.6912</td>\n",
       "      <td>52.0</td>\n",
       "      <td>4.970588</td>\n",
       "      <td>0.990196</td>\n",
       "      <td>1551.0</td>\n",
       "      <td>2.172269</td>\n",
       "      <td>37.84</td>\n",
       "      <td>-122.25</td>\n",
       "      <td>2.611</td>\n",
       "    </tr>\n",
       "    <tr>\n",
       "      <th>11</th>\n",
       "      <td>3.2705</td>\n",
       "      <td>52.0</td>\n",
       "      <td>4.772480</td>\n",
       "      <td>1.024523</td>\n",
       "      <td>1504.0</td>\n",
       "      <td>2.049046</td>\n",
       "      <td>37.85</td>\n",
       "      <td>-122.26</td>\n",
       "      <td>2.418</td>\n",
       "    </tr>\n",
       "    <tr>\n",
       "      <th>12</th>\n",
       "      <td>3.0750</td>\n",
       "      <td>52.0</td>\n",
       "      <td>5.322650</td>\n",
       "      <td>1.012821</td>\n",
       "      <td>1098.0</td>\n",
       "      <td>2.346154</td>\n",
       "      <td>37.85</td>\n",
       "      <td>-122.26</td>\n",
       "      <td>2.135</td>\n",
       "    </tr>\n",
       "    <tr>\n",
       "      <th>...</th>\n",
       "      <td>...</td>\n",
       "      <td>...</td>\n",
       "      <td>...</td>\n",
       "      <td>...</td>\n",
       "      <td>...</td>\n",
       "      <td>...</td>\n",
       "      <td>...</td>\n",
       "      <td>...</td>\n",
       "      <td>...</td>\n",
       "    </tr>\n",
       "    <tr>\n",
       "      <th>18899</th>\n",
       "      <td>2.1976</td>\n",
       "      <td>52.0</td>\n",
       "      <td>4.590323</td>\n",
       "      <td>1.137097</td>\n",
       "      <td>1519.0</td>\n",
       "      <td>2.450000</td>\n",
       "      <td>38.11</td>\n",
       "      <td>-122.25</td>\n",
       "      <td>0.979</td>\n",
       "    </tr>\n",
       "    <tr>\n",
       "      <th>18902</th>\n",
       "      <td>2.6708</td>\n",
       "      <td>52.0</td>\n",
       "      <td>4.863894</td>\n",
       "      <td>1.207940</td>\n",
       "      <td>1238.0</td>\n",
       "      <td>2.340265</td>\n",
       "      <td>38.11</td>\n",
       "      <td>-122.26</td>\n",
       "      <td>1.097</td>\n",
       "    </tr>\n",
       "    <tr>\n",
       "      <th>19117</th>\n",
       "      <td>3.3011</td>\n",
       "      <td>52.0</td>\n",
       "      <td>4.616702</td>\n",
       "      <td>1.004283</td>\n",
       "      <td>1070.0</td>\n",
       "      <td>2.291221</td>\n",
       "      <td>38.23</td>\n",
       "      <td>-122.64</td>\n",
       "      <td>2.523</td>\n",
       "    </tr>\n",
       "    <tr>\n",
       "      <th>19492</th>\n",
       "      <td>2.5089</td>\n",
       "      <td>52.0</td>\n",
       "      <td>4.989730</td>\n",
       "      <td>1.030809</td>\n",
       "      <td>1768.0</td>\n",
       "      <td>2.269576</td>\n",
       "      <td>37.65</td>\n",
       "      <td>-121.00</td>\n",
       "      <td>1.190</td>\n",
       "    </tr>\n",
       "    <tr>\n",
       "      <th>19750</th>\n",
       "      <td>1.5770</td>\n",
       "      <td>51.0</td>\n",
       "      <td>4.813765</td>\n",
       "      <td>1.182186</td>\n",
       "      <td>1083.0</td>\n",
       "      <td>2.192308</td>\n",
       "      <td>40.17</td>\n",
       "      <td>-122.24</td>\n",
       "      <td>0.519</td>\n",
       "    </tr>\n",
       "  </tbody>\n",
       "</table>\n",
       "<p>521 rows × 9 columns</p>\n",
       "</div>"
      ],
      "text/plain": [
       "       MedInc  HouseAge  AveRooms  AveBedrms  Population  AveOccup  Latitude  \\\n",
       "                                                                               \n",
       "6      3.6591      52.0  4.931907   0.951362      1094.0  2.128405     37.84   \n",
       "7      3.1200      52.0  4.797527   1.061824      1157.0  1.788253     37.84   \n",
       "9      3.6912      52.0  4.970588   0.990196      1551.0  2.172269     37.84   \n",
       "11     3.2705      52.0  4.772480   1.024523      1504.0  2.049046     37.85   \n",
       "12     3.0750      52.0  5.322650   1.012821      1098.0  2.346154     37.85   \n",
       "...       ...       ...       ...        ...         ...       ...       ...   \n",
       "18899  2.1976      52.0  4.590323   1.137097      1519.0  2.450000     38.11   \n",
       "18902  2.6708      52.0  4.863894   1.207940      1238.0  2.340265     38.11   \n",
       "19117  3.3011      52.0  4.616702   1.004283      1070.0  2.291221     38.23   \n",
       "19492  2.5089      52.0  4.989730   1.030809      1768.0  2.269576     37.65   \n",
       "19750  1.5770      51.0  4.813765   1.182186      1083.0  2.192308     40.17   \n",
       "\n",
       "       Longitude  target  \n",
       "                          \n",
       "6        -122.25   2.992  \n",
       "7        -122.25   2.414  \n",
       "9        -122.25   2.611  \n",
       "11       -122.26   2.418  \n",
       "12       -122.26   2.135  \n",
       "...          ...     ...  \n",
       "18899    -122.25   0.979  \n",
       "18902    -122.26   1.097  \n",
       "19117    -122.64   2.523  \n",
       "19492    -121.00   1.190  \n",
       "19750    -122.24   0.519  \n",
       "\n",
       "[521 rows x 9 columns]"
      ]
     },
     "execution_count": 13,
     "metadata": {},
     "output_type": "execute_result"
    }
   ],
   "source": [
    "sqlite3_cursor_to_dataframe(\n",
    "    connection.execute(\n",
    "        \"\"\"\n",
    "        SELECT *\n",
    "        FROM california\n",
    "        WHERE HouseAge > 50\n",
    "        AND Population > 1000\n",
    "        \"\"\"\n",
    "    )\n",
    ")"
   ]
  },
  {
   "cell_type": "markdown",
   "id": "baac10e2",
   "metadata": {},
   "source": [
    "And count how many rows like these there are:"
   ]
  },
  {
   "cell_type": "code",
   "execution_count": 14,
   "id": "b12399a3",
   "metadata": {
    "execution": {
     "iopub.execute_input": "2024-01-10T00:49:01.694364Z",
     "iopub.status.busy": "2024-01-10T00:49:01.693790Z",
     "iopub.status.idle": "2024-01-10T00:49:01.703907Z",
     "shell.execute_reply": "2024-01-10T00:49:01.703216Z"
    },
    "tags": [
     "solution"
    ]
   },
   "outputs": [
    {
     "data": {
      "text/html": [
       "<div>\n",
       "<style scoped>\n",
       "    .dataframe tbody tr th:only-of-type {\n",
       "        vertical-align: middle;\n",
       "    }\n",
       "\n",
       "    .dataframe tbody tr th {\n",
       "        vertical-align: top;\n",
       "    }\n",
       "\n",
       "    .dataframe thead th {\n",
       "        text-align: right;\n",
       "    }\n",
       "</style>\n",
       "<table border=\"1\" class=\"dataframe\">\n",
       "  <thead>\n",
       "    <tr style=\"text-align: right;\">\n",
       "      <th></th>\n",
       "      <th>OldAndBusy</th>\n",
       "    </tr>\n",
       "  </thead>\n",
       "  <tbody>\n",
       "    <tr>\n",
       "      <th>0</th>\n",
       "      <td>521</td>\n",
       "    </tr>\n",
       "  </tbody>\n",
       "</table>\n",
       "</div>"
      ],
      "text/plain": [
       "   OldAndBusy\n",
       "0         521"
      ]
     },
     "execution_count": 14,
     "metadata": {},
     "output_type": "execute_result"
    }
   ],
   "source": [
    "sqlite3_cursor_to_dataframe(\n",
    "    connection.execute(\n",
    "        \"\"\"\n",
    "        SELECT COUNT(*) AS OldAndBusy\n",
    "        FROM california\n",
    "        WHERE HouseAge > 50\n",
    "        AND Population > 1000\n",
    "        \"\"\"\n",
    "    )\n",
    ")"
   ]
  },
  {
   "cell_type": "markdown",
   "id": "ce3a449b",
   "metadata": {},
   "source": [
    "## More advanced keywords\n",
    "\n",
    "Find the 5 rows with the highest number of average bedrooms, which are less than 30 years old.\n",
    "\n",
    "**Hint:** You will need the `ORDER BY` and `LIMIT` keywords.\n",
    "`ORDER BY` is followed by a column name and a sorting direction (`ASC` or `DESC` for ascending or descending, respectively).\n",
    "`LIMIT` is followed by the maximum number of results we want to retrieve"
   ]
  },
  {
   "cell_type": "code",
   "execution_count": 15,
   "id": "4aa76606",
   "metadata": {
    "execution": {
     "iopub.execute_input": "2024-01-10T00:49:01.707178Z",
     "iopub.status.busy": "2024-01-10T00:49:01.706945Z",
     "iopub.status.idle": "2024-01-10T00:49:01.722190Z",
     "shell.execute_reply": "2024-01-10T00:49:01.721599Z"
    },
    "tags": [
     "solution"
    ]
   },
   "outputs": [
    {
     "data": {
      "text/html": [
       "<div>\n",
       "<style scoped>\n",
       "    .dataframe tbody tr th:only-of-type {\n",
       "        vertical-align: middle;\n",
       "    }\n",
       "\n",
       "    .dataframe tbody tr th {\n",
       "        vertical-align: top;\n",
       "    }\n",
       "\n",
       "    .dataframe thead th {\n",
       "        text-align: right;\n",
       "    }\n",
       "</style>\n",
       "<table border=\"1\" class=\"dataframe\">\n",
       "  <thead>\n",
       "    <tr style=\"text-align: right;\">\n",
       "      <th></th>\n",
       "      <th>MedInc</th>\n",
       "      <th>HouseAge</th>\n",
       "      <th>AveRooms</th>\n",
       "      <th>AveBedrms</th>\n",
       "      <th>Population</th>\n",
       "      <th>AveOccup</th>\n",
       "      <th>Latitude</th>\n",
       "      <th>Longitude</th>\n",
       "      <th>target</th>\n",
       "    </tr>\n",
       "    <tr>\n",
       "      <th></th>\n",
       "      <th></th>\n",
       "      <th></th>\n",
       "      <th></th>\n",
       "      <th></th>\n",
       "      <th></th>\n",
       "      <th></th>\n",
       "      <th></th>\n",
       "      <th></th>\n",
       "      <th></th>\n",
       "    </tr>\n",
       "  </thead>\n",
       "  <tbody>\n",
       "    <tr>\n",
       "      <th>11862</th>\n",
       "      <td>2.6250</td>\n",
       "      <td>25.0</td>\n",
       "      <td>59.875000</td>\n",
       "      <td>15.312500</td>\n",
       "      <td>28.0</td>\n",
       "      <td>1.750000</td>\n",
       "      <td>40.27</td>\n",
       "      <td>-121.25</td>\n",
       "      <td>0.675</td>\n",
       "    </tr>\n",
       "    <tr>\n",
       "      <th>12447</th>\n",
       "      <td>1.6154</td>\n",
       "      <td>17.0</td>\n",
       "      <td>62.422222</td>\n",
       "      <td>14.111111</td>\n",
       "      <td>83.0</td>\n",
       "      <td>1.844444</td>\n",
       "      <td>33.97</td>\n",
       "      <td>-114.49</td>\n",
       "      <td>0.875</td>\n",
       "    </tr>\n",
       "    <tr>\n",
       "      <th>9676</th>\n",
       "      <td>3.2431</td>\n",
       "      <td>14.0</td>\n",
       "      <td>52.848214</td>\n",
       "      <td>11.410714</td>\n",
       "      <td>265.0</td>\n",
       "      <td>2.366071</td>\n",
       "      <td>37.64</td>\n",
       "      <td>-119.02</td>\n",
       "      <td>2.214</td>\n",
       "    </tr>\n",
       "    <tr>\n",
       "      <th>1240</th>\n",
       "      <td>3.1250</td>\n",
       "      <td>11.0</td>\n",
       "      <td>47.515152</td>\n",
       "      <td>11.181818</td>\n",
       "      <td>82.0</td>\n",
       "      <td>2.484848</td>\n",
       "      <td>38.42</td>\n",
       "      <td>-120.19</td>\n",
       "      <td>0.775</td>\n",
       "    </tr>\n",
       "    <tr>\n",
       "      <th>1913</th>\n",
       "      <td>4.0714</td>\n",
       "      <td>19.0</td>\n",
       "      <td>61.812500</td>\n",
       "      <td>11.000000</td>\n",
       "      <td>112.0</td>\n",
       "      <td>2.333333</td>\n",
       "      <td>39.01</td>\n",
       "      <td>-120.06</td>\n",
       "      <td>4.375</td>\n",
       "    </tr>\n",
       "  </tbody>\n",
       "</table>\n",
       "</div>"
      ],
      "text/plain": [
       "       MedInc  HouseAge   AveRooms  AveBedrms  Population  AveOccup  Latitude  \\\n",
       "                                                                                \n",
       "11862  2.6250      25.0  59.875000  15.312500        28.0  1.750000     40.27   \n",
       "12447  1.6154      17.0  62.422222  14.111111        83.0  1.844444     33.97   \n",
       "9676   3.2431      14.0  52.848214  11.410714       265.0  2.366071     37.64   \n",
       "1240   3.1250      11.0  47.515152  11.181818        82.0  2.484848     38.42   \n",
       "1913   4.0714      19.0  61.812500  11.000000       112.0  2.333333     39.01   \n",
       "\n",
       "       Longitude  target  \n",
       "                          \n",
       "11862    -121.25   0.675  \n",
       "12447    -114.49   0.875  \n",
       "9676     -119.02   2.214  \n",
       "1240     -120.19   0.775  \n",
       "1913     -120.06   4.375  "
      ]
     },
     "execution_count": 15,
     "metadata": {},
     "output_type": "execute_result"
    }
   ],
   "source": [
    "sqlite3_cursor_to_dataframe(\n",
    "    connection.execute(\n",
    "        \"\"\"\n",
    "        SELECT *\n",
    "        FROM california\n",
    "        WHERE HouseAge < 30\n",
    "        ORDER BY AveBedrms DESC\n",
    "        LIMIT 5\n",
    "        \"\"\"\n",
    "    )\n",
    ")"
   ]
  },
  {
   "cell_type": "markdown",
   "id": "52813e4f",
   "metadata": {},
   "source": [
    "Again we close the connection and temporary file to clean up correctly."
   ]
  },
  {
   "cell_type": "code",
   "execution_count": 16,
   "id": "8b90e241",
   "metadata": {
    "execution": {
     "iopub.execute_input": "2024-01-10T00:49:01.725158Z",
     "iopub.status.busy": "2024-01-10T00:49:01.724711Z",
     "iopub.status.idle": "2024-01-10T00:49:01.729701Z",
     "shell.execute_reply": "2024-01-10T00:49:01.729105Z"
    }
   },
   "outputs": [],
   "source": [
    "connection.close()\n",
    "temporary_file.close()"
   ]
  }
 ],
 "metadata": {
  "kernelspec": {
   "display_name": "Python 3 (ipykernel)",
   "language": "python",
   "name": "python3"
  },
  "language_info": {
   "codemirror_mode": {
    "name": "ipython",
    "version": 3
   },
   "file_extension": ".py",
   "mimetype": "text/x-python",
   "name": "python",
   "nbconvert_exporter": "python",
   "pygments_lexer": "ipython3",
   "version": "3.8.18"
  }
 },
 "nbformat": 4,
 "nbformat_minor": 5
}
