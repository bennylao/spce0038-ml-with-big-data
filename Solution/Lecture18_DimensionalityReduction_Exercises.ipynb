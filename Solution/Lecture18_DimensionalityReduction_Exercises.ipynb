{
 "cells": [
  {
   "cell_type": "markdown",
   "metadata": {},
   "source": [
    "# Exercises for Lecture 18 (Dimensionality Reduction)"
   ]
  },
  {
   "cell_type": "markdown",
   "metadata": {
    "slideshow": {
     "slide_type": "slide"
    }
   },
   "source": [
    "## Exercise 1\n",
    "\n",
    "- Load the MNIST dataset (introduced in chapter 3) and split it into a training set and a test set (take the first 60,000 instances for training, and the remaining 10,000 for testing).\n",
    "- Train a Random Forest classifier on the dataset and time how long it takes \n",
    "- Then evaluate the resulting model on the test set. \n",
    "- Next, use PCA to reduce the dataset’s dimensionality, with an explained variance ratio of 95%. \n",
    "- Train a new Random Forest classifier on the reduced dataset and see how long it takes. \n",
    "- Was training much faster? Next evaluate the classifier on the test set: how does it compare to the previous classifier?"
   ]
  },
  {
   "cell_type": "code",
   "execution_count": 1,
   "metadata": {
    "execution": {
     "iopub.execute_input": "2024-01-10T00:35:38.857449Z",
     "iopub.status.busy": "2024-01-10T00:35:38.857052Z",
     "iopub.status.idle": "2024-01-10T00:36:10.870396Z",
     "shell.execute_reply": "2024-01-10T00:36:10.869688Z"
    },
    "tags": [
     "solution"
    ]
   },
   "outputs": [
    {
     "name": "stderr",
     "output_type": "stream",
     "text": [
      "/opt/hostedtoolcache/Python/3.8.18/x64/lib/python3.8/site-packages/sklearn/datasets/_openml.py:1022: FutureWarning: The default value of `parser` will change from `'liac-arff'` to `'auto'` in 1.4. You can set `parser='auto'` to silence this warning. Therefore, an `ImportError` will be raised from 1.4 if the dataset is dense and pandas is not installed. Note that the pandas parser may return different data types. See the Notes Section in fetch_openml's API doc for details.\n",
      "  warn(\n"
     ]
    }
   ],
   "source": [
    "from sklearn.datasets import fetch_openml\n",
    "mnist = fetch_openml('mnist_784', version=1, cache=True)\n",
    "\n",
    "X_train = mnist['data'][:60000]\n",
    "y_train = mnist['target'][:60000]\n",
    "X_test = mnist['data'][60000:]\n",
    "y_test = mnist['target'][60000:]"
   ]
  },
  {
   "cell_type": "code",
   "execution_count": 2,
   "metadata": {
    "execution": {
     "iopub.execute_input": "2024-01-10T00:36:10.874039Z",
     "iopub.status.busy": "2024-01-10T00:36:10.873391Z",
     "iopub.status.idle": "2024-01-10T00:36:55.600033Z",
     "shell.execute_reply": "2024-01-10T00:36:55.599232Z"
    },
    "tags": [
     "solution"
    ]
   },
   "outputs": [
    {
     "data": {
      "text/plain": [
       "44.627445936203"
      ]
     },
     "execution_count": 2,
     "metadata": {},
     "output_type": "execute_result"
    }
   ],
   "source": [
    "from sklearn.ensemble import RandomForestClassifier \n",
    "from sklearn.linear_model import LogisticRegression\n",
    "\n",
    "rnd_clf = RandomForestClassifier(random_state=42) #load RF\n",
    "\n",
    "import time\n",
    "t0 = time.time()\n",
    "rnd_clf.fit(X_train, y_train) #Train RF\n",
    "t1 = time.time()\n",
    "t1-t0"
   ]
  },
  {
   "cell_type": "code",
   "execution_count": 3,
   "metadata": {
    "execution": {
     "iopub.execute_input": "2024-01-10T00:36:55.603392Z",
     "iopub.status.busy": "2024-01-10T00:36:55.602934Z",
     "iopub.status.idle": "2024-01-10T00:36:56.007950Z",
     "shell.execute_reply": "2024-01-10T00:36:56.007220Z"
    },
    "tags": [
     "solution"
    ]
   },
   "outputs": [
    {
     "data": {
      "text/plain": [
       "0.9705"
      ]
     },
     "execution_count": 3,
     "metadata": {},
     "output_type": "execute_result"
    }
   ],
   "source": [
    "from sklearn.metrics import accuracy_score\n",
    "y_pred = rnd_clf.predict(X_test) #run RF on test data \n",
    "accuracy_score(y_test, y_pred) #test accuracy "
   ]
  },
  {
   "cell_type": "code",
   "execution_count": 4,
   "metadata": {
    "execution": {
     "iopub.execute_input": "2024-01-10T00:36:56.011409Z",
     "iopub.status.busy": "2024-01-10T00:36:56.010938Z",
     "iopub.status.idle": "2024-01-10T00:37:01.378395Z",
     "shell.execute_reply": "2024-01-10T00:37:01.377662Z"
    },
    "tags": [
     "solution"
    ]
   },
   "outputs": [],
   "source": [
    "#use PCA to reduce the dimensionality of the data \n",
    "from sklearn.decomposition import PCA\n",
    "\n",
    "pca = PCA(n_components=0.95) #threshold 0.95 \n",
    "X_train_reduced = pca.fit_transform(X_train)\n",
    "X_test_reduced = pca.transform(X_test)"
   ]
  },
  {
   "cell_type": "code",
   "execution_count": 5,
   "metadata": {
    "execution": {
     "iopub.execute_input": "2024-01-10T00:37:01.382575Z",
     "iopub.status.busy": "2024-01-10T00:37:01.382276Z",
     "iopub.status.idle": "2024-01-10T00:39:38.912946Z",
     "shell.execute_reply": "2024-01-10T00:39:38.912348Z"
    },
    "tags": [
     "solution"
    ]
   },
   "outputs": [
    {
     "data": {
      "text/plain": [
       "157.5241129398346"
      ]
     },
     "execution_count": 5,
     "metadata": {},
     "output_type": "execute_result"
    }
   ],
   "source": [
    "rnd_clf2 = RandomForestClassifier(random_state=42)\n",
    "t0 = time.time()\n",
    "rnd_clf2.fit(X_train_reduced, y_train) #train on reduced data set\n",
    "t1 = time.time()\n",
    "t1-t0\n",
    "#the time is longer, this suggest that PCA was not a good dimensionality reduction algorithm in this case"
   ]
  },
  {
   "cell_type": "code",
   "execution_count": 6,
   "metadata": {
    "execution": {
     "iopub.execute_input": "2024-01-10T00:39:38.916201Z",
     "iopub.status.busy": "2024-01-10T00:39:38.915612Z",
     "iopub.status.idle": "2024-01-10T00:39:39.222611Z",
     "shell.execute_reply": "2024-01-10T00:39:39.221917Z"
    },
    "tags": [
     "solution"
    ]
   },
   "outputs": [
    {
     "data": {
      "text/plain": [
       "0.9481"
      ]
     },
     "execution_count": 6,
     "metadata": {},
     "output_type": "execute_result"
    }
   ],
   "source": [
    "y_pred = rnd_clf2.predict(X_test_reduced)\n",
    "accuracy_score(y_test, y_pred)\n",
    "#also accuracy has decreased - expected in most dimensionality reduction approaches "
   ]
  }
 ],
 "metadata": {
  "celltoolbar": "Tags",
  "kernelspec": {
   "display_name": "Python 3",
   "language": "python",
   "name": "python3"
  },
  "language_info": {
   "codemirror_mode": {
    "name": "ipython",
    "version": 3
   },
   "file_extension": ".py",
   "mimetype": "text/x-python",
   "name": "python",
   "nbconvert_exporter": "python",
   "pygments_lexer": "ipython3",
   "version": "3.8.18"
  }
 },
 "nbformat": 4,
 "nbformat_minor": 4
}
