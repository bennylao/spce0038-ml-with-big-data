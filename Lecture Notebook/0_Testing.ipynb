{
 "cells": [
  {
   "cell_type": "code",
   "execution_count": 3,
   "metadata": {},
   "outputs": [
    {
     "name": "stdout",
     "output_type": "stream",
     "text": [
      "StandardScaler()\n",
      "mean: [0.5  4.25]\n",
      "scale: [0.5        2.27760839]\n",
      "[[-1.         -0.98787834]\n",
      " [-1.         -0.5488213 ]\n",
      " [ 1.         -0.10976426]\n",
      " [ 1.          1.6464639 ]]\n",
      "[[ 3.         -0.98787834]]\n"
     ]
    }
   ],
   "source": [
    "from sklearn.preprocessing import StandardScaler\n",
    "data = [[0, 2], [0, 3], [1, 4], [1, 8]]\n",
    "scaler = StandardScaler()\n",
    "print(scaler.fit(data))\n",
    "print(f\"mean: {scaler.mean_}\")\n",
    "print(f\"scale: {scaler.scale_}\")\n",
    "print(scaler.transform(data))\n",
    "print(scaler.transform([[2, 2]]))"
   ]
  }
 ],
 "metadata": {
  "kernelspec": {
   "display_name": "mlbd",
   "language": "python",
   "name": "python3"
  },
  "language_info": {
   "codemirror_mode": {
    "name": "ipython",
    "version": 3
   },
   "file_extension": ".py",
   "mimetype": "text/x-python",
   "name": "python",
   "nbconvert_exporter": "python",
   "pygments_lexer": "ipython3",
   "version": "3.11.7"
  }
 },
 "nbformat": 4,
 "nbformat_minor": 2
}
