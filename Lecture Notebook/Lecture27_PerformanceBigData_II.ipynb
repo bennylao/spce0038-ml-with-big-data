{
 "cells": [
  {
   "cell_type": "markdown",
   "id": "72298d95",
   "metadata": {
    "slideshow": {
     "slide_type": "slide"
    }
   },
   "source": [
    "# Lecture 27: Performance of big data problems II"
   ]
  },
  {
   "cell_type": "markdown",
   "id": "c5e1b0fc",
   "metadata": {
    "slideshow": {
     "slide_type": "skip"
    }
   },
   "source": [
    "![](https://www.tensorflow.org/images/colab_logo_32px.png)\n",
    "[Run in colab](https://colab.research.google.com/drive/1qBPclhzKTwP5E5pGrLivCHXe7LgGUP_P)"
   ]
  },
  {
   "cell_type": "code",
   "execution_count": 1,
   "id": "59bcd1a0",
   "metadata": {
    "execution": {
     "iopub.execute_input": "2024-01-10T00:49:08.447779Z",
     "iopub.status.busy": "2024-01-10T00:49:08.447401Z",
     "iopub.status.idle": "2024-01-10T00:49:08.455747Z",
     "shell.execute_reply": "2024-01-10T00:49:08.455076Z"
    },
    "slideshow": {
     "slide_type": "skip"
    }
   },
   "outputs": [
    {
     "name": "stdout",
     "output_type": "stream",
     "text": [
      "Last executed: 2024-01-10 00:49:08\n"
     ]
    }
   ],
   "source": [
    "import datetime\n",
    "now = datetime.datetime.now()\n",
    "print(\"Last executed: \" + now.strftime(\"%Y-%m-%d %H:%M:%S\"))"
   ]
  },
  {
   "cell_type": "markdown",
   "id": "d1fd02d0",
   "metadata": {
    "slideshow": {
     "slide_type": "subslide"
    }
   },
   "source": [
    "This lecture will talk about two open-source frameworks that implement the functionality discussed in the previous one: Apache Hadoop and Apache Spark.\n",
    "\n",
    "Both allow users to take advantage of distributed architectures for data processing."
   ]
  },
  {
   "cell_type": "markdown",
   "id": "dae54957",
   "metadata": {
    "slideshow": {
     "slide_type": "slide"
    }
   },
   "source": [
    "## Hadoop"
   ]
  },
  {
   "cell_type": "markdown",
   "id": "581e609c",
   "metadata": {
    "slideshow": {
     "slide_type": "-"
    }
   },
   "source": [
    "Hadoop is a framework with several components."
   ]
  },
  {
   "cell_type": "markdown",
   "id": "c1dfb52f",
   "metadata": {
    "slideshow": {
     "slide_type": "fragment"
    }
   },
   "source": [
    "We will focus on two of them, which offer the features we previously discussed:\n",
    "\n",
    "- The **Hadoop Distributed File System (HDFS)**.\n",
    "- An implementation of **MapReduce**."
   ]
  },
  {
   "cell_type": "markdown",
   "id": "274fc249",
   "metadata": {
    "slideshow": {
     "slide_type": "fragment"
    }
   },
   "source": [
    "Together, these two let users distribute data processing across many nodes without having to worry (too much) about how files are structured or how computation is performed."
   ]
  },
  {
   "cell_type": "markdown",
   "id": "2fcb137a",
   "metadata": {
    "slideshow": {
     "slide_type": "subslide"
    }
   },
   "source": [
    "Distributed file systems share files through many storage nodes."
   ]
  },
  {
   "cell_type": "markdown",
   "id": "9aafd639",
   "metadata": {
    "slideshow": {
     "slide_type": "fragment"
    }
   },
   "source": [
    "Instead of a single copy, each file resides in multiple copies across different parts of the system. \n",
    "\n",
    "- Processing tasks have access to what they might need\n",
    "- Synchronization to ensure consistency\n",
    "- Scalable by adding more nodes\n",
    "- Resistant to failure"
   ]
  },
  {
   "cell_type": "markdown",
   "id": "8e831975",
   "metadata": {
    "slideshow": {
     "slide_type": "fragment"
    }
   },
   "source": [
    "This type of storage is popular for big data applications."
   ]
  },
  {
   "cell_type": "markdown",
   "id": "7c281078",
   "metadata": {
    "slideshow": {
     "slide_type": "fragment"
    }
   },
   "source": [
    "Ideally, the user does not need to know the details of how the file system works."
   ]
  },
  {
   "cell_type": "markdown",
   "id": "ccdbe870",
   "metadata": {
    "slideshow": {
     "slide_type": "subslide"
    }
   },
   "source": [
    "To write a MapReduce application in Hadoop, a user must:\n",
    "\n",
    "- Specify the \"**mapper**\" (how should a small chunk of data be processed?).\n",
    "- Specify the \"**reducer**\" (how should the results from processing small chunks be combined?).\n",
    "- Get the data onto HDFS (the cluster nodes).\n",
    "- Launch the processing job by pointing to the mapper, reducer and inputs."
   ]
  },
  {
   "cell_type": "markdown",
   "id": "7c1047de",
   "metadata": {
    "slideshow": {
     "slide_type": "fragment"
    }
   },
   "source": [
    "Hadoop takes care of the rest, like the communication between the different stages."
   ]
  },
  {
   "cell_type": "markdown",
   "id": "f1b8b03b",
   "metadata": {
    "slideshow": {
     "slide_type": "fragment"
    }
   },
   "source": [
    "Very powerful for handling very large volumes of data with relative simplicity!"
   ]
  },
  {
   "cell_type": "markdown",
   "id": "8b77cbd2",
   "metadata": {
    "slideshow": {
     "slide_type": "slide"
    }
   },
   "source": [
    "## Spark"
   ]
  },
  {
   "cell_type": "markdown",
   "id": "4ae32c31",
   "metadata": {
    "slideshow": {
     "slide_type": "-"
    }
   },
   "source": [
    "Apache Spark is a framework for processing large amounts of data **in memory**."
   ]
  },
  {
   "cell_type": "markdown",
   "id": "6a9f25ff",
   "metadata": {
    "slideshow": {
     "slide_type": "fragment"
    }
   },
   "source": [
    "By avoiding writing to disk unless needed, it allows repeating calculations efficiently."
   ]
  },
  {
   "cell_type": "markdown",
   "id": "fe249f52",
   "metadata": {
    "slideshow": {
     "slide_type": "fragment"
    }
   },
   "source": [
    "It can run on top of Hadoop and take advantage of HDFS, but does not have to."
   ]
  },
  {
   "cell_type": "markdown",
   "id": "e12733cb",
   "metadata": {
    "slideshow": {
     "slide_type": "fragment"
    }
   },
   "source": [
    "Basic features of Spark:\n",
    "\n",
    "- **Lazy**: does not perform computations until the last moment required.\n",
    "- **In-memory** processing: faster than using disk storage (but can require large RAM!).\n",
    "- **Streams**: can handle data in real time as it arrives (\"online\")."
   ]
  },
  {
   "cell_type": "markdown",
   "id": "e1497816",
   "metadata": {
    "slideshow": {
     "slide_type": "slide"
    }
   },
   "source": [
    "### Spark SQL and datasets\n",
    "\n",
    "Spark comes with interfaces in a few languages, including Python ([pyspark](https://spark.apache.org/docs/latest/api/python/getting_started/index.html)).\n",
    "These offer programmatic access to its various capabilities."
   ]
  },
  {
   "cell_type": "markdown",
   "id": "e7d0d862",
   "metadata": {
    "slideshow": {
     "slide_type": "fragment"
    }
   },
   "source": [
    "The basic abstraction in Spark is a Dataset (or DataFrame). This represents a collection of items that may be distributed over multiple nodes."
   ]
  },
  {
   "cell_type": "markdown",
   "id": "158b676d",
   "metadata": {
    "slideshow": {
     "slide_type": "subslide"
    }
   },
   "source": [
    "DataFrames can be created by specifying the values directly, or by reading from and transforming an existing source (including a Pandas dataframe)."
   ]
  },
  {
   "cell_type": "code",
   "execution_count": 2,
   "id": "f089e46f",
   "metadata": {
    "execution": {
     "iopub.execute_input": "2024-01-10T00:49:08.459792Z",
     "iopub.status.busy": "2024-01-10T00:49:08.459592Z",
     "iopub.status.idle": "2024-01-10T00:49:19.359117Z",
     "shell.execute_reply": "2024-01-10T00:49:19.358466Z"
    },
    "slideshow": {
     "slide_type": "fragment"
    }
   },
   "outputs": [
    {
     "name": "stderr",
     "output_type": "stream",
     "text": [
      "/opt/hostedtoolcache/Python/3.8.18/x64/lib/python3.8/site-packages/pyspark/pandas/__init__.py:50: UserWarning: 'PYARROW_IGNORE_TIMEZONE' environment variable was not set. It is required to set this environment variable to '1' in both driver and executor sides if you use pyarrow>=2.0.0. pandas-on-Spark will set it for you but it does not work if there is a Spark context already launched.\n",
      "  warnings.warn(\n"
     ]
    },
    {
     "name": "stderr",
     "output_type": "stream",
     "text": [
      "Setting default log level to \"WARN\".\n",
      "To adjust logging level use sc.setLogLevel(newLevel). For SparkR, use setLogLevel(newLevel).\n"
     ]
    },
    {
     "name": "stderr",
     "output_type": "stream",
     "text": [
      "24/01/10 00:49:12 WARN NativeCodeLoader: Unable to load native-hadoop library for your platform... using builtin-java classes where applicable\n"
     ]
    },
    {
     "name": "stderr",
     "output_type": "stream",
     "text": [
      "\r",
      "[Stage 0:>                                                          (0 + 1) / 1]\r"
     ]
    },
    {
     "name": "stderr",
     "output_type": "stream",
     "text": [
      "\r",
      "                                                                                \r"
     ]
    },
    {
     "data": {
      "text/html": [
       "<div>\n",
       "<style scoped>\n",
       "    .dataframe tbody tr th:only-of-type {\n",
       "        vertical-align: middle;\n",
       "    }\n",
       "\n",
       "    .dataframe tbody tr th {\n",
       "        vertical-align: top;\n",
       "    }\n",
       "\n",
       "    .dataframe thead th {\n",
       "        text-align: right;\n",
       "    }\n",
       "</style>\n",
       "<table border=\"1\" class=\"dataframe\">\n",
       "  <thead>\n",
       "    <tr style=\"text-align: right;\">\n",
       "      <th></th>\n",
       "      <th>x</th>\n",
       "      <th>y</th>\n",
       "    </tr>\n",
       "  </thead>\n",
       "  <tbody>\n",
       "    <tr>\n",
       "      <th>0</th>\n",
       "      <td>1.0</td>\n",
       "      <td>2.0</td>\n",
       "    </tr>\n",
       "    <tr>\n",
       "      <th>1</th>\n",
       "      <td>2.1</td>\n",
       "      <td>4.2</td>\n",
       "    </tr>\n",
       "    <tr>\n",
       "      <th>2</th>\n",
       "      <td>3.5</td>\n",
       "      <td>7.0</td>\n",
       "    </tr>\n",
       "  </tbody>\n",
       "</table>\n",
       "</div>"
      ],
      "text/plain": [
       "     x    y\n",
       "0  1.0  2.0\n",
       "1  2.1  4.2\n",
       "2  3.5  7.0"
      ]
     },
     "execution_count": 2,
     "metadata": {},
     "output_type": "execute_result"
    }
   ],
   "source": [
    "import pyspark.pandas as ps\n",
    "import warnings\n",
    "# Ignore FutureWarning as installed Pyspark version uses deprecated method\n",
    "warnings.simplefilter(action='ignore', category=FutureWarning)\n",
    "\n",
    "df = ps.DataFrame({\n",
    "    \"x\": [1, 2.1, 3.5],\n",
    "    \"y\": [2, 4.2, 7]\n",
    "})\n",
    "\n",
    "df"
   ]
  },
  {
   "cell_type": "markdown",
   "id": "6eded75e",
   "metadata": {
    "slideshow": {
     "slide_type": "subslide"
    }
   },
   "source": [
    "In Python, Spark DataFrames can also be handled like Panda's dataframes:"
   ]
  },
  {
   "cell_type": "code",
   "execution_count": 3,
   "id": "c13023f1",
   "metadata": {
    "execution": {
     "iopub.execute_input": "2024-01-10T00:49:19.364304Z",
     "iopub.status.busy": "2024-01-10T00:49:19.362691Z",
     "iopub.status.idle": "2024-01-10T00:49:20.205035Z",
     "shell.execute_reply": "2024-01-10T00:49:20.204272Z"
    },
    "slideshow": {
     "slide_type": "fragment"
    }
   },
   "outputs": [
    {
     "name": "stderr",
     "output_type": "stream",
     "text": [
      "/opt/hostedtoolcache/Python/3.8.18/x64/lib/python3.8/site-packages/pyspark/pandas/utils.py:1016: PandasAPIOnSparkAdviceWarning: `to_pandas` loads all data into the driver's memory. It should only be used if the resulting pandas DataFrame is expected to be small.\n",
      "  warnings.warn(message, PandasAPIOnSparkAdviceWarning)\n"
     ]
    },
    {
     "data": {
      "image/png": "[encoded data removed]",
      "text/plain": [
       "<Figure size 1200x300 with 1 Axes>"
      ]
     },
     "metadata": {},
     "output_type": "display_data"
    }
   ],
   "source": [
    "df.to_pandas().plot(backend=\"matplotlib\", figsize=(12, 3));"
   ]
  },
  {
   "cell_type": "markdown",
   "id": "5d4159e6",
   "metadata": {
    "slideshow": {
     "slide_type": "fragment"
    }
   },
   "source": [
    "This allows using Spark's functionality, like distributed processing, without major changes from code that originally used Pandas.\n",
    "\n",
    "The distributed nature of the data is **transparent**: we don't need to know where it lives to work with it."
   ]
  },
  {
   "cell_type": "markdown",
   "id": "3413a2a9",
   "metadata": {
    "slideshow": {
     "slide_type": "slide"
    }
   },
   "source": [
    "### MLib\n",
    "\n",
    "Spark includes an extensive Machine Learning library ([MLlib](https://spark.apache.org/docs/latest/ml-guide.html)):\n",
    "\n",
    "- Classification\n",
    "- Regression\n",
    "- Clustering\n",
    "- Reading from different file types\n",
    "- Support for ML pipelines\n",
    "\n",
    "Working with Spark's `MLlib` allows users to take advantage of distributed architectures more easily than for example `scikit-learn`."
   ]
  },
  {
   "cell_type": "markdown",
   "id": "86470ae5",
   "metadata": {
    "slideshow": {
     "slide_type": "subslide"
    }
   },
   "source": [
    "Get an example data file that we will use and save it in a local file"
   ]
  },
  {
   "cell_type": "code",
   "execution_count": 4,
   "id": "e6775bbb",
   "metadata": {
    "execution": {
     "iopub.execute_input": "2024-01-10T00:49:20.208561Z",
     "iopub.status.busy": "2024-01-10T00:49:20.208100Z",
     "iopub.status.idle": "2024-01-10T00:49:20.459874Z",
     "shell.execute_reply": "2024-01-10T00:49:20.459182Z"
    },
    "slideshow": {
     "slide_type": "-"
    }
   },
   "outputs": [],
   "source": [
    "import urllib.request\n",
    "\n",
    "data_url = \"https://raw.githubusercontent.com/apache/spark/master/data/mllib/sample_libsvm_data.txt\"\n",
    "response = urllib.request.urlopen(data_url)\n",
    "with open('sample_libsvm_data.txt', 'wb') as data_file:\n",
    "    contents = response.read()\n",
    "    data_file.write(contents)"
   ]
  },
  {
   "cell_type": "markdown",
   "id": "52482e9e",
   "metadata": {
    "slideshow": {
     "slide_type": "subslide"
    }
   },
   "source": [
    "Train a logistic regression model on the example data and print fitted parameters (adapted from the Spark documentation: https://github.com/apache/spark):"
   ]
  },
  {
   "cell_type": "code",
   "execution_count": 5,
   "id": "b54b6ae2",
   "metadata": {
    "execution": {
     "iopub.execute_input": "2024-01-10T00:49:20.463481Z",
     "iopub.status.busy": "2024-01-10T00:49:20.463075Z",
     "iopub.status.idle": "2024-01-10T00:49:27.392629Z",
     "shell.execute_reply": "2024-01-10T00:49:27.391986Z"
    },
    "slideshow": {
     "slide_type": "-"
    }
   },
   "outputs": [
    {
     "name": "stderr",
     "output_type": "stream",
     "text": [
      "\r",
      "[Stage 3:>                                                          (0 + 1) / 1]\r",
      "\r",
      "                                                                                \r"
     ]
    },
    {
     "name": "stdout",
     "output_type": "stream",
     "text": [
      "Coefficients = SparseVector(692, {272: -0.0001, 300: -0.0001, 323: 0.0, 350: 0.0004, 351: 0.0003, 378: 0.0006, 379: 0.0004, 405: 0.0004, 406: 0.0008, 407: 0.0005, 428: -0.0, 433: 0.0006, 434: 0.0009, 435: 0.0001, 455: -0.0, 456: -0.0, 461: 0.0005, 462: 0.0008, 483: -0.0001, 484: -0.0, 489: 0.0005, 490: 0.0005, 496: -0.0, 511: -0.0003, 512: -0.0001, 517: 0.0005, 539: -0.0001, 540: -0.0004, 568: -0.0001})\n",
      "Intercept = -0.5991460286401453\n"
     ]
    }
   ],
   "source": [
    "from pyspark.ml.classification import LogisticRegression\n",
    "from pyspark.sql import SparkSession\n",
    "\n",
    "spark = SparkSession.builder.getOrCreate()\n",
    "# Read in the data\n",
    "training = spark.read.format(\"libsvm\").load(\"sample_libsvm_data.txt\" , numFeatures=692)\n",
    "\n",
    "lr = LogisticRegression(maxIter=10, regParam=0.3, elasticNetParam=0.8)\n",
    "\n",
    "# Fit the model\n",
    "lrModel = lr.fit(training)\n",
    "\n",
    "# Print the coefficients and intercept for logistic regression\n",
    "print(f\"Coefficients = {repr(lrModel.coefficients)}\")\n",
    "print(f\"Intercept = {lrModel.intercept}\")"
   ]
  },
  {
   "cell_type": "markdown",
   "id": "329673de",
   "metadata": {
    "slideshow": {
     "slide_type": "slide"
    }
   },
   "source": [
    "### Streaming\n",
    "\n",
    "In many cases, it is not possible to access all the data at once, due to size or availability."
   ]
  },
  {
   "cell_type": "markdown",
   "id": "f2201bf0",
   "metadata": {
    "slideshow": {
     "slide_type": "fragment"
    }
   },
   "source": [
    "Spark allows processing data points as they arrive. It does this by creating small batches of data, calculating intermediate results, and updating those appropriately.\n",
    "\n",
    "- Can incorporate real-time data.\n",
    "- Can be more efficient when loading large datasets or from sources with high latency.\n",
    "- Algorithm and program structure may need to be adapted, but Spark provides features for \"hiding\" that.\n",
    "- For example: MLlib contains implementations for fitting on streaming training data, or making predictions on streaming unseen data."
   ]
  },
  {
   "cell_type": "markdown",
   "id": "6837c177",
   "metadata": {
    "slideshow": {
     "slide_type": "slide"
    }
   },
   "source": [
    "## Summary\n",
    "\n",
    "- Using frameworks makes it much easier to build applications with distributed data processing.\n",
    "- Hadoop and Spark are complementary. Hadoop provides more basic functionality, while Spark can run standalone and is better for data that fits in memory."
   ]
  }
 ],
 "metadata": {
  "celltoolbar": "Slideshow",
  "kernelspec": {
   "display_name": "Python 3 (ipykernel)",
   "language": "python",
   "name": "python3"
  },
  "language_info": {
   "codemirror_mode": {
    "name": "ipython",
    "version": 3
   },
   "file_extension": ".py",
   "mimetype": "text/x-python",
   "name": "python",
   "nbconvert_exporter": "python",
   "pygments_lexer": "ipython3",
   "version": "3.8.18"
  }
 },
 "nbformat": 4,
 "nbformat_minor": 5
}
