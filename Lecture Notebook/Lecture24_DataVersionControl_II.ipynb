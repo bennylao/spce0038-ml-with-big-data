{
 "cells": [
  {
   "cell_type": "markdown",
   "id": "4bdd9579",
   "metadata": {
    "slideshow": {
     "slide_type": "slide"
    }
   },
   "source": [
    "# Lecture 24: Data Version Control II"
   ]
  },
  {
   "cell_type": "markdown",
   "id": "b7c47ec9",
   "metadata": {
    "slideshow": {
     "slide_type": "skip"
    }
   },
   "source": [
    "![](https://www.tensorflow.org/images/colab_logo_32px.png)\n",
    "[Run in colab](https://colab.research.google.com/drive/106YjL7FM57HsYQMU3X5DZM2eEt_Nyewd)"
   ]
  },
  {
   "cell_type": "code",
   "execution_count": 1,
   "id": "a4afaf1c",
   "metadata": {
    "execution": {
     "iopub.execute_input": "2024-01-10T00:48:40.845022Z",
     "iopub.status.busy": "2024-01-10T00:48:40.844638Z",
     "iopub.status.idle": "2024-01-10T00:48:40.852405Z",
     "shell.execute_reply": "2024-01-10T00:48:40.851869Z"
    },
    "slideshow": {
     "slide_type": "skip"
    }
   },
   "outputs": [
    {
     "name": "stdout",
     "output_type": "stream",
     "text": [
      "Last executed: 2024-01-10 00:48:40\n"
     ]
    }
   ],
   "source": [
    "import datetime\n",
    "now = datetime.datetime.now()\n",
    "print(\"Last executed: \" + now.strftime(\"%Y-%m-%d %H:%M:%S\"))"
   ]
  },
  {
   "cell_type": "markdown",
   "id": "39385a05-35d2-4aa2-8ea5-2c2c0832b20a",
   "metadata": {
    "slideshow": {
     "slide_type": "slide"
    }
   },
   "source": [
    "This lecture is part of a series on [Data Version control (DVC)](https://dvc.org), a way of systematically keeping track of different versions of models and datasets."
   ]
  },
  {
   "cell_type": "markdown",
   "id": "c1d54de1-9348-4ceb-9bbc-42d83d02bfea",
   "metadata": {
    "slideshow": {
     "slide_type": "fragment"
    },
    "tags": []
   },
   "source": [
    "This second lecture in the series will cover\n",
    "- Including files from external sources.\n",
    "- Automation: creating and rerunning pipelines."
   ]
  },
  {
   "cell_type": "markdown",
   "id": "40b09eb8-2fb8-464d-ac3c-e5e64d3577ea",
   "metadata": {
    "slideshow": {
     "slide_type": "slide"
    }
   },
   "source": [
    "## Adding external files\n",
    "\n",
    "We have seen how we can track our own files with `dvc add`. But what if we want to include data or other files that are already available?"
   ]
  },
  {
   "cell_type": "markdown",
   "id": "976e709d-506a-42e2-9ba0-bad7280097b4",
   "metadata": {
    "slideshow": {
     "slide_type": "fragment"
    },
    "tags": []
   },
   "source": [
    "DVC offers different options:\n",
    "- `dvc get` to download a file from a DVC or git repository\n",
    "- `dvc import` to reuse a file from a DVC or git repository\n",
    "- `dvc get-url` and `dvc import-url` to copy or reuse a file from general remote storage."
   ]
  },
  {
   "cell_type": "markdown",
   "id": "02f9d9c2-9567-4979-8a73-bc9a09a52efe",
   "metadata": {
    "slideshow": {
     "slide_type": "subslide"
    },
    "tags": []
   },
   "source": [
    "The [`get`](https://dvc.org/doc/command-reference/get) and [`import`](https://dvc.org/doc/command-reference/import) commands are similar. The difference is that the latter also links to the original file and tracks its history. Therefore, if an update is made to the original repository later on, we can get the changes to our copy (see [`dvc update`](https://dvc.org/doc/command-reference/update))."
   ]
  },
  {
   "cell_type": "markdown",
   "id": "30e8a045-6add-44ed-861c-114499770299",
   "metadata": {
    "slideshow": {
     "slide_type": "fragment"
    },
    "tags": []
   },
   "source": [
    "The [`get-url`](https://dvc.org/doc/command-reference/get-url) and [`import-url`](https://dvc.org/doc/command-reference/import-url) variants are useful when the original data is not already in a repository. They can handle different storage protocols and providers."
   ]
  },
  {
   "cell_type": "markdown",
   "id": "c7769ccd-236e-4eda-a9d9-e72baa6a4824",
   "metadata": {
    "slideshow": {
     "slide_type": "slide"
    }
   },
   "source": [
    "## Creating pipelines\n",
    "\n",
    "One of the core benefits of using a data-focused version control system is that we can structure our work around data flows, not individual files."
   ]
  },
  {
   "cell_type": "markdown",
   "id": "78978fb6-be6c-4730-81f5-890182771d0c",
   "metadata": {
    "slideshow": {
     "slide_type": "fragment"
    },
    "tags": []
   },
   "source": [
    "With DVC, we can\n",
    "- specify each stage of a pipeline\n",
    "- infer the connections between them\n",
    "- run a whole pipeline or only the parts required"
   ]
  },
  {
   "cell_type": "markdown",
   "id": "c63718f5",
   "metadata": {
    "slideshow": {
     "slide_type": "subslide"
    },
    "tags": []
   },
   "source": [
    "Let's consider this example: (you can find a [toy implementation](https://github.com/ucl/dvc-example-pipeline) of it on GitHub)\n",
    "\n",
    "<img alt=\"Image of a data pipeline with a set of samples undergoing PCA and logistic regression. Each step is represented as a box with arrows linking them.\" src=\"https://raw.githubusercontent.com/astro-informatics/course_mlbd_images/master/Lecture24_Images/pipeline-example.svg\" width=\"100%\" />"
   ]
  },
  {
   "cell_type": "markdown",
   "id": "aeda910e",
   "metadata": {
    "slideshow": {
     "slide_type": "notes"
    },
    "tags": []
   },
   "source": [
    "We start with a set of a labelled samples contained in a file `samples.csv`.\n",
    "\n",
    "The first step is to run the code in `reduce_dim.py`. This reads the inputs and performs PCA on them to reduce the dimensionality of the problem. The dataset produced is stored in `reduced.csv`.\n",
    "\n",
    "We then use this reduced dataset to train a logicistic regression classifier. The code for this is in the file `log_reg.py`. After the training is complete, the code serializes the trained model and stores it in Pickle format in `classifier.pkl`, so it can be shared and reused."
   ]
  },
  {
   "cell_type": "markdown",
   "id": "3b9ae053-ffbc-42a8-9e2b-52d337a186c1",
   "metadata": {
    "slideshow": {
     "slide_type": "slide"
    }
   },
   "source": [
    "### Representing a pipeline\n",
    "\n",
    "DVC sees pipelines as collections of steps. Each step has some inputs or **dependencies** and produces **outputs**. The different stages are linked to each other through these."
   ]
  },
  {
   "cell_type": "markdown",
   "id": "97720d61-57f6-4e86-92b5-28d4caf036d5",
   "metadata": {
    "slideshow": {
     "slide_type": "fragment"
    },
    "tags": []
   },
   "source": [
    "Furthermore, a pipeline can have one or more **parameters** that control its stages and customize their behaviour."
   ]
  },
  {
   "cell_type": "markdown",
   "id": "1c182531-4908-4ace-932c-21f437f31658",
   "metadata": {
    "slideshow": {
     "slide_type": "fragment"
    },
    "tags": []
   },
   "source": [
    "DVC stores descriptions of pipelines in a structured file `dvc.yaml` written in the YAML format. Here is how the above example could be represented:"
   ]
  },
  {
   "cell_type": "markdown",
   "id": "778aad1c",
   "metadata": {
    "slideshow": {
     "slide_type": "subslide"
    },
    "tags": []
   },
   "source": [
    "```yaml\n",
    "stages:\n",
    "  pca:\n",
    "    cmd: python reduce_dim.py\n",
    "    deps:\n",
    "      - reduce_dim.py\n",
    "      - samples.csv\n",
    "    params:\n",
    "      - total_var\n",
    "    outs:\n",
    "      - reduced.csv \n",
    "  classification:\n",
    "    cmd: python log_reg.py\n",
    "    deps:\n",
    "      - log_reg.py\n",
    "      - reduced.csv\n",
    "    outs:\n",
    "      - classifier.pkl\n",
    "```"
   ]
  },
  {
   "cell_type": "markdown",
   "id": "35295d02-5994-4e4e-bad7-988469dca311",
   "metadata": {
    "slideshow": {
     "slide_type": "subslide"
    },
    "tags": []
   },
   "source": [
    "Every step has its own section, appropriately named (`pca`, `classification`). Each section specification has:\n",
    "- the command to run that step (`cmd`),\n",
    "- a list of dependencies (`deps`) which feed into the step,\n",
    "- a list of outputs (`outs`) that the step produces,\n",
    "- a list of parameters (`params`) that control that step."
   ]
  },
  {
   "cell_type": "markdown",
   "id": "44d15ab0-0a51-49f4-a18e-ad6928b4694a",
   "metadata": {
    "slideshow": {
     "slide_type": "fragment"
    },
    "tags": []
   },
   "source": [
    "Note that the dependencies include the code itself, as well as any input files!"
   ]
  },
  {
   "cell_type": "markdown",
   "id": "d52a8b40-8004-4d11-b209-7e8695ddd005",
   "metadata": {
    "slideshow": {
     "slide_type": "subslide"
    },
    "tags": []
   },
   "source": [
    "The parameters are stored in a separate file. By default this is called `params.yaml` but other formats are allowed."
   ]
  },
  {
   "cell_type": "markdown",
   "id": "95ef6f03-7a16-41f6-af3f-6aee660c5165",
   "metadata": {
    "slideshow": {
     "slide_type": "fragment"
    },
    "tags": []
   },
   "source": [
    "In this example, the file needs to contain one parameter (the total variance explained by the chosen PCA dimensions):\n",
    "\n",
    "```yaml\n",
    "total_var: 0.9\n",
    "```"
   ]
  },
  {
   "cell_type": "markdown",
   "id": "bc6784e6-8a69-4806-b915-a6549fad63a2",
   "metadata": {
    "slideshow": {
     "slide_type": "slide"
    }
   },
   "source": [
    "### Creating steps\n",
    "\n",
    "Rather than write the above `dvc.yaml` file all at once, we can add the steps in order and let DVC create the file."
   ]
  },
  {
   "cell_type": "markdown",
   "id": "de237f08-3e58-4fca-b0c7-6552afb79669",
   "metadata": {
    "slideshow": {
     "slide_type": "fragment"
    },
    "tags": []
   },
   "source": [
    "To do this, we need to tell it how to execute each step, by using [the `dvc stage add` command](https://dvc.org/doc/command-reference/stage/add) at the terminal:\n",
    "\n",
    "```bash\n",
    "dvc stage add \\\n",
    "    -n pca \\\n",
    "    -d reduce_dim.py -d samples.csv \\\n",
    "    -p total_var \\\n",
    "    -o reduced.csv \\\n",
    "    python reduce_dim.py\n",
    "```"
   ]
  },
  {
   "cell_type": "markdown",
   "id": "1c8b6c39-6596-4019-bb84-73218931edd1",
   "metadata": {
    "slideshow": {
     "slide_type": "subslide"
    },
    "tags": []
   },
   "source": [
    "The properties of the stage are given in the command options:\n",
    "- `-n`: name of the step,\n",
    "- `-d`: dependencies,\n",
    "- `-p`: parameters,\n",
    "- `-o`: outputs,\n",
    "- finally, the command to run."
   ]
  },
  {
   "cell_type": "markdown",
   "id": "c75fa663-8b5e-4787-a983-2b06afb0ee05",
   "metadata": {
    "slideshow": {
     "slide_type": "slide"
    }
   },
   "source": [
    "### Reproducing a pipeline\n",
    "\n",
    "We can run all steps in a pipeline using the command `dvc repro`."
   ]
  },
  {
   "cell_type": "markdown",
   "id": "08ce478a-d24b-4e11-9008-396d37d472fe",
   "metadata": {
    "slideshow": {
     "slide_type": "fragment"
    },
    "tags": []
   },
   "source": [
    "Often, running all steps will be redundant. For example, if we have only made changes to the `log_reg.py` file since the last time we ran the pipeline, then the previous step is unaffected and does not need to be rerun. "
   ]
  },
  {
   "cell_type": "markdown",
   "id": "135cfed9-2256-4a3a-a675-fba14f444d53",
   "metadata": {
    "slideshow": {
     "slide_type": "fragment"
    },
    "tags": []
   },
   "source": [
    "However, if we had updated the samples file or modified the parameter controlling the PCA step, then that step would need to be rerun, as well as all steps downstream of it."
   ]
  },
  {
   "cell_type": "markdown",
   "id": "a0ffae79-a7d1-406d-a1a9-8a83903d759a",
   "metadata": {
    "slideshow": {
     "slide_type": "fragment"
    },
    "tags": []
   },
   "source": [
    "By tracking changes to files and analysing the structure of the pipeline, DVC can infer which steps have changed and only run those."
   ]
  },
  {
   "cell_type": "markdown",
   "id": "f391cb97-5180-47c7-be59-9a99fac99070",
   "metadata": {
    "slideshow": {
     "slide_type": "slide"
    }
   },
   "source": [
    "## Metrics and outputs\n",
    "\n",
    "DVC also allows us to compare the performance of our models as we make changes to them. We do this by declaring **metrics** as part of a pipeline."
   ]
  },
  {
   "cell_type": "markdown",
   "id": "1a68b616-0c6d-46f8-9585-345013169013",
   "metadata": {
    "slideshow": {
     "slide_type": "fragment"
    },
    "tags": []
   },
   "source": [
    "In the above example, let's assume we have an additional step which evaluates our trained classifier and stores the results in a file `scores.json`. If we compute two performance metrics, the precision and the area under the ROC curve, the results may look like:\n",
    "\n",
    "```json\n",
    "{ \"precision\": 0.63, \"roc_auc\": 0.85 }\n",
    "```"
   ]
  },
  {
   "cell_type": "markdown",
   "id": "b957aae3-f5a6-472c-9651-999d1dd90150",
   "metadata": {
    "slideshow": {
     "slide_type": "subslide"
    },
    "tags": []
   },
   "source": [
    "We can record this by expanding the pipeline description with an extra step, like this:\n",
    "```yaml\n",
    "stages:\n",
    "  (...as above...)\n",
    "  evaluation:\n",
    "    cmd: python evaluate.py\n",
    "    deps:\n",
    "      - evaluate.py\n",
    "      - classifier.pkl\n",
    "    metrics:\n",
    "      - scores.json\n",
    "```"
   ]
  },
  {
   "cell_type": "markdown",
   "id": "d24b3b58-a3dc-493b-b814-8444ccef4bf2",
   "metadata": {
    "slideshow": {
     "slide_type": "fragment"
    },
    "tags": []
   },
   "source": [
    "Running the whole pipeline with `dvc repro` will now also produce the file with the scores."
   ]
  },
  {
   "cell_type": "markdown",
   "id": "4c67b9a5-2d06-4300-9458-bdd556b19032",
   "metadata": {
    "slideshow": {
     "slide_type": "subslide"
    },
    "tags": []
   },
   "source": [
    "Let's make a change to the parameters file, e.g. to increase `total_var` to 0.95."
   ]
  },
  {
   "cell_type": "markdown",
   "id": "9bce296a-c215-4468-a1f9-4a21d71f4f22",
   "metadata": {
    "slideshow": {
     "slide_type": "fragment"
    },
    "tags": []
   },
   "source": [
    "DVC will notice this and can show us the difference if we run `dvc params diff`:\n",
    "\n",
    "```\n",
    "Path         Param          Old    New\n",
    "params.yaml  total_var      0.9    0.95\n",
    "```"
   ]
  },
  {
   "cell_type": "markdown",
   "id": "c2ff5b3c-507e-4185-be40-8e127f630c7e",
   "metadata": {
    "slideshow": {
     "slide_type": "subslide"
    },
    "tags": []
   },
   "source": [
    "We can also easilly inspect what effect this has on the performance metrics. If we run the pipeline again, then `dvc metrics diff` will show us how the metrics have changed:\n",
    "\n",
    "```\n",
    "Path         Metric     Old     New      Change\n",
    "scores.json  precision  0.63    0.65     0.02\n",
    "scores.json  roc_auc    0.85    0.91     0.06\n",
    "```"
   ]
  },
  {
   "cell_type": "markdown",
   "id": "943bae9f-c2fb-40f8-8284-df330995a84a",
   "metadata": {
    "slideshow": {
     "slide_type": "fragment"
    },
    "tags": []
   },
   "source": [
    "In two commands, we can run a whole series of steps and inspect the results - in this case, see that changing how we choose features after PCA has improved performance."
   ]
  },
  {
   "cell_type": "markdown",
   "id": "e9bd7de5",
   "metadata": {
    "slideshow": {
     "slide_type": "slide"
    }
   },
   "source": [
    "## Other DVC features\n",
    "\n",
    "- **Automated plots** for metrics.\n",
    "- **Experiments** collect different runs and present them cleanly.\n",
    "- **Pushing** to remote storage, for backups and sharing.\n",
    "- **Python API** lets us call DVC functionality from a program (e.g. add a new file)."
   ]
  },
  {
   "cell_type": "markdown",
   "id": "c0243af1-adb1-4767-8638-a2c3fd75aceb",
   "metadata": {
    "slideshow": {
     "slide_type": "slide"
    }
   },
   "source": [
    "## MLflow\n",
    "\n",
    "[MLflow](https://mlflow.org/) is a tool for tracking and rerunning machine learning workflows. It is similar to dvc but is controlled from a program rather than the command line, and is primarily focused on Python workflows."
   ]
  },
  {
   "cell_type": "markdown",
   "id": "e68bbf0b-f859-4022-b7ab-fc33713fc9f9",
   "metadata": {
    "slideshow": {
     "slide_type": "fragment"
    },
    "tags": []
   },
   "source": [
    "- Tracking of code, data files, parameter configurations, environment, results.\n",
    "- (Re)running code locally or remotely.\n",
    "- Visual interface for monitoring progress.\n",
    "- Integrations with specific toolchains and frameworks, e.g. Tensorflow."
   ]
  },
  {
   "cell_type": "markdown",
   "id": "769b7b2a",
   "metadata": {
    "slideshow": {
     "slide_type": "slide"
    }
   },
   "source": [
    "## Summary\n",
    "- DVC supports including data and files from other projects, from a variety of sources.\n",
    "- Combining steps in pipelines makes it simpler to rerun analyses without manual intervention.\n",
    "- Apart from files, DVC can also track metrics and automatically present the effect of changes."
   ]
  }
 ],
 "metadata": {
  "celltoolbar": "Slideshow",
  "kernelspec": {
   "display_name": "Python 3 (ipykernel)",
   "language": "python",
   "name": "python3"
  },
  "language_info": {
   "codemirror_mode": {
    "name": "ipython",
    "version": 3
   },
   "file_extension": ".py",
   "mimetype": "text/x-python",
   "name": "python",
   "nbconvert_exporter": "python",
   "pygments_lexer": "ipython3",
   "version": "3.8.18"
  }
 },
 "nbformat": 4,
 "nbformat_minor": 5
}
