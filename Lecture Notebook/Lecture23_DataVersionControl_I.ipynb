{
 "cells": [
  {
   "cell_type": "markdown",
   "id": "dd38a2a6",
   "metadata": {
    "slideshow": {
     "slide_type": "slide"
    }
   },
   "source": [
    "# Lecture 23: Data Version Control I"
   ]
  },
  {
   "cell_type": "markdown",
   "id": "8ce13f2b",
   "metadata": {
    "slideshow": {
     "slide_type": "skip"
    }
   },
   "source": [
    "![](https://www.tensorflow.org/images/colab_logo_32px.png)\n",
    "[Run in colab](https://colab.research.google.com/drive/1jwHTnoQx45v_19H6Vy6zD4IrMVKOheac)"
   ]
  },
  {
   "cell_type": "code",
   "execution_count": 1,
   "id": "3aa0f593",
   "metadata": {
    "execution": {
     "iopub.execute_input": "2024-01-10T00:48:29.696277Z",
     "iopub.status.busy": "2024-01-10T00:48:29.695911Z",
     "iopub.status.idle": "2024-01-10T00:48:29.704748Z",
     "shell.execute_reply": "2024-01-10T00:48:29.704129Z"
    },
    "slideshow": {
     "slide_type": "skip"
    }
   },
   "outputs": [
    {
     "name": "stdout",
     "output_type": "stream",
     "text": [
      "Last executed: 2024-01-10 00:48:29\n"
     ]
    }
   ],
   "source": [
    "import datetime\n",
    "now = datetime.datetime.now()\n",
    "print(\"Last executed: \" + now.strftime(\"%Y-%m-%d %H:%M:%S\"))"
   ]
  },
  {
   "cell_type": "markdown",
   "id": "4c0a04de-4f1e-42bf-b462-874b48ff64c2",
   "metadata": {
    "slideshow": {
     "slide_type": "slide"
    }
   },
   "source": [
    "This lecture is part of series on [Data Version Control (DVC)](https://dvc.org), a way of systematically keeping track of different versions of models and datasets."
   ]
  },
  {
   "cell_type": "markdown",
   "id": "d05ee9b0-3275-4e9b-9d35-7436ec73df96",
   "metadata": {
    "slideshow": {
     "slide_type": "fragment"
    },
    "tags": []
   },
   "source": [
    "This first lecture in the series will cover:\n",
    "- Why using DVC is a good idea.\n",
    "- How to track files and move between versions."
   ]
  },
  {
   "cell_type": "markdown",
   "id": "1365492d",
   "metadata": {
    "slideshow": {
     "slide_type": "slide"
    }
   },
   "source": [
    "## What is version control?"
   ]
  },
  {
   "cell_type": "markdown",
   "id": "371f940a",
   "metadata": {
    "slideshow": {
     "slide_type": "fragment"
    }
   },
   "source": [
    "<figure style=\"margin: auto; text-align: center;\">\n",
    "  <img src=\"http://phdcomics.com/comics/archive/phd101212s.gif\" width=\"550\" alt=\"Series of drawings of a graduate student making changes to a manuscript based on his supervisor's comments, with his frustration and file names progressively increasing.\" style=\"margin: auto; text-align: center;\"/>\n",
    "    <figcaption>From <a href=\"http://phdcomics.com/comics/archive.php?comicid=1531\">PHD Comics.</a></figcaption>\n",
    "</figure>"
   ]
  },
  {
   "cell_type": "markdown",
   "id": "5110aff2-ab96-4f48-bb8b-886c56378910",
   "metadata": {
    "slideshow": {
     "slide_type": "subslide"
    },
    "tags": []
   },
   "source": [
    "Instead of having multiple copies or working on a shared version:\n",
    "- **track changes** in distinct stages (_commits_) as you work,\n",
    "- move backwards and forwards in history,\n",
    "- explore different alternatives (_branches_),\n",
    "- share entire history with others."
   ]
  },
  {
   "cell_type": "markdown",
   "id": "2e1bbf9e-1bb1-4019-bdca-7031550e3503",
   "metadata": {
    "slideshow": {
     "slide_type": "fragment"
    },
    "tags": []
   },
   "source": [
    "Different systems: **Git**, Subversion, Mercurial, ..."
   ]
  },
  {
   "cell_type": "markdown",
   "id": "7b86a897",
   "metadata": {
    "slideshow": {
     "slide_type": "subslide"
    },
    "tags": []
   },
   "source": [
    "We start our work with by committing the state of our code or data. Each commit we create is given a unique identifier:\n",
    "\n",
    "<img alt=\"Diagram of a single commit, represented as a labelled circle\" src=\"https://raw.githubusercontent.com/astro-informatics/course_mlbd_images/master/Lecture23_Images/git-one.svg\" width=\"12%\" />"
   ]
  },
  {
   "cell_type": "markdown",
   "id": "f4f0b6dd",
   "metadata": {
    "slideshow": {
     "slide_type": "subslide"
    },
    "tags": []
   },
   "source": [
    "As we work, we make more commits:\n",
    "\n",
    "<img alt=\"Diagram of two commits with a link from the first to the second\" src=\"https://raw.githubusercontent.com/astro-informatics/course_mlbd_images/master/Lecture23_Images/git-two.svg\" width=\"22.5%\" />"
   ]
  },
  {
   "cell_type": "markdown",
   "id": "20222899",
   "metadata": {
    "slideshow": {
     "slide_type": "subslide"
    },
    "tags": []
   },
   "source": [
    "Sometimes we make mistakes:\n",
    "\n",
    "<img alt=\"Diagram of three linked commits, where the third is highlighted as wrong\" src=\"https://raw.githubusercontent.com/astro-informatics/course_mlbd_images/master/Lecture23_Images/git-wrong.svg\" width=\"33.75%\" />"
   ]
  },
  {
   "cell_type": "markdown",
   "id": "c6aee80b",
   "metadata": {
    "slideshow": {
     "slide_type": "subslide"
    },
    "tags": []
   },
   "source": [
    "After realising the error, we can go back and fix it, replacing it with a new commit:\n",
    "\n",
    "<img alt=\"Diagram of three commits, where the previous mistake has been replaced with a new, fixed commit\" src=\"https://raw.githubusercontent.com/astro-informatics/course_mlbd_images/master/Lecture23_Images/git-fixed.svg\" width=\"33.75%\" />"
   ]
  },
  {
   "cell_type": "markdown",
   "id": "0fc650c0",
   "metadata": {
    "slideshow": {
     "slide_type": "subslide"
    },
    "tags": []
   },
   "source": [
    "Often, we want to try out different approaches before we decide on what's best:\n",
    "\n",
    "<img alt=\"Diagram of a commit history with two branches\" src=\"https://raw.githubusercontent.com/astro-informatics/course_mlbd_images/master/Lecture23_Images/git-branch.svg\" width=\"52.5%\" />"
   ]
  },
  {
   "cell_type": "markdown",
   "id": "9ced9975",
   "metadata": {
    "slideshow": {
     "slide_type": "subslide"
    },
    "tags": []
   },
   "source": [
    "This results in a non-linear history. If we want, we can also merge the two branches:\n",
    "\n",
    "<img alt=\"Diagram of a commit history where two branches split off and are then rejoined\" src=\"https://raw.githubusercontent.com/astro-informatics/course_mlbd_images/master/Lecture23_Images/git-merge.svg\" width=\"75%\" />"
   ]
  },
  {
   "cell_type": "markdown",
   "id": "b1779ab9",
   "metadata": {
    "slideshow": {
     "slide_type": "slide"
    }
   },
   "source": [
    "## Why data version control?\n",
    "\n",
    "Similar principles apply to data workflows as to code:\n",
    "\n",
    "- Mistakes happen!\n",
    "- New data appearing.\n",
    "- Try variants of model (e.g. algorithm or its parameters) or data pipeline (e.g. preprocessing)."
   ]
  },
  {
   "cell_type": "markdown",
   "id": "b0c325ea",
   "metadata": {
    "slideshow": {
     "slide_type": "subslide"
    },
    "tags": []
   },
   "source": [
    "Git is not only for source code files. However, a dedicated data-focused solution is more attractive:\n",
    "\n",
    "- Git does not handle very large files efficiently.\n",
    "- Thinking in terms of data workflows (models, parameters, inputs, ...) offers new useful functionality, e.g. reproducibility, metrics.\n",
    "- Better integration with remote data providers e.g. Amazon Web Services S3.\n",
    "- Can still use git under the hood, keeping code and data versioned simultaneously."
   ]
  },
  {
   "cell_type": "markdown",
   "id": "89e3cb9d-dc81-4549-aef0-53bec5fa134c",
   "metadata": {
    "slideshow": {
     "slide_type": "slide"
    }
   },
   "source": [
    "## Getting started with DVC\n",
    "\n",
    "DVC is a command-line application that runs on any platform. Follow the [installation instructions](https://dvc.org/doc/install) to get it on your computer."
   ]
  },
  {
   "cell_type": "markdown",
   "id": "6873e91c-d4b4-4e19-b44e-045b6bc5b64e",
   "metadata": {
    "slideshow": {
     "slide_type": "fragment"
    },
    "tags": []
   },
   "source": [
    "To follow along, first create a new directory and switch it to be the current working directory by running the following cell"
   ]
  },
  {
   "cell_type": "code",
   "execution_count": 2,
   "id": "fb52be60-c037-41ef-b249-9305078ba552",
   "metadata": {
    "execution": {
     "iopub.execute_input": "2024-01-10T00:48:29.708758Z",
     "iopub.status.busy": "2024-01-10T00:48:29.708235Z",
     "iopub.status.idle": "2024-01-10T00:48:29.711713Z",
     "shell.execute_reply": "2024-01-10T00:48:29.711078Z"
    },
    "slideshow": {
     "slide_type": "fragment"
    },
    "tags": []
   },
   "outputs": [],
   "source": [
    "import os\n",
    "os.mkdir(\"dvc-get-started-example\")\n",
    "os.chdir(\"dvc-get-started-example\")"
   ]
  },
  {
   "cell_type": "markdown",
   "id": "a9b8fd7c-62d2-4451-96c7-30806457ed4a",
   "metadata": {
    "slideshow": {
     "slide_type": "fragment"
    },
    "tags": []
   },
   "source": [
    "This walkthrough is based on the [official tutorial](https://dvc.org/doc/start)."
   ]
  },
  {
   "cell_type": "markdown",
   "id": "4635eca8-45d6-453e-bb2c-6103d4b7b7b8",
   "metadata": {
    "slideshow": {
     "slide_type": "subslide"
    },
    "tags": []
   },
   "source": [
    "### Initializing project\n",
    "\n",
    "First, initialize your directory as a DVC (and Git) repository, so they can start tracking changes:"
   ]
  },
  {
   "cell_type": "code",
   "execution_count": 3,
   "id": "ccd9b5c2-b1e5-46b2-acf2-90ed99062a7e",
   "metadata": {
    "execution": {
     "iopub.execute_input": "2024-01-10T00:48:29.714702Z",
     "iopub.status.busy": "2024-01-10T00:48:29.714136Z",
     "iopub.status.idle": "2024-01-10T00:48:30.465674Z",
     "shell.execute_reply": "2024-01-10T00:48:30.464947Z"
    },
    "slideshow": {
     "slide_type": "fragment"
    },
    "tags": []
   },
   "outputs": [
    {
     "name": "stderr",
     "output_type": "stream",
     "text": [
      "hint: Using 'master' as the name for the initial branch. This default branch name\n"
     ]
    },
    {
     "name": "stderr",
     "output_type": "stream",
     "text": [
      "hint: is subject to change. To configure the initial branch name to use in all\n"
     ]
    },
    {
     "name": "stderr",
     "output_type": "stream",
     "text": [
      "hint: of your new repositories, which will suppress this warning, call:\n"
     ]
    },
    {
     "name": "stderr",
     "output_type": "stream",
     "text": [
      "hint: \n"
     ]
    },
    {
     "name": "stderr",
     "output_type": "stream",
     "text": [
      "hint: \tgit config --global init.defaultBranch <name>\n"
     ]
    },
    {
     "name": "stderr",
     "output_type": "stream",
     "text": [
      "hint: \n"
     ]
    },
    {
     "name": "stderr",
     "output_type": "stream",
     "text": [
      "hint: Names commonly chosen instead of 'master' are 'main', 'trunk' and\n"
     ]
    },
    {
     "name": "stderr",
     "output_type": "stream",
     "text": [
      "hint: 'development'. The just-created branch can be renamed via this command:\n"
     ]
    },
    {
     "name": "stderr",
     "output_type": "stream",
     "text": [
      "hint: \n"
     ]
    },
    {
     "name": "stderr",
     "output_type": "stream",
     "text": [
      "hint: \tgit branch -m <name>\n"
     ]
    },
    {
     "name": "stdout",
     "output_type": "stream",
     "text": [
      "Initialized empty Git repository in /home/runner/work/course_mlbd/course_mlbd/Lectures/dvc-get-started-example/.git/\n"
     ]
    },
    {
     "name": "stdout",
     "output_type": "stream",
     "text": [
      "Initialized DVC repository.\n"
     ]
    },
    {
     "name": "stdout",
     "output_type": "stream",
     "text": [
      "\n"
     ]
    },
    {
     "name": "stdout",
     "output_type": "stream",
     "text": [
      "You can now commit the changes to git.\n"
     ]
    },
    {
     "name": "stdout",
     "output_type": "stream",
     "text": [
      "\n"
     ]
    },
    {
     "name": "stdout",
     "output_type": "stream",
     "text": [
      "+---------------------------------------------------------------------+\n"
     ]
    },
    {
     "name": "stdout",
     "output_type": "stream",
     "text": [
      "|                                                                     |\n"
     ]
    },
    {
     "name": "stdout",
     "output_type": "stream",
     "text": [
      "|        DVC has enabled anonymous aggregate usage analytics.         |\n"
     ]
    },
    {
     "name": "stdout",
     "output_type": "stream",
     "text": [
      "|     Read the analytics documentation (and how to opt-out) here:     |\n"
     ]
    },
    {
     "name": "stdout",
     "output_type": "stream",
     "text": [
      "|             <https://dvc.org/doc/user-guide/analytics>              |\n"
     ]
    },
    {
     "name": "stdout",
     "output_type": "stream",
     "text": [
      "|                                                                     |\n"
     ]
    },
    {
     "name": "stdout",
     "output_type": "stream",
     "text": [
      "+---------------------------------------------------------------------+\n"
     ]
    },
    {
     "name": "stdout",
     "output_type": "stream",
     "text": [
      "\n"
     ]
    },
    {
     "name": "stdout",
     "output_type": "stream",
     "text": [
      "What's next?\n"
     ]
    },
    {
     "name": "stdout",
     "output_type": "stream",
     "text": [
      "------------\n"
     ]
    },
    {
     "name": "stdout",
     "output_type": "stream",
     "text": [
      "- Check out the documentation: <https://dvc.org/doc>\n"
     ]
    },
    {
     "name": "stdout",
     "output_type": "stream",
     "text": [
      "- Get help and share ideas: <https://dvc.org/chat>\n"
     ]
    },
    {
     "name": "stdout",
     "output_type": "stream",
     "text": [
      "- Star us on GitHub: <https://github.com/iterative/dvc>\n"
     ]
    }
   ],
   "source": [
    "%%sh\n",
    "git init\n",
    "dvc init"
   ]
  },
  {
   "cell_type": "markdown",
   "id": "05f6f3d9-74a4-4752-909f-7259e3c4e88d",
   "metadata": {
    "slideshow": {
     "slide_type": "subslide"
    },
    "tags": []
   },
   "source": [
    "After the above, DVC creates some new files and gives you a hint about what to run: _\"You can now commit the changes to git.\"_"
   ]
  },
  {
   "cell_type": "code",
   "execution_count": 4,
   "id": "2c197008-4fce-4b59-9872-898aafda19b7",
   "metadata": {
    "execution": {
     "iopub.execute_input": "2024-01-10T00:48:30.469791Z",
     "iopub.status.busy": "2024-01-10T00:48:30.469538Z",
     "iopub.status.idle": "2024-01-10T00:48:30.506950Z",
     "shell.execute_reply": "2024-01-10T00:48:30.506327Z"
    },
    "slideshow": {
     "slide_type": "fragment"
    },
    "tags": []
   },
   "outputs": [
    {
     "name": "stdout",
     "output_type": "stream",
     "text": [
      "[master (root-commit) 26d89b5] Initial setup\n"
     ]
    },
    {
     "name": "stdout",
     "output_type": "stream",
     "text": [
      " 3 files changed, 6 insertions(+)\n"
     ]
    },
    {
     "name": "stdout",
     "output_type": "stream",
     "text": [
      " create mode 100644 .dvc/.gitignore\n"
     ]
    },
    {
     "name": "stdout",
     "output_type": "stream",
     "text": [
      " create mode 100644 .dvc/config\n"
     ]
    },
    {
     "name": "stdout",
     "output_type": "stream",
     "text": [
      " create mode 100644 .dvcignore\n"
     ]
    }
   ],
   "source": [
    "%%sh\n",
    "git commit -m \"Initial setup\""
   ]
  },
  {
   "cell_type": "markdown",
   "id": "78fa8295-f05b-402a-a9e1-8376e9c4aa01",
   "metadata": {
    "slideshow": {
     "slide_type": "subslide"
    },
    "tags": []
   },
   "source": [
    "### Downloading data\n",
    "\n",
    "Download a sample data file by running"
   ]
  },
  {
   "cell_type": "code",
   "execution_count": 5,
   "id": "38142189-c5f8-481b-81b2-01ce11e2b91e",
   "metadata": {
    "execution": {
     "iopub.execute_input": "2024-01-10T00:48:30.510947Z",
     "iopub.status.busy": "2024-01-10T00:48:30.510689Z",
     "iopub.status.idle": "2024-01-10T00:48:34.348181Z",
     "shell.execute_reply": "2024-01-10T00:48:34.347394Z"
    },
    "slideshow": {
     "slide_type": "fragment"
    },
    "tags": []
   },
   "outputs": [],
   "source": [
    "%%sh\n",
    "dvc get https://github.com/iterative/dataset-registry get-started/data.xml -o data/data.xml"
   ]
  },
  {
   "cell_type": "markdown",
   "id": "ca23d8c3-2762-4cec-aafb-742fce4e44d8",
   "metadata": {
    "slideshow": {
     "slide_type": "fragment"
    },
    "tags": []
   },
   "source": [
    "This should create a directory called `data` in your new directory, with a file called `data.xml` inside it."
   ]
  },
  {
   "cell_type": "markdown",
   "id": "54340428-4ee6-4a11-9301-b00784c6ce0c",
   "metadata": {
    "slideshow": {
     "slide_type": "subslide"
    },
    "tags": []
   },
   "source": [
    "### Initializing tracking\n",
    "We are not tracking any files yet. Let's tell DVC to track the dataset we downloaded:"
   ]
  },
  {
   "cell_type": "code",
   "execution_count": 6,
   "id": "d42fdcf4-90f8-402f-97fa-2a0c310324f2",
   "metadata": {
    "execution": {
     "iopub.execute_input": "2024-01-10T00:48:34.352225Z",
     "iopub.status.busy": "2024-01-10T00:48:34.351964Z",
     "iopub.status.idle": "2024-01-10T00:48:35.203505Z",
     "shell.execute_reply": "2024-01-10T00:48:35.202652Z"
    },
    "slideshow": {
     "slide_type": "fragment"
    },
    "tags": []
   },
   "outputs": [
    {
     "name": "stderr",
     "output_type": "stream",
     "text": [
      "\u001b[?25l⠋ Checking graph\n"
     ]
    },
    {
     "name": "stdout",
     "output_type": "stream",
     "text": [
      "\n"
     ]
    },
    {
     "name": "stdout",
     "output_type": "stream",
     "text": [
      "To track the changes with git, run:\n"
     ]
    },
    {
     "name": "stdout",
     "output_type": "stream",
     "text": [
      "\n"
     ]
    },
    {
     "name": "stdout",
     "output_type": "stream",
     "text": [
      "\tgit add data/.gitignore data/data.xml.dvc\n"
     ]
    },
    {
     "name": "stdout",
     "output_type": "stream",
     "text": [
      "\n"
     ]
    },
    {
     "name": "stdout",
     "output_type": "stream",
     "text": [
      "To enable auto staging, run:\n"
     ]
    },
    {
     "name": "stdout",
     "output_type": "stream",
     "text": [
      "\n"
     ]
    },
    {
     "name": "stdout",
     "output_type": "stream",
     "text": [
      "\tdvc config core.autostage true\n"
     ]
    },
    {
     "name": "stderr",
     "output_type": "stream",
     "text": [
      "\u001b[?25h\r"
     ]
    }
   ],
   "source": [
    "%%sh\n",
    "dvc add data/data.xml"
   ]
  },
  {
   "cell_type": "markdown",
   "id": "9c6c16ae-9492-48d1-84ca-d45cd537ddb6",
   "metadata": {
    "slideshow": {
     "slide_type": "fragment"
    },
    "tags": []
   },
   "source": [
    "As before, DVC creates some internal files and tells us what to commit with Git."
   ]
  },
  {
   "cell_type": "markdown",
   "id": "8da2fe30-7b52-43fa-b7e1-21a23fc29f73",
   "metadata": {
    "slideshow": {
     "slide_type": "subslide"
    },
    "tags": []
   },
   "source": [
    "Run the command it suggests, and then commit:"
   ]
  },
  {
   "cell_type": "code",
   "execution_count": 7,
   "id": "d66b352f-96eb-4072-90e7-293ad91928a0",
   "metadata": {
    "execution": {
     "iopub.execute_input": "2024-01-10T00:48:35.207020Z",
     "iopub.status.busy": "2024-01-10T00:48:35.206770Z",
     "iopub.status.idle": "2024-01-10T00:48:35.232445Z",
     "shell.execute_reply": "2024-01-10T00:48:35.231669Z"
    },
    "slideshow": {
     "slide_type": "fragment"
    },
    "tags": []
   },
   "outputs": [
    {
     "name": "stdout",
     "output_type": "stream",
     "text": [
      "[master 4a6bafd] Add initial version of dataset\n"
     ]
    },
    {
     "name": "stdout",
     "output_type": "stream",
     "text": [
      " 2 files changed, 6 insertions(+)\n"
     ]
    },
    {
     "name": "stdout",
     "output_type": "stream",
     "text": [
      " create mode 100644 data/.gitignore\n"
     ]
    },
    {
     "name": "stdout",
     "output_type": "stream",
     "text": [
      " create mode 100644 data/data.xml.dvc\n"
     ]
    }
   ],
   "source": [
    "%%sh\n",
    "git add data/data.xml.dvc data/.gitignore\n",
    "git commit -m \"Add initial version of dataset\""
   ]
  },
  {
   "cell_type": "markdown",
   "id": "0b50d070-fbb5-40b6-a41d-d78de534d5a8",
   "metadata": {
    "slideshow": {
     "slide_type": "subslide"
    },
    "tags": []
   },
   "source": [
    "Note that this is different from the usual git workflow. Normally, we would be `add`ing the data file itself (`data.xml`)."
   ]
  },
  {
   "cell_type": "markdown",
   "id": "792760a9-dd9b-4471-91b9-5c2babbe7d9c",
   "metadata": {
    "slideshow": {
     "slide_type": "fragment"
    },
    "tags": []
   },
   "source": [
    "Instead, we are adding a smaller \"proxy\" file (`data.xml.dvc`). This file is much smaller, and DVC knows it represents the original dataset."
   ]
  },
  {
   "cell_type": "markdown",
   "id": "05eed834-d7f5-465b-9b6c-c93f9e94197b",
   "metadata": {
    "slideshow": {
     "slide_type": "fragment"
    },
    "tags": []
   },
   "source": [
    "To verify the size difference, run"
   ]
  },
  {
   "cell_type": "code",
   "execution_count": 8,
   "id": "9870360b-9b23-4319-9376-6ccf9699caae",
   "metadata": {
    "execution": {
     "iopub.execute_input": "2024-01-10T00:48:35.236015Z",
     "iopub.status.busy": "2024-01-10T00:48:35.235760Z",
     "iopub.status.idle": "2024-01-10T00:48:35.254962Z",
     "shell.execute_reply": "2024-01-10T00:48:35.254188Z"
    },
    "slideshow": {
     "slide_type": "fragment"
    },
    "tags": []
   },
   "outputs": [
    {
     "name": "stdout",
     "output_type": "stream",
     "text": [
      "total 14M\n"
     ]
    },
    {
     "name": "stdout",
     "output_type": "stream",
     "text": [
      "-rw-r--r-- 1 runner docker 14M Jan 10 00:48 data.xml\n"
     ]
    },
    {
     "name": "stdout",
     "output_type": "stream",
     "text": [
      "-rw-r--r-- 1 runner docker  92 Jan 10 00:48 data.xml.dvc\n"
     ]
    }
   ],
   "source": [
    "%%sh\n",
    "ls -lh data"
   ]
  },
  {
   "cell_type": "markdown",
   "id": "796f8f16-3db4-4e2e-8b34-1cfc88db6cdf",
   "metadata": {
    "slideshow": {
     "slide_type": "fragment"
    },
    "tags": []
   },
   "source": [
    "The original data takes up 14MB, while the proxy file is only 80 bytes long."
   ]
  },
  {
   "cell_type": "markdown",
   "id": "9cff1c8a-5491-47bc-ac71-eb93ac104bc3",
   "metadata": {
    "slideshow": {
     "slide_type": "subslide"
    },
    "tags": []
   },
   "source": [
    "### Making changes\n",
    "During the course of our work, the dataset may change - intentionally or by accident. For simplicity, we will simulate a change by repeating the dataset twice:"
   ]
  },
  {
   "cell_type": "code",
   "execution_count": 9,
   "id": "3aa6dc9a-f9b2-492f-82f7-a9548a17dd2e",
   "metadata": {
    "execution": {
     "iopub.execute_input": "2024-01-10T00:48:35.258402Z",
     "iopub.status.busy": "2024-01-10T00:48:35.257963Z",
     "iopub.status.idle": "2024-01-10T00:48:35.300131Z",
     "shell.execute_reply": "2024-01-10T00:48:35.299333Z"
    },
    "slideshow": {
     "slide_type": "fragment"
    },
    "tags": []
   },
   "outputs": [],
   "source": [
    "%%sh\n",
    "cp data/data.xml temp.xml  # create a temporary copy\n",
    "cat temp.xml >> data/data.xml  # append the copy to the original\n",
    "rm temp.xml  # remove the copy"
   ]
  },
  {
   "cell_type": "markdown",
   "id": "04e99b8e-e36e-4545-ae78-afdb4a719fec",
   "metadata": {
    "slideshow": {
     "slide_type": "subslide"
    },
    "tags": []
   },
   "source": [
    "We can check the size of the file with "
   ]
  },
  {
   "cell_type": "code",
   "execution_count": 10,
   "id": "b8798c64-2795-48d5-a456-6ffa26f9ad50",
   "metadata": {
    "execution": {
     "iopub.execute_input": "2024-01-10T00:48:35.304177Z",
     "iopub.status.busy": "2024-01-10T00:48:35.303924Z",
     "iopub.status.idle": "2024-01-10T00:48:35.324073Z",
     "shell.execute_reply": "2024-01-10T00:48:35.323426Z"
    },
    "slideshow": {
     "slide_type": "fragment"
    },
    "tags": []
   },
   "outputs": [
    {
     "name": "stdout",
     "output_type": "stream",
     "text": [
      "total 28M\n"
     ]
    },
    {
     "name": "stdout",
     "output_type": "stream",
     "text": [
      "-rw-r--r-- 1 runner docker 28M Jan 10 00:48 data.xml\n"
     ]
    },
    {
     "name": "stdout",
     "output_type": "stream",
     "text": [
      "-rw-r--r-- 1 runner docker  92 Jan 10 00:48 data.xml.dvc\n"
     ]
    }
   ],
   "source": [
    "%%sh\n",
    "ls -lh data"
   ]
  },
  {
   "cell_type": "markdown",
   "id": "8f2401ce-8185-49a6-ad24-57ac32a12586",
   "metadata": {
    "slideshow": {
     "slide_type": "fragment"
    },
    "tags": []
   },
   "source": [
    "to verify it has doubled."
   ]
  },
  {
   "cell_type": "markdown",
   "id": "85cc0647-3fbd-45a3-a9bb-80794e62df78",
   "metadata": {
    "slideshow": {
     "slide_type": "subslide"
    },
    "tags": []
   },
   "source": [
    "To register the changes with Git and DVC, we run similar commands to before:"
   ]
  },
  {
   "cell_type": "code",
   "execution_count": 11,
   "id": "b43d28df-44d8-4b73-9297-7f7db5d8ec6e",
   "metadata": {
    "execution": {
     "iopub.execute_input": "2024-01-10T00:48:35.327503Z",
     "iopub.status.busy": "2024-01-10T00:48:35.327111Z",
     "iopub.status.idle": "2024-01-10T00:48:36.155246Z",
     "shell.execute_reply": "2024-01-10T00:48:36.154542Z"
    },
    "slideshow": {
     "slide_type": "fragment"
    },
    "tags": []
   },
   "outputs": [
    {
     "name": "stderr",
     "output_type": "stream",
     "text": [
      "\u001b[?25l⠋ Checking graph\n"
     ]
    },
    {
     "name": "stdout",
     "output_type": "stream",
     "text": [
      "\n"
     ]
    },
    {
     "name": "stdout",
     "output_type": "stream",
     "text": [
      "To track the changes with git, run:\n"
     ]
    },
    {
     "name": "stdout",
     "output_type": "stream",
     "text": [
      "\n"
     ]
    },
    {
     "name": "stdout",
     "output_type": "stream",
     "text": [
      "\tgit add data/data.xml.dvc\n"
     ]
    },
    {
     "name": "stdout",
     "output_type": "stream",
     "text": [
      "\n"
     ]
    },
    {
     "name": "stdout",
     "output_type": "stream",
     "text": [
      "To enable auto staging, run:\n"
     ]
    },
    {
     "name": "stdout",
     "output_type": "stream",
     "text": [
      "\n"
     ]
    },
    {
     "name": "stdout",
     "output_type": "stream",
     "text": [
      "\tdvc config core.autostage true\n"
     ]
    },
    {
     "name": "stdout",
     "output_type": "stream",
     "text": [
      "[master 26b5db8] Double size of dataset\n"
     ]
    },
    {
     "name": "stdout",
     "output_type": "stream",
     "text": [
      " 1 file changed, 2 insertions(+), 2 deletions(-)\n"
     ]
    },
    {
     "name": "stderr",
     "output_type": "stream",
     "text": [
      "\u001b[?25h\r"
     ]
    }
   ],
   "source": [
    "%%sh\n",
    "dvc add data/data.xml\n",
    "git add data/data.xml.dvc  # as suggested by dvc\n",
    "git commit -m \"Double size of dataset\""
   ]
  },
  {
   "cell_type": "markdown",
   "id": "5f4aa0f8-ab13-44b6-a385-b2f23d9f2268",
   "metadata": {
    "slideshow": {
     "slide_type": "subslide"
    },
    "tags": []
   },
   "source": [
    "### Switching versions\n",
    "Switching to another version happens in two stages."
   ]
  },
  {
   "cell_type": "markdown",
   "id": "57196cf1-c4db-4528-af2d-40e960036a0a",
   "metadata": {
    "slideshow": {
     "slide_type": "fragment"
    },
    "tags": []
   },
   "source": [
    "First, we switch with Git:"
   ]
  },
  {
   "cell_type": "code",
   "execution_count": 12,
   "id": "835ab8c8-9104-4629-9276-5d2d01666285",
   "metadata": {
    "execution": {
     "iopub.execute_input": "2024-01-10T00:48:36.158868Z",
     "iopub.status.busy": "2024-01-10T00:48:36.158400Z",
     "iopub.status.idle": "2024-01-10T00:48:36.197667Z",
     "shell.execute_reply": "2024-01-10T00:48:36.196979Z"
    },
    "slideshow": {
     "slide_type": "fragment"
    },
    "tags": []
   },
   "outputs": [
    {
     "name": "stderr",
     "output_type": "stream",
     "text": [
      "Note: switching to 'HEAD~'.\n"
     ]
    },
    {
     "name": "stderr",
     "output_type": "stream",
     "text": [
      "\n"
     ]
    },
    {
     "name": "stderr",
     "output_type": "stream",
     "text": [
      "You are in 'detached HEAD' state. You can look around, make experimental\n"
     ]
    },
    {
     "name": "stderr",
     "output_type": "stream",
     "text": [
      "changes and commit them, and you can discard any commits you make in this\n"
     ]
    },
    {
     "name": "stderr",
     "output_type": "stream",
     "text": [
      "state without impacting any branches by switching back to a branch.\n"
     ]
    },
    {
     "name": "stderr",
     "output_type": "stream",
     "text": [
      "\n"
     ]
    },
    {
     "name": "stderr",
     "output_type": "stream",
     "text": [
      "If you want to create a new branch to retain commits you create, you may\n"
     ]
    },
    {
     "name": "stderr",
     "output_type": "stream",
     "text": [
      "do so (now or later) by using -c with the switch command. Example:\n"
     ]
    },
    {
     "name": "stderr",
     "output_type": "stream",
     "text": [
      "\n"
     ]
    },
    {
     "name": "stderr",
     "output_type": "stream",
     "text": [
      "  git switch -c <new-branch-name>\n"
     ]
    },
    {
     "name": "stderr",
     "output_type": "stream",
     "text": [
      "\n"
     ]
    },
    {
     "name": "stderr",
     "output_type": "stream",
     "text": [
      "Or undo this operation with:\n"
     ]
    },
    {
     "name": "stderr",
     "output_type": "stream",
     "text": [
      "\n"
     ]
    },
    {
     "name": "stderr",
     "output_type": "stream",
     "text": [
      "  git switch -\n"
     ]
    },
    {
     "name": "stderr",
     "output_type": "stream",
     "text": [
      "\n"
     ]
    },
    {
     "name": "stderr",
     "output_type": "stream",
     "text": [
      "Turn off this advice by setting config variable advice.detachedHead to false\n"
     ]
    },
    {
     "name": "stderr",
     "output_type": "stream",
     "text": [
      "\n"
     ]
    },
    {
     "name": "stderr",
     "output_type": "stream",
     "text": [
      "HEAD is now at 4a6bafd Add initial version of dataset\n"
     ]
    }
   ],
   "source": [
    "%%sh\n",
    "git checkout HEAD~"
   ]
  },
  {
   "cell_type": "markdown",
   "id": "9b299117-df7a-43c0-b16d-087b01be6538",
   "metadata": {
    "slideshow": {
     "slide_type": "fragment"
    },
    "tags": []
   },
   "source": [
    "`HEAD~`refers to the previous commit, so in this case the original dataset."
   ]
  },
  {
   "cell_type": "markdown",
   "id": "5c60a86a-19e5-4884-8ca8-c7b81e6966c2",
   "metadata": {
    "slideshow": {
     "slide_type": "subslide"
    },
    "tags": []
   },
   "source": [
    "Then we \"synchronise\" the files under DVC with"
   ]
  },
  {
   "cell_type": "code",
   "execution_count": 13,
   "id": "334d4997-ef34-47e9-a378-c1701321853b",
   "metadata": {
    "execution": {
     "iopub.execute_input": "2024-01-10T00:48:36.201860Z",
     "iopub.status.busy": "2024-01-10T00:48:36.201606Z",
     "iopub.status.idle": "2024-01-10T00:48:36.850092Z",
     "shell.execute_reply": "2024-01-10T00:48:36.849366Z"
    },
    "slideshow": {
     "slide_type": "fragment"
    },
    "tags": []
   },
   "outputs": [
    {
     "name": "stdout",
     "output_type": "stream",
     "text": [
      "M       data/data.xml\n"
     ]
    }
   ],
   "source": [
    "%%sh\n",
    "dvc checkout"
   ]
  },
  {
   "cell_type": "markdown",
   "id": "87da5444-77f0-486b-b027-5e5abba372b9",
   "metadata": {
    "slideshow": {
     "slide_type": "fragment"
    },
    "tags": []
   },
   "source": [
    "This will find the version of the data when that commit was made, and check it out."
   ]
  },
  {
   "cell_type": "markdown",
   "id": "a87dfd59-ed8d-413c-af42-e32e807d25b4",
   "metadata": {
    "slideshow": {
     "slide_type": "subslide"
    },
    "tags": []
   },
   "source": [
    "Verify that the version changed with "
   ]
  },
  {
   "cell_type": "code",
   "execution_count": 14,
   "id": "1c19e3c6-74f1-4f1d-accc-72b082dc336d",
   "metadata": {
    "execution": {
     "iopub.execute_input": "2024-01-10T00:48:36.854038Z",
     "iopub.status.busy": "2024-01-10T00:48:36.853782Z",
     "iopub.status.idle": "2024-01-10T00:48:36.874145Z",
     "shell.execute_reply": "2024-01-10T00:48:36.873508Z"
    },
    "slideshow": {
     "slide_type": "subslide"
    },
    "tags": []
   },
   "outputs": [
    {
     "name": "stdout",
     "output_type": "stream",
     "text": [
      "total 14M\n"
     ]
    },
    {
     "name": "stdout",
     "output_type": "stream",
     "text": [
      "-rw-r--r-- 1 runner docker 14M Jan 10 00:48 data.xml\n"
     ]
    },
    {
     "name": "stdout",
     "output_type": "stream",
     "text": [
      "-rw-r--r-- 1 runner docker  92 Jan 10 00:48 data.xml.dvc\n"
     ]
    }
   ],
   "source": [
    "%%sh\n",
    "ls -lh data"
   ]
  },
  {
   "cell_type": "markdown",
   "id": "7b2c6b15-066e-4471-964c-7b27064dfdfb",
   "metadata": {
    "slideshow": {
     "slide_type": "subslide"
    },
    "tags": []
   },
   "source": [
    "Notice `data.xml` is back to its original size."
   ]
  },
  {
   "cell_type": "markdown",
   "id": "c24d58e3-1339-4e5d-addd-07576bc4e6af",
   "metadata": {
    "slideshow": {
     "slide_type": "subslide"
    },
    "tags": []
   },
   "source": [
    "Go back to the newest version (doubled data) with"
   ]
  },
  {
   "cell_type": "code",
   "execution_count": 15,
   "id": "21a0eed5-5161-4110-acfa-eacb1d65288a",
   "metadata": {
    "execution": {
     "iopub.execute_input": "2024-01-10T00:48:36.877419Z",
     "iopub.status.busy": "2024-01-10T00:48:36.877178Z",
     "iopub.status.idle": "2024-01-10T00:48:37.565400Z",
     "shell.execute_reply": "2024-01-10T00:48:37.564654Z"
    },
    "slideshow": {
     "slide_type": "fragment"
    },
    "tags": []
   },
   "outputs": [
    {
     "name": "stderr",
     "output_type": "stream",
     "text": [
      "Previous HEAD position was 4a6bafd Add initial version of dataset\n"
     ]
    },
    {
     "name": "stderr",
     "output_type": "stream",
     "text": [
      "Switched to branch 'master'\n"
     ]
    },
    {
     "name": "stdout",
     "output_type": "stream",
     "text": [
      "M       data/data.xml\n"
     ]
    }
   ],
   "source": [
    "%%sh\n",
    "git checkout master\n",
    "dvc checkout"
   ]
  },
  {
   "cell_type": "markdown",
   "id": "a612853e",
   "metadata": {
    "slideshow": {
     "slide_type": "slide"
    }
   },
   "source": [
    "## Summary\n",
    "\n",
    "This has been the basic usage of DVC to track and revert changes to a file. Building on this, in the next lecture we will see how DVC can be used to track models and entire machine learning workflows."
   ]
  }
 ],
 "metadata": {
  "celltoolbar": "Slideshow",
  "kernelspec": {
   "display_name": "Python 3 (ipykernel)",
   "language": "python",
   "name": "python3"
  },
  "language_info": {
   "codemirror_mode": {
    "name": "ipython",
    "version": 3
   },
   "file_extension": ".py",
   "mimetype": "text/x-python",
   "name": "python",
   "nbconvert_exporter": "python",
   "pygments_lexer": "ipython3",
   "version": "3.8.18"
  }
 },
 "nbformat": 4,
 "nbformat_minor": 5
}
