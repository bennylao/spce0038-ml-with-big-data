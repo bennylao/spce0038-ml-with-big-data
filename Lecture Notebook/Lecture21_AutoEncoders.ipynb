{
 "cells": [
  {
   "cell_type": "markdown",
   "metadata": {
    "slideshow": {
     "slide_type": "slide"
    }
   },
   "source": [
    "# Lecture 21: AutoEncoders"
   ]
  },
  {
   "cell_type": "markdown",
   "metadata": {
    "slideshow": {
     "slide_type": "subslide"
    }
   },
   "source": [
    "![](https://www.tensorflow.org/images/colab_logo_32px.png)\n",
    "[Run in colab](https://colab.research.google.com/drive/1DnAtRC5udV52Kn5918nlvvLIjkzQKNPT)"
   ]
  },
  {
   "cell_type": "code",
   "execution_count": 1,
   "metadata": {
    "execution": {
     "iopub.execute_input": "2024-01-10T00:43:26.238339Z",
     "iopub.status.busy": "2024-01-10T00:43:26.237777Z",
     "iopub.status.idle": "2024-01-10T00:43:26.247597Z",
     "shell.execute_reply": "2024-01-10T00:43:26.247059Z"
    }
   },
   "outputs": [
    {
     "name": "stdout",
     "output_type": "stream",
     "text": [
      "Version: 2024-05-15 10:09:48\n"
     ]
    }
   ],
   "source": [
    "import datetime\n",
    "now = datetime.datetime.now()\n",
    "print(\"Version: \" + now.strftime(\"%Y-%m-%d %H:%M:%S\"))"
   ]
  },
  {
   "cell_type": "markdown",
   "metadata": {
    "slideshow": {
     "slide_type": "slide"
    }
   },
   "source": [
    "## This Lecture \n",
    "\n",
    "* The basics of AutoEncoders\n",
    "* This is a complex and very varied subject (could do a whole course on this alone)\n",
    "* Will not cover supervised pre-training, sparse autoencoder, interpolation\n"
   ]
  },
  {
   "cell_type": "code",
   "execution_count": 2,
   "metadata": {
    "execution": {
     "iopub.execute_input": "2024-01-10T00:43:26.288969Z",
     "iopub.status.busy": "2024-01-10T00:43:26.288295Z",
     "iopub.status.idle": "2024-01-10T00:43:28.904035Z",
     "shell.execute_reply": "2024-01-10T00:43:28.903116Z"
    },
    "slideshow": {
     "slide_type": "subslide"
    }
   },
   "outputs": [],
   "source": [
    "# To support both python 2 and python 3\n",
    "from __future__ import division, print_function, unicode_literals\n",
    "\n",
    "# Common imports\n",
    "import numpy as np\n",
    "import os\n",
    "import tensorflow as tf\n",
    "\n",
    "# to make this notebook's output stable across runs\n",
    "def reset_state(seed=42):\n",
    "    tf.keras.backend.clear_session()\n",
    "    tf.random.set_seed(seed)\n",
    "    np.random.seed(seed)\n",
    "\n",
    "# To plot pretty figures\n",
    "%matplotlib inline\n",
    "import matplotlib\n",
    "import matplotlib.pyplot as plt\n",
    "plt.rcParams['axes.labelsize'] = 14\n",
    "plt.rcParams['xtick.labelsize'] = 12\n",
    "plt.rcParams['ytick.labelsize'] = 12\n",
    "\n",
    "# Where to save the figures\n",
    "try:\n",
    "    import subprocess\n",
    "    subprocess.run(\"git config --get remote.origin.url | grep 'astro-informatics'\", shell=True, check=True)\n",
    "    PROJECT_ROOT_DIR = \".\"\n",
    "    CHAPTER_ID = \"Lecture21_Images\"\n",
    "except: \n",
    "    PROJECT_ROOT_DIR = \".\"\n",
    "    CHAPTER_ID = \"\"\n",
    "\n",
    "def save_fig(fig_id, tight_layout=True):\n",
    "    path = os.path.join(PROJECT_ROOT_DIR, CHAPTER_ID, fig_id + \".png\")\n",
    "#     print(\"Saving figure\", fig_id)\n",
    "#     if tight_layout:\n",
    "#         plt.tight_layout()\n",
    "#     plt.savefig(path, format='png', dpi=300)\n",
    "    \n",
    "def plot_image(image):\n",
    "    plt.imshow(image, cmap=\"gray\", interpolation=\"nearest\")\n",
    "    plt.axis(\"off\")\n",
    "\n",
    "def plot_color_image(image):\n",
    "    plt.imshow(image.astype(np.uint8),interpolation=\"nearest\")\n",
    "    plt.axis(\"off\")\n",
    "    \n",
    "import warnings\n",
    "warnings.filterwarnings('ignore')\n",
    "\n",
    "def plot_image(image, shape=[28, 28]):\n",
    "    plt.imshow(image.reshape(shape), cmap=\"Greys\", interpolation=\"nearest\")\n",
    "    plt.axis(\"off\")\n",
    "    \n",
    "def plot_multiple_images(images, n_rows, n_cols, pad=2):\n",
    "    images = images - images.min()  # make the minimum == 0, so the padding looks white\n",
    "    w,h = images.shape[1:]\n",
    "    image = np.zeros(((w+pad)*n_rows+pad, (h+pad)*n_cols+pad))\n",
    "    for y in range(n_rows):\n",
    "        for x in range(n_cols):\n",
    "            image[(y*(h+pad)+pad):(y*(h+pad)+pad+h),(x*(w+pad)+pad):(x*(w+pad)+pad+w)] = images[y*n_cols+x]\n",
    "    plt.imshow(image, cmap=\"Greys\", interpolation=\"nearest\")\n",
    "    plt.axis(\"off\")"
   ]
  },
  {
   "cell_type": "markdown",
   "metadata": {
    "slideshow": {
     "slide_type": "slide"
    }
   },
   "source": [
    "## Overview of AutoEncoders\n",
    "\n",
    "* Autoencoders are artificial neural networks capable of learning efficient representations of the input data, called codings, without any supervision (i.e., the training set is unlabeled).\n",
    "* General class of network used to perform data compression, pattern recognition, extracting trends and relations from data \n",
    "* Essentially a normal feedforward network except that there are one or more hidden layers with $N_{\\rm neuron}<N_{\\rm input}$\n",
    "* Also can be used in an unsupervised (i.e. no training classification) manner to learn features from data \n",
    "* they are capable of randomly generating new data that looks very similar to the training data; this is called a generative model.\n"
   ]
  },
  {
   "cell_type": "markdown",
   "metadata": {
    "slideshow": {
     "slide_type": "subslide"
    }
   },
   "source": [
    "\n",
    "* autoencoders work by simply learning to copy their inputs to their outputs. This may sound like a trivial task, but we will see that constraining the network in various ways can make it rather difficult.\n",
    "\n",
    "Simple example (hailstone sequence): \n",
    "* 40, 27, 25, 36, 81, 57, 10, 73, 19, 68 \n",
    "* 50, 25, 76, 38, 19, 58, 29, 88, 44, 22, 11, 34, 17, 52, 26, 13, 40, 20\n",
    "\n",
    "Second sequence has simple rule (even numbers are followed by their half, and odd numbers are followed by their triple plus one)\n"
   ]
  },
  {
   "cell_type": "markdown",
   "metadata": {
    "slideshow": {
     "slide_type": "subslide"
    }
   },
   "source": [
    "Finding 2D representation of 3D data\n",
    "\n",
    "<img src=\"https://raw.githubusercontent.com/astro-informatics/course_mlbd_images/master/Lecture21_Images/ae.jpeg\" alt=\"Drawing\" style=\"width: 500px;\"/>\n",
    "\n",
    "Input mapped to output via an encoder layer\n"
   ]
  },
  {
   "cell_type": "markdown",
   "metadata": {
    "slideshow": {
     "slide_type": "subslide"
    }
   },
   "source": [
    "Example build a 3D data set (same as that used in PCA Lecture)\n",
    "\n",
    "<img src=\"https://raw.githubusercontent.com/astro-informatics/course_mlbd_images/master/Lecture21_Images/3d.jpeg\" alt=\"Drawing\" style=\"width: 450px;\"/>"
   ]
  },
  {
   "cell_type": "code",
   "execution_count": 3,
   "metadata": {
    "execution": {
     "iopub.execute_input": "2024-01-10T00:43:28.909668Z",
     "iopub.status.busy": "2024-01-10T00:43:28.908157Z",
     "iopub.status.idle": "2024-01-10T00:43:29.159193Z",
     "shell.execute_reply": "2024-01-10T00:43:29.158488Z"
    }
   },
   "outputs": [],
   "source": [
    "import numpy.random as rnd\n",
    "\n",
    "rnd.seed(4)\n",
    "m = 200\n",
    "w1, w2 = 0.1, 0.3\n",
    "noise = 0.1\n",
    "\n",
    "angles = rnd.rand(m) * 3 * np.pi / 2 - 0.5\n",
    "data = np.empty((m, 3))\n",
    "data[:, 0] = np.cos(angles) + np.sin(angles)/2 + noise * rnd.randn(m) / 2\n",
    "data[:, 1] = np.sin(angles) * 0.7 + noise * rnd.randn(m) / 2\n",
    "data[:, 2] = data[:, 0] * w1 + data[:, 1] * w2 + noise * rnd.randn(m)\n",
    "\n",
    "#normalise the data\n",
    "from sklearn.preprocessing import StandardScaler\n",
    "scaler = StandardScaler()\n",
    "X_train = scaler.fit_transform(data[:100])\n",
    "X_test = scaler.transform(data[100:])"
   ]
  },
  {
   "cell_type": "markdown",
   "metadata": {
    "slideshow": {
     "slide_type": "subslide"
    }
   },
   "source": [
    "Build an Autoencoder"
   ]
  },
  {
   "cell_type": "code",
   "execution_count": 4,
   "metadata": {
    "execution": {
     "iopub.execute_input": "2024-01-10T00:43:29.163224Z",
     "iopub.status.busy": "2024-01-10T00:43:29.162352Z",
     "iopub.status.idle": "2024-01-10T00:43:29.266469Z",
     "shell.execute_reply": "2024-01-10T00:43:29.265732Z"
    }
   },
   "outputs": [],
   "source": [
    "import tensorflow as tf\n",
    "from tensorflow import keras\n",
    "\n",
    "reset_state()\n",
    "\n",
    "n_inputs = 3  # 3D data \n",
    "n_hidden = 2  # codings\n",
    "n_outputs = n_inputs #note that in=out \n",
    "\n",
    "learning_rate = 0.01\n",
    "\n",
    "encoder = keras.models.Sequential([keras.layers.Dense(n_hidden, input_shape=[n_inputs])])\n",
    "decoder = keras.models.Sequential([keras.layers.Dense(n_outputs, input_shape=[n_hidden])])\n",
    "autoencoder = keras.models.Sequential([encoder, decoder])\n",
    "\n",
    "autoencoder.compile(loss=\"mse\", optimizer=keras.optimizers.legacy.Adam(learning_rate=learning_rate))"
   ]
  },
  {
   "cell_type": "code",
   "execution_count": null,
   "metadata": {
    "execution": {
     "iopub.execute_input": "2024-01-10T00:43:29.270491Z",
     "iopub.status.busy": "2024-01-10T00:43:29.270005Z",
     "iopub.status.idle": "2024-01-10T00:43:31.022901Z",
     "shell.execute_reply": "2024-01-10T00:43:31.022127Z"
    },
    "slideshow": {
     "slide_type": "subslide"
    },
    "tags": [
     "hide-output"
    ]
   },
   "outputs": [],
   "source": [
    "history = autoencoder.fit(X_train, X_train, epochs=100)"
   ]
  },
  {
   "cell_type": "code",
   "execution_count": 6,
   "metadata": {
    "execution": {
     "iopub.execute_input": "2024-01-10T00:43:31.026458Z",
     "iopub.status.busy": "2024-01-10T00:43:31.025844Z",
     "iopub.status.idle": "2024-01-10T00:43:31.138388Z",
     "shell.execute_reply": "2024-01-10T00:43:31.137698Z"
    },
    "slideshow": {
     "slide_type": "subslide"
    }
   },
   "outputs": [
    {
     "name": "stdout",
     "output_type": "stream",
     "text": [
      "\r\n",
      "1/4 [======>.......................] - ETA: 0s"
     ]
    },
    {
     "name": "stdout",
     "output_type": "stream",
     "text": [
      "\b\b\b\b\b\b\b\b\b\b\b\b\b\b\b\b\b\b\b\b\b\b\b\b\b\b\b\b\b\b\b\b\b\b\b\b\b\b\b\b\b\b\b\b\b\b\r\n",
      "4/4 [==============================] - 0s 2ms/step\n"
     ]
    }
   ],
   "source": [
    "#look at the codings i.e. the inner representation of the data\n",
    "codings = encoder.predict(X_train)"
   ]
  },
  {
   "cell_type": "code",
   "execution_count": 7,
   "metadata": {
    "execution": {
     "iopub.execute_input": "2024-01-10T00:43:31.142016Z",
     "iopub.status.busy": "2024-01-10T00:43:31.141437Z",
     "iopub.status.idle": "2024-01-10T00:43:31.326840Z",
     "shell.execute_reply": "2024-01-10T00:43:31.326183Z"
    }
   },
   "outputs": [
    {
     "data": {
      "image/png": "[encoded data removed]",
      "text/plain": [
       "<Figure size 400x300 with 1 Axes>"
      ]
     },
     "metadata": {},
     "output_type": "display_data"
    }
   ],
   "source": [
    "fig = plt.figure(figsize=(4,3))\n",
    "plt.plot(codings[:,0], codings[:, 1], \"b.\")\n",
    "plt.xlabel(\"$z_1$\", fontsize=18)\n",
    "plt.ylabel(\"$z_2$\", fontsize=18, rotation=0)\n",
    "plt.show()"
   ]
  },
  {
   "cell_type": "markdown",
   "metadata": {
    "slideshow": {
     "slide_type": "slide"
    }
   },
   "source": [
    "## Stacked autoencoders \n",
    "\n",
    "Just like other neural networks we have discussed, autoencoders can have multiple hidden layers. \n",
    "\n",
    "In this case they are called stacked autoencoders (or deep autoencoders).\n"
   ]
  },
  {
   "cell_type": "markdown",
   "metadata": {
    "slideshow": {
     "slide_type": "subslide"
    }
   },
   "source": [
    "The architecture of a stacked autoencoder is typically symmetrical with regards to the central hidden layer (the coding layer). To put it simply, it looks like a sandwich.\n",
    "\n",
    "Example (MNIST data, 28x28=784 pixel input), the number of neurons in the middle layer being 150 is chosen because the reduction analysis identify that 150 features are sufficient to represent the data.\n",
    "\n",
    "<img src=\"https://raw.githubusercontent.com/astro-informatics/course_mlbd_images/master/Lecture21_Images/stacked.jpeg\" alt=\"Drawing\" style=\"width: 500px;\"/>\n"
   ]
  },
  {
   "cell_type": "markdown",
   "metadata": {
    "slideshow": {
     "slide_type": "subslide"
    }
   },
   "source": [
    "Let's use the MNIST data as an example"
   ]
  },
  {
   "cell_type": "code",
   "execution_count": 5,
   "metadata": {
    "execution": {
     "iopub.execute_input": "2024-01-10T00:43:31.330233Z",
     "iopub.status.busy": "2024-01-10T00:43:31.329986Z",
     "iopub.status.idle": "2024-01-10T00:43:31.833094Z",
     "shell.execute_reply": "2024-01-10T00:43:31.832398Z"
    }
   },
   "outputs": [],
   "source": [
    "(X_train_full, y_train_full), (X_test, y_test) = tf.keras.datasets.fashion_mnist.load_data()\n",
    "X_train_full = X_train_full.astype(np.float32) / 255\n",
    "X_test = X_test.astype(np.float32) / 255\n",
    "X_train, X_valid = X_train_full[:-5000], X_train_full[-5000:]\n",
    "y_train, y_valid = y_train_full[:-5000], y_train_full[-5000:]"
   ]
  },
  {
   "cell_type": "code",
   "execution_count": 9,
   "metadata": {},
   "outputs": [
    {
     "data": {
      "text/plain": [
       "(55000, 784)"
      ]
     },
     "execution_count": 9,
     "metadata": {},
     "output_type": "execute_result"
    }
   ],
   "source": [
    "X_train.shape\n",
    "X_train.reshape(-1, 28*28).shape"
   ]
  },
  {
   "cell_type": "markdown",
   "metadata": {
    "slideshow": {
     "slide_type": "subslide"
    }
   },
   "source": [
    "Let's build a stacked Autoencoder with 3 hidden layers and 1 output layer (ie. 2 stacked Autoencoders). We will use ELU activation, He initialization and L2 regularization.\n",
    "\n",
    "The code should look very familiar, except that there are no labels (no y)!"
   ]
  },
  {
   "cell_type": "code",
   "execution_count": null,
   "metadata": {
    "execution": {
     "iopub.execute_input": "2024-01-10T00:43:31.836793Z",
     "iopub.status.busy": "2024-01-10T00:43:31.836183Z",
     "iopub.status.idle": "2024-01-10T00:43:31.846185Z",
     "shell.execute_reply": "2024-01-10T00:43:31.845523Z"
    }
   },
   "outputs": [],
   "source": [
    "reset_state()\n",
    "\n",
    "n_inputs = 28 * 28 #input dimension \n",
    "n_hidden1 = 300  #first coding\n",
    "n_hidden2 = 150  #second coding\n",
    "n_hidden3 = n_hidden1 #symmetric decoding \n",
    "n_outputs = n_inputs\n",
    "\n",
    "learning_rate = 0.01\n",
    "l2_reg = 0.0001 #limit used in L2 reg\n",
    "\n",
    "#Returns an initializer that generates tensors without scaling variance.\n",
    "#When initializing a deep network, it is in principle advantageous to keep \n",
    "#the scale of the input variance constant, so it does not explode or \n",
    "#diminish by reaching the final layer. \n",
    "he_init = tf.keras.initializers.HeNormal() # He initialization\n",
    "\n",
    "#Returns a function that can be used to apply L2 regularization to weights.\n",
    "#Small values of L2 can help prevent overfitting the training data.\n",
    "l2_regularizer = tf.keras.regularizers.L2(l2_reg)"
   ]
  },
  {
   "cell_type": "code",
   "execution_count": 10,
   "metadata": {
    "execution": {
     "iopub.execute_input": "2024-01-10T00:43:31.849505Z",
     "iopub.status.busy": "2024-01-10T00:43:31.849038Z",
     "iopub.status.idle": "2024-01-10T00:43:31.960267Z",
     "shell.execute_reply": "2024-01-10T00:43:31.959588Z"
    },
    "slideshow": {
     "slide_type": "subslide"
    }
   },
   "outputs": [],
   "source": [
    "def rounded_accuracy(y_true, y_pred):\n",
    "    return keras.metrics.binary_accuracy(tf.round(y_true), tf.round(y_pred))\n",
    "\n",
    "tf.random.set_seed(42)\n",
    "np.random.seed(42)\n",
    "\n",
    "stacked_encoder = keras.models.Sequential([\n",
    "    keras.layers.Flatten(input_shape=[28, 28]),\n",
    "    keras.layers.Dense(100, activation=tf.keras.layers.ELU(), kernel_initializer=he_init, kernel_regularizer=l2_regularizer),\n",
    "    keras.layers.Dense(30, activation=tf.keras.layers.ELU(), kernel_initializer=he_init, kernel_regularizer=l2_regularizer),\n",
    "])\n",
    "stacked_decoder = keras.models.Sequential([\n",
    "    keras.layers.Dense(100, activation=tf.keras.layers.ELU(), kernel_initializer=he_init, kernel_regularizer=l2_regularizer, input_shape=[30]),\n",
    "    keras.layers.Dense(28 * 28, activation=\"sigmoid\"),\n",
    "    keras.layers.Reshape([28, 28])\n",
    "])\n",
    "stacked_ae = keras.models.Sequential([stacked_encoder, stacked_decoder])\n",
    "stacked_ae.compile(loss=\"binary_crossentropy\",\n",
    "                   optimizer=keras.optimizers.legacy.SGD(learning_rate=1.5), metrics=[rounded_accuracy])"
   ]
  },
  {
   "cell_type": "code",
   "execution_count": null,
   "metadata": {
    "execution": {
     "iopub.execute_input": "2024-01-10T00:43:31.963795Z",
     "iopub.status.busy": "2024-01-10T00:43:31.963199Z",
     "iopub.status.idle": "2024-01-10T00:43:41.881259Z",
     "shell.execute_reply": "2024-01-10T00:43:41.880599Z"
    },
    "slideshow": {
     "slide_type": "-"
    },
    "tags": [
     "hide-output"
    ]
   },
   "outputs": [],
   "source": [
    "history = stacked_ae.fit(X_train, X_train, batch_size = 150, epochs=5,\n",
    "                         validation_data=(X_valid, X_valid))"
   ]
  },
  {
   "cell_type": "code",
   "execution_count": 12,
   "metadata": {
    "execution": {
     "iopub.execute_input": "2024-01-10T00:43:41.884797Z",
     "iopub.status.busy": "2024-01-10T00:43:41.884137Z",
     "iopub.status.idle": "2024-01-10T00:43:41.888777Z",
     "shell.execute_reply": "2024-01-10T00:43:41.888234Z"
    },
    "slideshow": {
     "slide_type": "subslide"
    }
   },
   "outputs": [],
   "source": [
    "def show_reconstructions(model, images=X_valid, n_images=5):\n",
    "    reconstructions = model.predict(images[:n_images])\n",
    "    fig = plt.figure(figsize=(n_images * 1.5, 3))\n",
    "    for image_index in range(n_images):\n",
    "        plt.subplot(2, n_images, 1 + image_index)\n",
    "        plot_image(images[image_index])\n",
    "        plt.subplot(2, n_images, 1 + n_images + image_index)\n",
    "        plot_image(reconstructions[image_index])"
   ]
  },
  {
   "cell_type": "code",
   "execution_count": 13,
   "metadata": {
    "execution": {
     "iopub.execute_input": "2024-01-10T00:43:41.892533Z",
     "iopub.status.busy": "2024-01-10T00:43:41.891168Z",
     "iopub.status.idle": "2024-01-10T00:43:42.227783Z",
     "shell.execute_reply": "2024-01-10T00:43:42.227110Z"
    }
   },
   "outputs": [
    {
     "name": "stdout",
     "output_type": "stream",
     "text": [
      "\r\n",
      "1/1 [==============================] - ETA: 0s"
     ]
    },
    {
     "name": "stdout",
     "output_type": "stream",
     "text": [
      "\b\b\b\b\b\b\b\b\b\b\b\b\b\b\b\b\b\b\b\b\b\b\b\b\b\b\b\b\b\b\b\b\b\b\b\b\b\b\b\b\b\b\b\b\b\b\r\n",
      "1/1 [==============================] - 0s 62ms/step\n"
     ]
    },
    {
     "data": {
      "image/png": "[encoded data removed]",
      "text/plain": [
       "<Figure size 750x300 with 10 Axes>"
      ]
     },
     "metadata": {},
     "output_type": "display_data"
    }
   ],
   "source": [
    "#showing output layer\n",
    "show_reconstructions(stacked_ae)\n",
    "save_fig(\"reconstruction_plot\")"
   ]
  },
  {
   "cell_type": "markdown",
   "metadata": {
    "slideshow": {
     "slide_type": "subslide"
    }
   },
   "source": [
    "Can tie decoding weights to be the same as the encoder - difficult to do with dense, but can be coded manually\n",
    "\n",
    "The decoding layers has the same weights as encoding layers, resulting in half number of parameters compared to auto-encoder"
   ]
  },
  {
   "cell_type": "code",
   "execution_count": 14,
   "metadata": {
    "execution": {
     "iopub.execute_input": "2024-01-10T00:43:42.231502Z",
     "iopub.status.busy": "2024-01-10T00:43:42.230880Z",
     "iopub.status.idle": "2024-01-10T00:43:42.240164Z",
     "shell.execute_reply": "2024-01-10T00:43:42.239598Z"
    }
   },
   "outputs": [],
   "source": [
    "reset_state()\n",
    "\n",
    "learning_rate = 0.01\n",
    "l2_reg = 0.0005"
   ]
  },
  {
   "cell_type": "code",
   "execution_count": 15,
   "metadata": {
    "execution": {
     "iopub.execute_input": "2024-01-10T00:43:42.243499Z",
     "iopub.status.busy": "2024-01-10T00:43:42.242914Z",
     "iopub.status.idle": "2024-01-10T00:43:42.248212Z",
     "shell.execute_reply": "2024-01-10T00:43:42.247654Z"
    }
   },
   "outputs": [],
   "source": [
    "class DenseTranspose(keras.layers.Layer):\n",
    "    def __init__(self, dense, activation=None, **kwargs):\n",
    "        self.dense = dense\n",
    "        self.activation = keras.activations.get(activation)\n",
    "        super().__init__(**kwargs)\n",
    "    def build(self, batch_input_shape):\n",
    "        self.biases = self.add_weight(name=\"bias\",\n",
    "                                      shape=[self.dense.input_shape[-1]],\n",
    "                                      initializer=\"zeros\")\n",
    "        super().build(batch_input_shape)\n",
    "    def call(self, inputs):\n",
    "        z = tf.matmul(inputs, self.dense.weights[0], transpose_b=True)\n",
    "        return self.activation(z + self.biases)"
   ]
  },
  {
   "cell_type": "code",
   "execution_count": 16,
   "metadata": {
    "execution": {
     "iopub.execute_input": "2024-01-10T00:43:42.251148Z",
     "iopub.status.busy": "2024-01-10T00:43:42.250735Z",
     "iopub.status.idle": "2024-01-10T00:43:42.388698Z",
     "shell.execute_reply": "2024-01-10T00:43:42.387985Z"
    },
    "slideshow": {
     "slide_type": "subslide"
    }
   },
   "outputs": [],
   "source": [
    "keras.backend.clear_session()\n",
    "tf.random.set_seed(42)\n",
    "np.random.seed(42)\n",
    "\n",
    "dense_1 = keras.layers.Dense(100, activation=tf.keras.layers.ELU(), kernel_regularizer=l2_regularizer)\n",
    "dense_2 = keras.layers.Dense(30, activation=tf.keras.layers.ELU(), kernel_regularizer=l2_regularizer)\n",
    "\n",
    "tied_encoder = keras.models.Sequential([\n",
    "    keras.layers.Flatten(input_shape=[28, 28]),\n",
    "    dense_1,\n",
    "    dense_2\n",
    "])\n",
    "\n",
    "tied_decoder = keras.models.Sequential([\n",
    "    DenseTranspose(dense_2, activation=tf.keras.layers.ELU()),\n",
    "    DenseTranspose(dense_1, activation=\"sigmoid\"),\n",
    "    keras.layers.Reshape([28, 28])\n",
    "])\n",
    "\n",
    "tied_ae = keras.models.Sequential([tied_encoder, tied_decoder])\n",
    "\n",
    "tied_ae.compile(loss=\"binary_crossentropy\",\n",
    "                optimizer=keras.optimizers.legacy.Adam(learning_rate=learning_rate), metrics=[rounded_accuracy])"
   ]
  },
  {
   "cell_type": "code",
   "execution_count": null,
   "metadata": {
    "execution": {
     "iopub.execute_input": "2024-01-10T00:43:42.392443Z",
     "iopub.status.busy": "2024-01-10T00:43:42.391821Z",
     "iopub.status.idle": "2024-01-10T00:43:53.351281Z",
     "shell.execute_reply": "2024-01-10T00:43:53.350583Z"
    },
    "tags": [
     "hide-output"
    ]
   },
   "outputs": [],
   "source": [
    "history = tied_ae.fit(X_train, X_train, epochs=5, batch_size=150,\n",
    "                      validation_data=(X_valid, X_valid))"
   ]
  },
  {
   "cell_type": "code",
   "execution_count": 18,
   "metadata": {
    "execution": {
     "iopub.execute_input": "2024-01-10T00:43:53.356583Z",
     "iopub.status.busy": "2024-01-10T00:43:53.356131Z",
     "iopub.status.idle": "2024-01-10T00:43:53.668680Z",
     "shell.execute_reply": "2024-01-10T00:43:53.668089Z"
    },
    "slideshow": {
     "slide_type": "subslide"
    }
   },
   "outputs": [
    {
     "name": "stdout",
     "output_type": "stream",
     "text": [
      "\r\n",
      "1/1 [==============================] - ETA: 0s"
     ]
    },
    {
     "name": "stdout",
     "output_type": "stream",
     "text": [
      "\b\b\b\b\b\b\b\b\b\b\b\b\b\b\b\b\b\b\b\b\b\b\b\b\b\b\b\b\b\b\b\b\b\b\b\b\b\b\b\b\b\b\b\b\b\b\r\n",
      "1/1 [==============================] - 0s 60ms/step\n"
     ]
    },
    {
     "data": {
      "image/png": "[encoded data removed]",
      "text/plain": [
       "<Figure size 750x300 with 10 Axes>"
      ]
     },
     "metadata": {},
     "output_type": "display_data"
    }
   ],
   "source": [
    "show_reconstructions(tied_ae)\n",
    "plt.show()"
   ]
  },
  {
   "cell_type": "markdown",
   "metadata": {
    "slideshow": {
     "slide_type": "slide"
    }
   },
   "source": [
    "## Training One Autoencoder at a Time \n",
    "\n",
    "* Rather than training the whole stacked autoencoder in one go like we just did, \n",
    "* It is often much faster to train one shallow autoencoder at a time, \n",
    "* then stack all of them into a single stacked autoencoder (hence the name)\n",
    "\n",
    "<img src=\"https://raw.githubusercontent.com/astro-informatics/course_mlbd_images/master/Lecture21_Images/stacked2.jpeg\" alt=\"Drawing\" style=\"width: 500px;\"/>\n",
    "\n",
    "\n"
   ]
  },
  {
   "cell_type": "markdown",
   "metadata": {
    "slideshow": {
     "slide_type": "subslide"
    }
   },
   "source": [
    "Using example from tied weights above "
   ]
  },
  {
   "cell_type": "code",
   "execution_count": 19,
   "metadata": {
    "execution": {
     "iopub.execute_input": "2024-01-10T00:43:53.672038Z",
     "iopub.status.busy": "2024-01-10T00:43:53.671689Z",
     "iopub.status.idle": "2024-01-10T00:43:53.678208Z",
     "shell.execute_reply": "2024-01-10T00:43:53.677572Z"
    }
   },
   "outputs": [],
   "source": [
    "def train_autoencoder(n_neurons, X_train, X_valid, loss, optimizer,\n",
    "                      n_epochs=10, output_activation=None, metrics=None):\n",
    "    n_inputs = X_train.shape[-1]\n",
    "    encoder = keras.models.Sequential([\n",
    "        keras.layers.Dense(n_neurons, activation=\"selu\", input_shape=[n_inputs])\n",
    "    ])\n",
    "    decoder = keras.models.Sequential([\n",
    "        keras.layers.Dense(n_inputs, activation=output_activation),\n",
    "    ])\n",
    "    autoencoder = keras.models.Sequential([encoder, decoder])\n",
    "    autoencoder.compile(optimizer, loss, metrics=metrics)\n",
    "    autoencoder.fit(X_train, X_train, epochs=n_epochs,\n",
    "                    validation_data=(X_valid, X_valid))\n",
    "    return encoder, decoder, encoder(X_train), encoder(X_valid)"
   ]
  },
  {
   "cell_type": "code",
   "execution_count": 20,
   "metadata": {
    "execution": {
     "iopub.execute_input": "2024-01-10T00:43:53.681728Z",
     "iopub.status.busy": "2024-01-10T00:43:53.681307Z",
     "iopub.status.idle": "2024-01-10T00:43:53.825683Z",
     "shell.execute_reply": "2024-01-10T00:43:53.824950Z"
    }
   },
   "outputs": [],
   "source": [
    "tf.random.set_seed(42)\n",
    "np.random.seed(42)\n",
    "\n",
    "K = keras.backend\n",
    "X_train_flat = K.batch_flatten(X_train) # equivalent to .reshape(-1, 28 * 28)\n",
    "X_valid_flat = K.batch_flatten(X_valid)"
   ]
  },
  {
   "cell_type": "code",
   "execution_count": null,
   "metadata": {
    "execution": {
     "iopub.execute_input": "2024-01-10T00:43:53.829463Z",
     "iopub.status.busy": "2024-01-10T00:43:53.828951Z",
     "iopub.status.idle": "2024-01-10T00:44:50.588993Z",
     "shell.execute_reply": "2024-01-10T00:44:50.588271Z"
    },
    "slideshow": {
     "slide_type": "subslide"
    },
    "tags": [
     "hide-output"
    ]
   },
   "outputs": [],
   "source": [
    "enc1, dec1, X_train_enc1, X_valid_enc1 = train_autoencoder(\n",
    "    100, X_train_flat, X_valid_flat, \"binary_crossentropy\",\n",
    "    keras.optimizers.legacy.SGD(learning_rate=1.5), output_activation=\"sigmoid\",\n",
    "    metrics=[rounded_accuracy])\n",
    "enc2, dec2, _, _ = train_autoencoder(\n",
    "    30, X_train_enc1, X_valid_enc1, \"mse\", keras.optimizers.legacy.SGD(learning_rate=0.05),\n",
    "    output_activation=\"selu\")"
   ]
  },
  {
   "cell_type": "code",
   "execution_count": 22,
   "metadata": {
    "execution": {
     "iopub.execute_input": "2024-01-10T00:44:50.592288Z",
     "iopub.status.busy": "2024-01-10T00:44:50.591807Z",
     "iopub.status.idle": "2024-01-10T00:44:50.628828Z",
     "shell.execute_reply": "2024-01-10T00:44:50.628230Z"
    },
    "slideshow": {
     "slide_type": "subslide"
    }
   },
   "outputs": [],
   "source": [
    "stacked_ae_1_by_1 = keras.models.Sequential([\n",
    "    keras.layers.Flatten(input_shape=[28, 28]),\n",
    "    enc1, enc2, dec2, dec1,\n",
    "    keras.layers.Reshape([28, 28])\n",
    "])"
   ]
  },
  {
   "cell_type": "code",
   "execution_count": 23,
   "metadata": {
    "execution": {
     "iopub.execute_input": "2024-01-10T00:44:50.631802Z",
     "iopub.status.busy": "2024-01-10T00:44:50.631355Z",
     "iopub.status.idle": "2024-01-10T00:44:50.948435Z",
     "shell.execute_reply": "2024-01-10T00:44:50.947626Z"
    }
   },
   "outputs": [
    {
     "name": "stdout",
     "output_type": "stream",
     "text": [
      "\r\n",
      "1/1 [==============================] - ETA: 0s"
     ]
    },
    {
     "name": "stdout",
     "output_type": "stream",
     "text": [
      "\b\b\b\b\b\b\b\b\b\b\b\b\b\b\b\b\b\b\b\b\b\b\b\b\b\b\b\b\b\b\b\b\b\b\b\b\b\b\b\b\b\b\b\b\b\b\r\n",
      "1/1 [==============================] - 0s 62ms/step\n"
     ]
    },
    {
     "data": {
      "image/png": "[encoded data removed]",
      "text/plain": [
       "<Figure size 750x300 with 10 Axes>"
      ]
     },
     "metadata": {},
     "output_type": "display_data"
    }
   ],
   "source": [
    "show_reconstructions(stacked_ae_1_by_1)\n",
    "plt.show()"
   ]
  },
  {
   "cell_type": "code",
   "execution_count": 24,
   "metadata": {
    "execution": {
     "iopub.execute_input": "2024-01-10T00:44:50.951326Z",
     "iopub.status.busy": "2024-01-10T00:44:50.951080Z",
     "iopub.status.idle": "2024-01-10T00:44:50.960476Z",
     "shell.execute_reply": "2024-01-10T00:44:50.959839Z"
    },
    "slideshow": {
     "slide_type": "subslide"
    }
   },
   "outputs": [],
   "source": [
    "stacked_ae_1_by_1.compile(loss=\"binary_crossentropy\",\n",
    "                          optimizer=keras.optimizers.legacy.SGD(learning_rate=0.1), metrics=[rounded_accuracy])"
   ]
  },
  {
   "cell_type": "code",
   "execution_count": null,
   "metadata": {
    "execution": {
     "iopub.execute_input": "2024-01-10T00:44:50.964013Z",
     "iopub.status.busy": "2024-01-10T00:44:50.963613Z",
     "iopub.status.idle": "2024-01-10T00:45:35.350782Z",
     "shell.execute_reply": "2024-01-10T00:45:35.350105Z"
    },
    "tags": [
     "hide-output"
    ]
   },
   "outputs": [],
   "source": [
    "history = stacked_ae_1_by_1.fit(X_train, X_train, epochs=10,\n",
    "                                validation_data=(X_valid, X_valid))"
   ]
  },
  {
   "cell_type": "code",
   "execution_count": 26,
   "metadata": {
    "execution": {
     "iopub.execute_input": "2024-01-10T00:45:35.354474Z",
     "iopub.status.busy": "2024-01-10T00:45:35.353887Z",
     "iopub.status.idle": "2024-01-10T00:45:35.666532Z",
     "shell.execute_reply": "2024-01-10T00:45:35.665624Z"
    },
    "slideshow": {
     "slide_type": "subslide"
    }
   },
   "outputs": [
    {
     "name": "stdout",
     "output_type": "stream",
     "text": [
      "WARNING:tensorflow:5 out of the last 8 calls to <function Model.make_predict_function.<locals>.predict_function at 0x7f3d9299d790> triggered tf.function retracing. Tracing is expensive and the excessive number of tracings could be due to (1) creating @tf.function repeatedly in a loop, (2) passing tensors with different shapes, (3) passing Python objects instead of tensors. For (1), please define your @tf.function outside of the loop. For (2), @tf.function has reduce_retracing=True option that can avoid unnecessary retracing. For (3), please refer to https://www.tensorflow.org/guide/function#controlling_retracing and https://www.tensorflow.org/api_docs/python/tf/function for  more details.\n"
     ]
    },
    {
     "name": "stdout",
     "output_type": "stream",
     "text": [
      "\r\n",
      "1/1 [==============================] - ETA: 0s"
     ]
    },
    {
     "name": "stdout",
     "output_type": "stream",
     "text": [
      "\b\b\b\b\b\b\b\b\b\b\b\b\b\b\b\b\b\b\b\b\b\b\b\b\b\b\b\b\b\b\b\b\b\b\b\b\b\b\b\b\b\b\b\b\b\b\r\n",
      "1/1 [==============================] - 0s 61ms/step\n"
     ]
    },
    {
     "data": {
      "image/png": "[encoded data removed]",
      "text/plain": [
       "<Figure size 750x300 with 10 Axes>"
      ]
     },
     "metadata": {},
     "output_type": "display_data"
    }
   ],
   "source": [
    "show_reconstructions(stacked_ae_1_by_1)\n",
    "plt.show()"
   ]
  },
  {
   "cell_type": "markdown",
   "metadata": {
    "slideshow": {
     "slide_type": "slide"
    }
   },
   "source": [
    "## Visualising the features\n",
    "\n",
    "* Many ways to do this\n",
    "* the simplest technique is to consider each neuron in every hidden layer, and find the training instances that activate it the most. Ok for layers close to input, but not for deep layers\n",
    "* Alternatively e.g. for each neuron in the first hidden layer, you can create an image where a pixel’s intensity corresponds to the weight of the connection to the given neuron\n"
   ]
  },
  {
   "cell_type": "code",
   "execution_count": 27,
   "metadata": {
    "execution": {
     "iopub.execute_input": "2024-01-10T00:45:35.669566Z",
     "iopub.status.busy": "2024-01-10T00:45:35.669324Z",
     "iopub.status.idle": "2024-01-10T00:45:35.685395Z",
     "shell.execute_reply": "2024-01-10T00:45:35.684712Z"
    },
    "slideshow": {
     "slide_type": "subslide"
    }
   },
   "outputs": [
    {
     "name": "stdout",
     "output_type": "stream",
     "text": [
      "Model: \"sequential_2\"\n"
     ]
    },
    {
     "name": "stdout",
     "output_type": "stream",
     "text": [
      "_________________________________________________________________\n"
     ]
    },
    {
     "name": "stdout",
     "output_type": "stream",
     "text": [
      " Layer (type)                Output Shape              Param #   \n"
     ]
    },
    {
     "name": "stdout",
     "output_type": "stream",
     "text": [
      "=================================================================\n"
     ]
    },
    {
     "name": "stdout",
     "output_type": "stream",
     "text": [
      " sequential (Sequential)     (None, 30)                81530     \n"
     ]
    },
    {
     "name": "stdout",
     "output_type": "stream",
     "text": [
      "                                                                 \n"
     ]
    },
    {
     "name": "stdout",
     "output_type": "stream",
     "text": [
      " sequential_1 (Sequential)   (None, 28, 28)            82284     \n"
     ]
    },
    {
     "name": "stdout",
     "output_type": "stream",
     "text": [
      "                                                                 \n"
     ]
    },
    {
     "name": "stdout",
     "output_type": "stream",
     "text": [
      "=================================================================\n"
     ]
    },
    {
     "name": "stdout",
     "output_type": "stream",
     "text": [
      "Total params: 163814 (639.90 KB)\n"
     ]
    },
    {
     "name": "stdout",
     "output_type": "stream",
     "text": [
      "Trainable params: 163814 (639.90 KB)\n"
     ]
    },
    {
     "name": "stdout",
     "output_type": "stream",
     "text": [
      "Non-trainable params: 0 (0.00 Byte)\n"
     ]
    },
    {
     "name": "stdout",
     "output_type": "stream",
     "text": [
      "_________________________________________________________________\n"
     ]
    }
   ],
   "source": [
    "stacked_ae.summary()"
   ]
  },
  {
   "cell_type": "code",
   "execution_count": 28,
   "metadata": {
    "execution": {
     "iopub.execute_input": "2024-01-10T00:45:35.691086Z",
     "iopub.status.busy": "2024-01-10T00:45:35.690847Z",
     "iopub.status.idle": "2024-01-10T00:45:35.700750Z",
     "shell.execute_reply": "2024-01-10T00:45:35.700119Z"
    }
   },
   "outputs": [
    {
     "name": "stdout",
     "output_type": "stream",
     "text": [
      "(784, 100)\n",
      "(100,)\n",
      "(100, 30)\n",
      "(30,)\n",
      "(30, 100)\n",
      "(100,)\n",
      "(100, 784)\n",
      "(784,)\n"
     ]
    }
   ],
   "source": [
    "for w in stacked_ae.trainable_weights:\n",
    "    print(K.eval(w).shape)"
   ]
  },
  {
   "cell_type": "code",
   "execution_count": 29,
   "metadata": {
    "execution": {
     "iopub.execute_input": "2024-01-10T00:45:35.704006Z",
     "iopub.status.busy": "2024-01-10T00:45:35.703767Z",
     "iopub.status.idle": "2024-01-10T00:45:35.710630Z",
     "shell.execute_reply": "2024-01-10T00:45:35.710015Z"
    },
    "slideshow": {
     "slide_type": "subslide"
    }
   },
   "outputs": [
    {
     "data": {
      "text/plain": [
       "TensorShape([784, 100])"
      ]
     },
     "execution_count": 29,
     "metadata": {},
     "output_type": "execute_result"
    }
   ],
   "source": [
    "w = stacked_ae.trainable_weights\n",
    "w0 = w[0] # Weights from first layer\n",
    "w0.shape"
   ]
  },
  {
   "cell_type": "code",
   "execution_count": 30,
   "metadata": {
    "execution": {
     "iopub.execute_input": "2024-01-10T00:45:35.713624Z",
     "iopub.status.busy": "2024-01-10T00:45:35.713393Z",
     "iopub.status.idle": "2024-01-10T00:45:35.721288Z",
     "shell.execute_reply": "2024-01-10T00:45:35.720686Z"
    }
   },
   "outputs": [
    {
     "data": {
      "text/plain": [
       "<tf.Tensor: shape=(100, 784), dtype=float32, numpy=\n",
       "array([[-0.023881  ,  0.00987931, -0.04028571, ...,  0.01349479,\n",
       "         0.00445445,  0.03602773],\n",
       "       [ 0.02111423, -0.04076767, -0.01987516, ..., -0.00976528,\n",
       "        -0.0289662 , -0.03109019],\n",
       "       [-0.02258361,  0.039319  , -0.00561018, ..., -0.05967777,\n",
       "         0.01428638,  0.00396939],\n",
       "       ...,\n",
       "       [-0.00434501,  0.01360635, -0.05177874, ...,  0.03212816,\n",
       "         0.03579177, -0.04487387],\n",
       "       [-0.0186268 , -0.02908142,  0.04341421, ...,  0.02825667,\n",
       "        -0.01064374,  0.0080286 ],\n",
       "       [ 0.00418238, -0.03190599, -0.0053121 , ..., -0.05225816,\n",
       "         0.02237959,  0.02680395]], dtype=float32)>"
      ]
     },
     "execution_count": 30,
     "metadata": {},
     "output_type": "execute_result"
    }
   ],
   "source": [
    "w0 = tf.reshape(w0, [100, 784])\n",
    "w0"
   ]
  },
  {
   "cell_type": "code",
   "execution_count": 31,
   "metadata": {
    "execution": {
     "iopub.execute_input": "2024-01-10T00:45:35.724492Z",
     "iopub.status.busy": "2024-01-10T00:45:35.724260Z",
     "iopub.status.idle": "2024-01-10T00:45:35.841333Z",
     "shell.execute_reply": "2024-01-10T00:45:35.840659Z"
    }
   },
   "outputs": [
    {
     "data": {
      "image/png": "[encoded data removed]",
      "text/plain": [
       "<Figure size 640x480 with 5 Axes>"
      ]
     },
     "metadata": {},
     "output_type": "display_data"
    }
   ],
   "source": [
    "for i in range(5):\n",
    "    plt.subplot(1, 5, i + 1)\n",
    "    plot_image(w0[i].numpy())\n",
    "\n",
    "plt.show()"
   ]
  },
  {
   "cell_type": "code",
   "execution_count": 32,
   "metadata": {
    "execution": {
     "iopub.execute_input": "2024-01-10T00:45:35.845168Z",
     "iopub.status.busy": "2024-01-10T00:45:35.844905Z",
     "iopub.status.idle": "2024-01-10T00:45:35.851819Z",
     "shell.execute_reply": "2024-01-10T00:45:35.851183Z"
    },
    "slideshow": {
     "slide_type": "subslide"
    }
   },
   "outputs": [
    {
     "data": {
      "text/plain": [
       "TensorShape([100, 784])"
      ]
     },
     "execution_count": 32,
     "metadata": {},
     "output_type": "execute_result"
    }
   ],
   "source": [
    "w = stacked_ae.trainable_weights\n",
    "w6 = w[6] # Weights from first layer\n",
    "w6.shape"
   ]
  },
  {
   "cell_type": "code",
   "execution_count": 33,
   "metadata": {
    "execution": {
     "iopub.execute_input": "2024-01-10T00:45:35.855356Z",
     "iopub.status.busy": "2024-01-10T00:45:35.855111Z",
     "iopub.status.idle": "2024-01-10T00:45:35.974498Z",
     "shell.execute_reply": "2024-01-10T00:45:35.973813Z"
    }
   },
   "outputs": [
    {
     "data": {
      "image/png": "[encoded data removed]",
      "text/plain": [
       "<Figure size 640x480 with 5 Axes>"
      ]
     },
     "metadata": {},
     "output_type": "display_data"
    }
   ],
   "source": [
    "for i in range(5):\n",
    "    plt.subplot(1, 5, i + 1)\n",
    "    plot_image(w6[i].numpy())\n",
    "\n",
    "plt.show()     "
   ]
  },
  {
   "cell_type": "markdown",
   "metadata": {
    "slideshow": {
     "slide_type": "slide"
    }
   },
   "source": [
    "## Denoising Autoencoder\n",
    "\n",
    "* Another way to force the autoencoder to learn useful features is to add noise to its inputs, training it to recover the original, noise-free inputs. \n",
    "* This prevents the autoencoder from trivially copying its inputs to its outputs, so it ends up having to find patterns in the data."
   ]
  },
  {
   "cell_type": "markdown",
   "metadata": {
    "slideshow": {
     "slide_type": "subslide"
    }
   },
   "source": [
    "* The noise can be pure Gaussian noise added to the inputs, or it can be randomly switched off inputs, just like in dropout\n",
    "\n",
    "<img src=\"https://raw.githubusercontent.com/astro-informatics/course_mlbd_images/master/Lecture21_Images/noise.jpeg\" alt=\"Drawing\" style=\"width: 500px;\"/>"
   ]
  },
  {
   "cell_type": "markdown",
   "metadata": {
    "slideshow": {
     "slide_type": "subslide"
    }
   },
   "source": [
    "### Gaussian Noise\n",
    "\n",
    "Simple example (not phased training or weight matching so can use tf.keras.layers.Dense)"
   ]
  },
  {
   "cell_type": "code",
   "execution_count": 34,
   "metadata": {
    "execution": {
     "iopub.execute_input": "2024-01-10T00:45:35.978483Z",
     "iopub.status.busy": "2024-01-10T00:45:35.978221Z",
     "iopub.status.idle": "2024-01-10T00:45:36.094955Z",
     "shell.execute_reply": "2024-01-10T00:45:36.094239Z"
    }
   },
   "outputs": [],
   "source": [
    "reset_state()\n",
    "\n",
    "denoising_encoder = keras.models.Sequential([\n",
    "    keras.layers.Flatten(input_shape=[28, 28]),\n",
    "    keras.layers.GaussianNoise(0.2),\n",
    "    keras.layers.Dense(100, activation=\"selu\"),\n",
    "    keras.layers.Dense(30, activation=\"selu\")\n",
    "])\n",
    "denoising_decoder = keras.models.Sequential([\n",
    "    keras.layers.Dense(100, activation=\"selu\", input_shape=[30]),\n",
    "    keras.layers.Dense(28 * 28, activation=\"sigmoid\"),\n",
    "    keras.layers.Reshape([28, 28])\n",
    "])\n",
    "denoising_ae = keras.models.Sequential([denoising_encoder, denoising_decoder])\n",
    "denoising_ae.compile(loss=\"binary_crossentropy\", optimizer=keras.optimizers.legacy.SGD(learning_rate=1.0),\n",
    "                     metrics=[rounded_accuracy])"
   ]
  },
  {
   "cell_type": "code",
   "execution_count": null,
   "metadata": {
    "execution": {
     "iopub.execute_input": "2024-01-10T00:45:36.098827Z",
     "iopub.status.busy": "2024-01-10T00:45:36.098569Z",
     "iopub.status.idle": "2024-01-10T00:46:23.393229Z",
     "shell.execute_reply": "2024-01-10T00:46:23.392633Z"
    },
    "slideshow": {
     "slide_type": "subslide"
    },
    "tags": [
     "hide-output"
    ]
   },
   "outputs": [],
   "source": [
    "history = denoising_ae.fit(X_train, X_train, epochs=10,\n",
    "                           validation_data=(X_valid, X_valid))"
   ]
  },
  {
   "cell_type": "code",
   "execution_count": 36,
   "metadata": {
    "execution": {
     "iopub.execute_input": "2024-01-10T00:46:23.396441Z",
     "iopub.status.busy": "2024-01-10T00:46:23.396056Z",
     "iopub.status.idle": "2024-01-10T00:46:23.789408Z",
     "shell.execute_reply": "2024-01-10T00:46:23.788594Z"
    },
    "slideshow": {
     "slide_type": "subslide"
    }
   },
   "outputs": [
    {
     "name": "stdout",
     "output_type": "stream",
     "text": [
      "WARNING:tensorflow:6 out of the last 9 calls to <function Model.make_predict_function.<locals>.predict_function at 0x7f3d91c9f280> triggered tf.function retracing. Tracing is expensive and the excessive number of tracings could be due to (1) creating @tf.function repeatedly in a loop, (2) passing tensors with different shapes, (3) passing Python objects instead of tensors. For (1), please define your @tf.function outside of the loop. For (2), @tf.function has reduce_retracing=True option that can avoid unnecessary retracing. For (3), please refer to https://www.tensorflow.org/guide/function#controlling_retracing and https://www.tensorflow.org/api_docs/python/tf/function for  more details.\n"
     ]
    },
    {
     "name": "stdout",
     "output_type": "stream",
     "text": [
      "\r\n",
      "1/1 [==============================] - ETA: 0s"
     ]
    },
    {
     "name": "stdout",
     "output_type": "stream",
     "text": [
      "\b\b\b\b\b\b\b\b\b\b\b\b\b\b\b\b\b\b\b\b\b\b\b\b\b\b\b\b\b\b\b\b\b\b\b\b\b\b\b\b\b\b\b\b\b\b\r\n",
      "1/1 [==============================] - 0s 63ms/step\n"
     ]
    },
    {
     "data": {
      "image/png": "[encoded data removed]",
      "text/plain": [
       "<Figure size 750x300 with 10 Axes>"
      ]
     },
     "metadata": {},
     "output_type": "display_data"
    }
   ],
   "source": [
    "tf.random.set_seed(42)\n",
    "np.random.seed(42)\n",
    "\n",
    "noise = keras.layers.GaussianNoise(0.1)\n",
    "\n",
    "show_reconstructions(denoising_ae, noise(X_valid, training=True).numpy())\n",
    "plt.show()"
   ]
  },
  {
   "cell_type": "markdown",
   "metadata": {
    "slideshow": {
     "slide_type": "subslide"
    }
   },
   "source": [
    "### Dropout \n",
    "\n",
    "Simple example (not phased training or weight matching so can user tf.layers.dense)"
   ]
  },
  {
   "cell_type": "code",
   "execution_count": 37,
   "metadata": {
    "execution": {
     "iopub.execute_input": "2024-01-10T00:46:23.792547Z",
     "iopub.status.busy": "2024-01-10T00:46:23.792298Z",
     "iopub.status.idle": "2024-01-10T00:46:23.902203Z",
     "shell.execute_reply": "2024-01-10T00:46:23.901523Z"
    }
   },
   "outputs": [],
   "source": [
    "tf.random.set_seed(42)\n",
    "np.random.seed(42)\n",
    "\n",
    "dropout_encoder = keras.models.Sequential([\n",
    "    keras.layers.Flatten(input_shape=[28, 28]),\n",
    "    keras.layers.Dropout(0.5),\n",
    "    keras.layers.Dense(100, activation=\"selu\"),\n",
    "    keras.layers.Dense(30, activation=\"selu\")\n",
    "])\n",
    "dropout_decoder = keras.models.Sequential([\n",
    "    keras.layers.Dense(100, activation=\"selu\", input_shape=[30]),\n",
    "    keras.layers.Dense(28 * 28, activation=\"sigmoid\"),\n",
    "    keras.layers.Reshape([28, 28])\n",
    "])\n",
    "dropout_ae = keras.models.Sequential([dropout_encoder, dropout_decoder])\n",
    "dropout_ae.compile(loss=\"binary_crossentropy\", optimizer=keras.optimizers.legacy.SGD(learning_rate=1.0),\n",
    "                   metrics=[rounded_accuracy])"
   ]
  },
  {
   "cell_type": "code",
   "execution_count": null,
   "metadata": {
    "execution": {
     "iopub.execute_input": "2024-01-10T00:46:23.905586Z",
     "iopub.status.busy": "2024-01-10T00:46:23.905340Z",
     "iopub.status.idle": "2024-01-10T00:47:10.566590Z",
     "shell.execute_reply": "2024-01-10T00:47:10.565985Z"
    },
    "slideshow": {
     "slide_type": "subslide"
    },
    "tags": [
     "hide-output"
    ]
   },
   "outputs": [],
   "source": [
    "history = dropout_ae.fit(X_train, X_train, epochs=10,\n",
    "                         validation_data=(X_valid, X_valid))"
   ]
  },
  {
   "cell_type": "code",
   "execution_count": 39,
   "metadata": {
    "execution": {
     "iopub.execute_input": "2024-01-10T00:47:10.569673Z",
     "iopub.status.busy": "2024-01-10T00:47:10.569208Z",
     "iopub.status.idle": "2024-01-10T00:47:10.947834Z",
     "shell.execute_reply": "2024-01-10T00:47:10.947157Z"
    },
    "slideshow": {
     "slide_type": "subslide"
    }
   },
   "outputs": [
    {
     "name": "stdout",
     "output_type": "stream",
     "text": [
      "\r\n",
      "1/1 [==============================] - ETA: 0s"
     ]
    },
    {
     "name": "stdout",
     "output_type": "stream",
     "text": [
      "\b\b\b\b\b\b\b\b\b\b\b\b\b\b\b\b\b\b\b\b\b\b\b\b\b\b\b\b\b\b\b\b\b\b\b\b\b\b\b\b\b\b\b\b\b\b\r\n",
      "1/1 [==============================] - 0s 62ms/step\n"
     ]
    },
    {
     "data": {
      "image/png": "[encoded data removed]",
      "text/plain": [
       "<Figure size 750x300 with 10 Axes>"
      ]
     },
     "metadata": {},
     "output_type": "display_data"
    }
   ],
   "source": [
    "tf.random.set_seed(42)\n",
    "np.random.seed(42)\n",
    "\n",
    "dropout = keras.layers.Dropout(0.5)\n",
    "show_reconstructions(dropout_ae, dropout(X_valid, training=True).numpy())\n",
    "save_fig(\"dropout_denoising_plot\", tight_layout=False)"
   ]
  },
  {
   "cell_type": "markdown",
   "metadata": {
    "slideshow": {
     "slide_type": "slide"
    }
   },
   "source": [
    "## Variational Autoencoders \n",
    "\n",
    "* They are probabilistic autoencoders, meaning that their outputs are partly determined by chance,\n",
    "* Most importantly, they are generative autoencoders, meaning that they can generate new instances that look like they were sampled from the training set.\n"
   ]
  },
  {
   "cell_type": "markdown",
   "metadata": {
    "slideshow": {
     "slide_type": "subslide"
    }
   },
   "source": [
    "* The encoder produces a mean coding μ and a standard deviation σ. \n",
    "* The actual coding is then sampled randomly from a Gaussian distribution with mean μ and standard deviation σ.\n",
    "\n",
    "<img src=\"https://raw.githubusercontent.com/astro-informatics/course_mlbd_images/master/Lecture21_Images/var_ae.jpeg\" alt=\"Drawing\" style=\"width: 500px;\"/>\n"
   ]
  },
  {
   "cell_type": "markdown",
   "metadata": {
    "slideshow": {
     "slide_type": "subslide"
    }
   },
   "source": [
    "Gaussian distribution: during training, the cost function (discussed next) pushes the codings to gradually migrate within the coding space (also called the latent space) to occupy a roughly (hyper) spherical region that looks like a cloud of Gaussian points.\n"
   ]
  },
  {
   "cell_type": "markdown",
   "metadata": {
    "slideshow": {
     "slide_type": "subslide"
    }
   },
   "source": [
    "### Cost Function \n",
    "\n",
    "Composed of two parts: \n",
    "* The first is the usual reconstruction loss that pushes the autoencoder to reproduce its inputs (e.g. we can use cross entropy for this) \n",
    "* The second is the _latent loss_ that pushes the autoencoder to have codings that _look as though they were sampled from a simple Gaussian distribution_, for which we use the KL (Kullback–Leibler) divergence between the target distribution (the Gaussian distribution) and the actual distribution of the internal codings\n"
   ]
  },
  {
   "cell_type": "code",
   "execution_count": 40,
   "metadata": {
    "execution": {
     "iopub.execute_input": "2024-01-10T00:47:10.952802Z",
     "iopub.status.busy": "2024-01-10T00:47:10.951398Z",
     "iopub.status.idle": "2024-01-10T00:47:10.956927Z",
     "shell.execute_reply": "2024-01-10T00:47:10.956377Z"
    }
   },
   "outputs": [],
   "source": [
    "class Sampling(keras.layers.Layer):\n",
    "    def call(self, inputs):\n",
    "        mean, log_var = inputs\n",
    "        return K.random_normal(tf.shape(log_var)) * K.exp(log_var / 2) + mean "
   ]
  },
  {
   "cell_type": "code",
   "execution_count": 41,
   "metadata": {
    "execution": {
     "iopub.execute_input": "2024-01-10T00:47:10.960466Z",
     "iopub.status.busy": "2024-01-10T00:47:10.960057Z",
     "iopub.status.idle": "2024-01-10T00:47:11.178120Z",
     "shell.execute_reply": "2024-01-10T00:47:11.177467Z"
    },
    "slideshow": {
     "slide_type": "subslide"
    }
   },
   "outputs": [],
   "source": [
    "tf.random.set_seed(42)\n",
    "np.random.seed(42)\n",
    "\n",
    "codings_size = 10\n",
    "\n",
    "inputs = keras.layers.Input(shape=[28, 28])\n",
    "z = keras.layers.Flatten()(inputs)\n",
    "z = keras.layers.Dense(150, activation=\"selu\")(z)\n",
    "z = keras.layers.Dense(100, activation=\"selu\")(z)\n",
    "codings_mean = keras.layers.Dense(codings_size)(z)\n",
    "codings_log_var = keras.layers.Dense(codings_size)(z)\n",
    "codings = Sampling()([codings_mean, codings_log_var])\n",
    "variational_encoder = keras.models.Model(\n",
    "    inputs=[inputs], outputs=[codings_mean, codings_log_var, codings])\n",
    "\n",
    "decoder_inputs = keras.layers.Input(shape=[codings_size])\n",
    "x = keras.layers.Dense(100, activation=\"selu\")(decoder_inputs)\n",
    "x = keras.layers.Dense(150, activation=\"selu\")(x)\n",
    "x = keras.layers.Dense(28 * 28, activation=\"sigmoid\")(x)\n",
    "outputs = keras.layers.Reshape([28, 28])(x)\n",
    "variational_decoder = keras.models.Model(inputs=[decoder_inputs], outputs=[outputs])\n",
    "\n",
    "_, _, codings = variational_encoder(inputs)\n",
    "reconstructions = variational_decoder(codings)\n",
    "variational_ae = keras.models.Model(inputs=[inputs], outputs=[reconstructions])\n",
    "\n",
    "# define loss function and add it into the model\n",
    "latent_loss = -0.5 * K.sum(\n",
    "    1 + codings_log_var - K.exp(codings_log_var) - K.square(codings_mean),\n",
    "    axis=-1)\n",
    "variational_ae.add_loss(K.mean(latent_loss) / 784.)\n",
    "variational_ae.compile(loss=\"binary_crossentropy\", optimizer=\"rmsprop\", metrics=[rounded_accuracy])"
   ]
  },
  {
   "cell_type": "code",
   "execution_count": null,
   "metadata": {
    "execution": {
     "iopub.execute_input": "2024-01-10T00:47:11.183204Z",
     "iopub.status.busy": "2024-01-10T00:47:11.181709Z",
     "iopub.status.idle": "2024-01-10T00:48:18.116307Z",
     "shell.execute_reply": "2024-01-10T00:48:18.115662Z"
    },
    "slideshow": {
     "slide_type": "subslide"
    },
    "tags": [
     "hide-output"
    ]
   },
   "outputs": [],
   "source": [
    "history = variational_ae.fit(X_train, X_train, epochs=25, batch_size=128,\n",
    "                             validation_data=(X_valid, X_valid))"
   ]
  },
  {
   "cell_type": "code",
   "execution_count": 43,
   "metadata": {
    "execution": {
     "iopub.execute_input": "2024-01-10T00:48:18.119745Z",
     "iopub.status.busy": "2024-01-10T00:48:18.119315Z",
     "iopub.status.idle": "2024-01-10T00:48:18.484245Z",
     "shell.execute_reply": "2024-01-10T00:48:18.483578Z"
    },
    "slideshow": {
     "slide_type": "subslide"
    }
   },
   "outputs": [
    {
     "name": "stdout",
     "output_type": "stream",
     "text": [
      "\r\n",
      "1/1 [==============================] - ETA: 0s"
     ]
    },
    {
     "name": "stdout",
     "output_type": "stream",
     "text": [
      "\b\b\b\b\b\b\b\b\b\b\b\b\b\b\b\b\b\b\b\b\b\b\b\b\b\b\b\b\b\b\b\b\b\b\b\b\b\b\b\b\b\b\b\b\b\b\r\n",
      "1/1 [==============================] - 0s 109ms/step\n"
     ]
    },
    {
     "data": {
      "image/png": "[encoded data removed]",
      "text/plain": [
       "<Figure size 750x300 with 10 Axes>"
      ]
     },
     "metadata": {},
     "output_type": "display_data"
    }
   ],
   "source": [
    "show_reconstructions(variational_ae)\n",
    "plt.show()"
   ]
  },
  {
   "cell_type": "markdown",
   "metadata": {
    "slideshow": {
     "slide_type": "slide"
    }
   },
   "source": [
    "## Generate Fashion Images"
   ]
  },
  {
   "cell_type": "code",
   "execution_count": 44,
   "metadata": {
    "execution": {
     "iopub.execute_input": "2024-01-10T00:48:18.487826Z",
     "iopub.status.busy": "2024-01-10T00:48:18.487577Z",
     "iopub.status.idle": "2024-01-10T00:48:18.493531Z",
     "shell.execute_reply": "2024-01-10T00:48:18.492908Z"
    }
   },
   "outputs": [],
   "source": [
    "def plot_multiple_images(images, n_cols=None):\n",
    "    n_cols = n_cols or len(images)\n",
    "    n_rows = (len(images) - 1) // n_cols + 1\n",
    "    if images.shape[-1] == 1:\n",
    "        images = np.squeeze(images, axis=-1)\n",
    "    plt.figure(figsize=(n_cols, n_rows))\n",
    "    for index, image in enumerate(images):\n",
    "        plt.subplot(n_rows, n_cols, index + 1)\n",
    "        plt.imshow(image, cmap=\"binary\")\n",
    "        plt.axis(\"off\")"
   ]
  },
  {
   "cell_type": "code",
   "execution_count": 45,
   "metadata": {
    "execution": {
     "iopub.execute_input": "2024-01-10T00:48:18.496951Z",
     "iopub.status.busy": "2024-01-10T00:48:18.496712Z",
     "iopub.status.idle": "2024-01-10T00:48:18.809221Z",
     "shell.execute_reply": "2024-01-10T00:48:18.808538Z"
    }
   },
   "outputs": [
    {
     "data": {
      "image/png": "[encoded data removed]",
      "text/plain": [
       "<Figure size 400x300 with 12 Axes>"
      ]
     },
     "metadata": {},
     "output_type": "display_data"
    }
   ],
   "source": [
    "tf.random.set_seed(42)\n",
    "\n",
    "codings = tf.random.normal(shape=[12, codings_size])\n",
    "images = variational_decoder(codings).numpy()\n",
    "plot_multiple_images(images, 4)\n",
    "save_fig(\"vae_generated_images_plot\", tight_layout=False)"
   ]
  },
  {
   "cell_type": "markdown",
   "metadata": {
    "slideshow": {
     "slide_type": "slide"
    }
   },
   "source": [
    "## No Exercise! \n",
    "\n",
    "* Instead go through these slides and understand the functionality \n",
    "* Also read and look at examples e.g. here https://www.learnopencv.com/understanding-autoencoders-using-tensorflow-python/\n",
    "    "
   ]
  }
 ],
 "metadata": {
  "celltoolbar": "Slideshow",
  "kernelspec": {
   "display_name": "Python 3 (ipykernel)",
   "language": "python",
   "name": "python3"
  },
  "language_info": {
   "codemirror_mode": {
    "name": "ipython",
    "version": 3
   },
   "file_extension": ".py",
   "mimetype": "text/x-python",
   "name": "python",
   "nbconvert_exporter": "python",
   "pygments_lexer": "ipython3",
   "version": "3.11.7"
  }
 },
 "nbformat": 4,
 "nbformat_minor": 4
}
