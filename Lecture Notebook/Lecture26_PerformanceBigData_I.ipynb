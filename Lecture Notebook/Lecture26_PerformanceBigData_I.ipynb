{
 "cells": [
  {
   "cell_type": "markdown",
   "id": "49e16911",
   "metadata": {
    "slideshow": {
     "slide_type": "slide"
    }
   },
   "source": [
    "# Lecture 26: Performance of big data problems I"
   ]
  },
  {
   "cell_type": "markdown",
   "id": "b8cd4f95",
   "metadata": {
    "slideshow": {
     "slide_type": "skip"
    }
   },
   "source": [
    "![](https://www.tensorflow.org/images/colab_logo_32px.png)\n",
    "[Run in colab](https://colab.research.google.com/drive/1vHw5g_D6goE6v42FTaEzKSJaqvieaNF-)"
   ]
  },
  {
   "cell_type": "code",
   "execution_count": 1,
   "id": "d3ecd033",
   "metadata": {
    "execution": {
     "iopub.execute_input": "2024-01-10T00:49:05.137283Z",
     "iopub.status.busy": "2024-01-10T00:49:05.136901Z",
     "iopub.status.idle": "2024-01-10T00:49:05.145939Z",
     "shell.execute_reply": "2024-01-10T00:49:05.145327Z"
    },
    "slideshow": {
     "slide_type": "skip"
    }
   },
   "outputs": [
    {
     "name": "stdout",
     "output_type": "stream",
     "text": [
      "Last executed: 2024-01-10 00:49:05\n"
     ]
    }
   ],
   "source": [
    "import datetime\n",
    "now = datetime.datetime.now()\n",
    "print(\"Last executed: \" + now.strftime(\"%Y-%m-%d %H:%M:%S\"))"
   ]
  },
  {
   "cell_type": "markdown",
   "id": "a1a7d193",
   "metadata": {
    "slideshow": {
     "slide_type": "subslide"
    }
   },
   "source": [
    "Sometimes, theoretical solutions and algorithms cannot be used in practice.\n",
    "\n",
    "Particularly when dealing with \"big data\", the size of the datasets and the resources at our disposal impose more limits on what computations we can realistically do."
   ]
  },
  {
   "cell_type": "markdown",
   "id": "bd2be454",
   "metadata": {
    "slideshow": {
     "slide_type": "slide"
    }
   },
   "source": [
    "## Performance issues\n",
    "\n",
    "Even when a solution for a problem exists in theory, in practice we are bound by **limited resources**:\n",
    "\n",
    "- Memory size: can we keep everything we need in memory or do we need to write to the disk often?\n",
    "- CPU power: will the computation end in a reasonable time?\n",
    "- Network bandwidth: can we transfer everything we need?"
   ]
  },
  {
   "cell_type": "markdown",
   "id": "57bef056",
   "metadata": {
    "slideshow": {
     "slide_type": "subslide"
    }
   },
   "source": [
    "Just because we can solve a problem on a small dataset doesn't guarantee that we can do it for large ones!\n",
    "\n",
    "We must also consider the **scaling behaviour**: a dataset that is 10x larger may require much more than 10x longer to process.\n",
    "\n",
    "The way an algorithm scales with the size of the input $N$ is sometimes expressed in the asymptotic O (\"big oh\")-notation. For example:\n",
    "- $O(N)$: linear in the size of the input.\n",
    "- $O(N^2)$: quadratic in the size of the input.\n",
    "- $O(2^N)$: exponential in the size of the input."
   ]
  },
  {
   "cell_type": "markdown",
   "id": "868fdf0e",
   "metadata": {
    "slideshow": {
     "slide_type": "subslide"
    }
   },
   "source": [
    "The choice of algorithm can have a significant effect in how it can handle large input data:\n",
    "\n",
    "![Diagram showing linear, logarithmic and quadratic growth, with the latter being much more pronounced](https://raw.githubusercontent.com/astro-informatics/course_mlbd_images/master/Lecture26_Images/complexities.png)"
   ]
  },
  {
   "cell_type": "markdown",
   "id": "f2a1f415",
   "metadata": {
    "slideshow": {
     "slide_type": "slide"
    }
   },
   "source": [
    "## Improving resources\n",
    "\n",
    "An obvious approach is to throw more resources at the problem: more memory, faster networks, better processors. However:\n",
    "- we need to make sure it's the right resource! (hence: profiling to understand resource consumption and bottlenecks)\n",
    "- not always available\n",
    "- other considerations e.g. energy consumption"
   ]
  },
  {
   "cell_type": "markdown",
   "id": "2784a6b0",
   "metadata": {
    "slideshow": {
     "slide_type": "subslide"
    }
   },
   "source": [
    "### Cloud computing\n",
    "\n",
    "A paradigm that is becoming very popular recently is the use of **cloud resources**: storage and computing resources held remotely and available on request.\n",
    "\n",
    "We saw an example of this in Lecture 22 when downloading data from S3 (Amazon Web Services)."
   ]
  },
  {
   "cell_type": "markdown",
   "id": "f883f5d9",
   "metadata": {
    "slideshow": {
     "slide_type": "fragment"
    }
   },
   "source": [
    "Major providers include Amazon Web Services, Microsoft Azure and Google Cloud Platform. They offer a variety of resources, such as:\n",
    "- Storage (both files and various databases).\n",
    "- Compute (virtual machines, clusters for parallel computing, GPUs).\n",
    "- Services (instances of popular programs like Tensorflow)."
   ]
  },
  {
   "cell_type": "markdown",
   "id": "10c6e31c",
   "metadata": {
    "slideshow": {
     "slide_type": "subslide"
    }
   },
   "source": [
    "This offers several advantages:\n",
    "- Flexibility: resources can be requested as and when needed, and can be scaled up or down depending on requirements.\n",
    "- No maintenance: updates etc are usually taken care of automatically by the provider.\n",
    "- Easy setup: can use a service without worrying about setting up the infrastructure for it."
   ]
  },
  {
   "cell_type": "markdown",
   "id": "94922c51",
   "metadata": {
    "slideshow": {
     "slide_type": "fragment"
    }
   },
   "source": [
    "However, there are also considerations to keep in mind:\n",
    "- Cost: can be difficult to predict.\n",
    "- Limited ability to customise (compared to setting it up yourself).\n",
    "- Geographical constraints for data storage and processing (e.g. latency, personal data)."
   ]
  },
  {
   "cell_type": "markdown",
   "id": "69345728",
   "metadata": {
    "slideshow": {
     "slide_type": "subslide"
    }
   },
   "source": [
    "### Alternative approaches\n",
    "\n",
    "Instead of using more or bigger resources, we could look at different kinds of technologies and computational approaches:\n",
    "- Different language(s), libraries, algorithms.\n",
    "- Accelerator devices such as graphics processing units.\n",
    "- Clusters / parallel and distributed processing.\n",
    "\n",
    "These usually involve more work in adapting the solution but, if effective, can yield important benefits."
   ]
  },
  {
   "cell_type": "markdown",
   "id": "fa98393f",
   "metadata": {
    "slideshow": {
     "slide_type": "slide"
    }
   },
   "source": [
    "## Breaking down the task\n",
    "\n",
    "A small resource (e.g. computer) can handle a small task:\n",
    "\n",
    "<img src=\"https://raw.githubusercontent.com/astro-informatics/course_mlbd_images/master/Lecture26_Images/task.png\" width=\"300px\" alt=\"A small task represented by a blue circle, matched to a small computer.\"/>"
   ]
  },
  {
   "cell_type": "markdown",
   "id": "dc573206",
   "metadata": {
    "slideshow": {
     "slide_type": "subslide"
    }
   },
   "source": [
    "Faced with a large task, instead of increasing resources...\n",
    "\n",
    "<img src=\"https://raw.githubusercontent.com/astro-informatics/course_mlbd_images/master/Lecture26_Images/task.png\" width=\"600px\" alt=\"A large task represented by a large blue circle, matched to a large computer.\"/>"
   ]
  },
  {
   "cell_type": "markdown",
   "id": "89fa6fb4",
   "metadata": {
    "slideshow": {
     "slide_type": "subslide"
    }
   },
   "source": [
    "...break it down into smaller tasks:\n",
    "\n",
    "<img src=\"https://raw.githubusercontent.com/astro-informatics/course_mlbd_images/master/Lecture26_Images/tasks_many.png\" width=\"500px\" alt=\"A large task being split into many smaller ones, each matched to a small computer.\"/>"
   ]
  },
  {
   "cell_type": "markdown",
   "id": "ddfd1d22",
   "metadata": {
    "slideshow": {
     "slide_type": "subslide"
    }
   },
   "source": [
    "This is still not trivial:\n",
    "\n",
    "- Does the algorithm support it?\n",
    "- Can we efficiently combine results?\n",
    "- Is there support for doing it on the hardware?"
   ]
  },
  {
   "cell_type": "markdown",
   "id": "09a54342",
   "metadata": {
    "slideshow": {
     "slide_type": "subslide"
    }
   },
   "source": [
    "### Changing algorithms\n",
    "\n",
    "- Reformulate in different steps that allow separation.\n",
    "- Maximize degree of parallelism.\n",
    "- Minimize communication.\n",
    "- Maintain correctness, avoid problems e.g. deadlock."
   ]
  },
  {
   "cell_type": "markdown",
   "id": "f1f82ce4",
   "metadata": {
    "slideshow": {
     "slide_type": "subslide"
    }
   },
   "source": [
    "### MapReduce\n",
    "\n",
    "How do we efficiently break down big tasks and combine results?\n",
    "\n",
    "- Break down data into smaller chunks.\n",
    "- Handle each chunk separately.\n",
    "- Gather together results from smaller chunks.\n",
    "- Combine smaller results to form result from whole input.\n",
    "\n",
    "Mappers usually generate data with key-value pairs and sort the data by key when needed. "
   ]
  },
  {
   "cell_type": "markdown",
   "id": "21ea48ae",
   "metadata": {
    "slideshow": {
     "slide_type": "subslide"
    }
   },
   "source": [
    "<img src=\"https://raw.githubusercontent.com/astro-informatics/course_mlbd_images/master/Lecture26_Images/hadoop.png\" alt=\"Schematic of the Map Reduce approach taken from Park et al 2016.\"/>\n",
    "\n",
    "From Park et al., [\"In-Storage Computing for Hadoop MapReduce Framework: Challenges and Possibilities\"](https://ieeexplore.ieee.org/document/7524716) (2016, DOI:0.1109/TC.2016.2595566)"
   ]
  },
  {
   "cell_type": "markdown",
   "id": "0fa5576c",
   "metadata": {
    "slideshow": {
     "slide_type": "slide"
    }
   },
   "source": [
    "## Summary\n",
    "\n",
    "- The size of big data poses difficulties on conventional processing.\n",
    "- Using more powerful resources is a possibility, but sometimes a paradigm change is needed.\n",
    "- Conversion (such as by distributing computation) is not always straightforward but frameworks offer support."
   ]
  }
 ],
 "metadata": {
  "celltoolbar": "Slideshow",
  "kernelspec": {
   "display_name": "Python 3 (ipykernel)",
   "language": "python",
   "name": "python3"
  },
  "language_info": {
   "codemirror_mode": {
    "name": "ipython",
    "version": 3
   },
   "file_extension": ".py",
   "mimetype": "text/x-python",
   "name": "python",
   "nbconvert_exporter": "python",
   "pygments_lexer": "ipython3",
   "version": "3.8.18"
  }
 },
 "nbformat": 4,
 "nbformat_minor": 5
}
